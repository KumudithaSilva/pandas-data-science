{
 "cells": [
  {
   "cell_type": "markdown",
   "id": "b4fae9be",
   "metadata": {},
   "source": [
    "##  📚 Essential Basic Functionality\n",
    "\n",
    "> Pandas is a foundational library in Python for working with structured data. It provides fast, flexible, and expressive tools designed to make data analysis and manipulation easy and intuitive. There are several essential functionalities that are fundamental to using Pandas effectively."
   ]
  },
  {
   "cell_type": "code",
   "execution_count": 79,
   "id": "c0f2c309",
   "metadata": {},
   "outputs": [],
   "source": [
    "import pandas as pd\n",
    "import numpy as np"
   ]
  },
  {
   "cell_type": "markdown",
   "id": "fd22bfbc",
   "metadata": {},
   "source": [
    "### Head and tail\n",
    "\n",
    "- Head shows the first 5 rows by default.\n",
    "- Tail shows the last 5 rows by default."
   ]
  },
  {
   "cell_type": "code",
   "execution_count": 80,
   "id": "fd90708a",
   "metadata": {},
   "outputs": [
    {
     "data": {
      "text/plain": [
       "0   -0.689224\n",
       "1    0.348209\n",
       "2    1.399586\n",
       "3    0.648451\n",
       "4   -0.042166\n",
       "5   -0.181030\n",
       "6    0.689165\n",
       "7   -1.166976\n",
       "8   -0.139918\n",
       "9    1.465724\n",
       "dtype: float64"
      ]
     },
     "execution_count": 80,
     "metadata": {},
     "output_type": "execute_result"
    }
   ],
   "source": [
    "long_series = pd.Series(np.random.randn(10))\n",
    "long_series"
   ]
  },
  {
   "cell_type": "code",
   "execution_count": 81,
   "id": "a4aa9f8a",
   "metadata": {},
   "outputs": [
    {
     "data": {
      "text/plain": [
       "0   -0.689224\n",
       "1    0.348209\n",
       "2    1.399586\n",
       "3    0.648451\n",
       "4   -0.042166\n",
       "dtype: float64"
      ]
     },
     "execution_count": 81,
     "metadata": {},
     "output_type": "execute_result"
    }
   ],
   "source": [
    "# Head\n",
    "long_series.head()"
   ]
  },
  {
   "cell_type": "code",
   "execution_count": 82,
   "id": "4b97b51d",
   "metadata": {},
   "outputs": [
    {
     "data": {
      "text/plain": [
       "5   -0.181030\n",
       "6    0.689165\n",
       "7   -1.166976\n",
       "8   -0.139918\n",
       "9    1.465724\n",
       "dtype: float64"
      ]
     },
     "execution_count": 82,
     "metadata": {},
     "output_type": "execute_result"
    }
   ],
   "source": [
    "# Tail\n",
    "long_series.tail()"
   ]
  },
  {
   "cell_type": "markdown",
   "id": "3c7fe8d8",
   "metadata": {},
   "source": [
    "### Attributes and underlying data\n",
    "\n",
    "- shape: gives the axis dimensions of the object, consistent with ndarray\n",
    "- Axis labels:\n",
    "    - Series: index (only axis)\n",
    "    - DataFrame: index and columns\n"
   ]
  },
  {
   "cell_type": "code",
   "execution_count": 83,
   "id": "9669941b",
   "metadata": {},
   "outputs": [
    {
     "data": {
      "text/html": [
       "<div>\n",
       "<style scoped>\n",
       "    .dataframe tbody tr th:only-of-type {\n",
       "        vertical-align: middle;\n",
       "    }\n",
       "\n",
       "    .dataframe tbody tr th {\n",
       "        vertical-align: top;\n",
       "    }\n",
       "\n",
       "    .dataframe thead th {\n",
       "        text-align: right;\n",
       "    }\n",
       "</style>\n",
       "<table border=\"1\" class=\"dataframe\">\n",
       "  <thead>\n",
       "    <tr style=\"text-align: right;\">\n",
       "      <th></th>\n",
       "      <th>A</th>\n",
       "      <th>B</th>\n",
       "      <th>C</th>\n",
       "      <th>D</th>\n",
       "    </tr>\n",
       "  </thead>\n",
       "  <tbody>\n",
       "    <tr>\n",
       "      <th>2023-01-01</th>\n",
       "      <td>1.837064</td>\n",
       "      <td>1.042564</td>\n",
       "      <td>-0.761390</td>\n",
       "      <td>-0.618853</td>\n",
       "    </tr>\n",
       "    <tr>\n",
       "      <th>2023-01-02</th>\n",
       "      <td>-0.999651</td>\n",
       "      <td>0.484799</td>\n",
       "      <td>-1.147667</td>\n",
       "      <td>0.146210</td>\n",
       "    </tr>\n",
       "    <tr>\n",
       "      <th>2023-01-03</th>\n",
       "      <td>-0.379719</td>\n",
       "      <td>0.762485</td>\n",
       "      <td>1.552791</td>\n",
       "      <td>-0.581352</td>\n",
       "    </tr>\n",
       "    <tr>\n",
       "      <th>2023-01-04</th>\n",
       "      <td>-0.928584</td>\n",
       "      <td>0.246040</td>\n",
       "      <td>0.081626</td>\n",
       "      <td>0.104537</td>\n",
       "    </tr>\n",
       "    <tr>\n",
       "      <th>2023-01-05</th>\n",
       "      <td>-1.019793</td>\n",
       "      <td>0.040928</td>\n",
       "      <td>0.661453</td>\n",
       "      <td>-1.529816</td>\n",
       "    </tr>\n",
       "    <tr>\n",
       "      <th>2023-01-06</th>\n",
       "      <td>0.611108</td>\n",
       "      <td>0.378010</td>\n",
       "      <td>-1.732451</td>\n",
       "      <td>0.701533</td>\n",
       "    </tr>\n",
       "    <tr>\n",
       "      <th>2023-01-07</th>\n",
       "      <td>0.668816</td>\n",
       "      <td>-1.113682</td>\n",
       "      <td>-0.199704</td>\n",
       "      <td>-0.793241</td>\n",
       "    </tr>\n",
       "    <tr>\n",
       "      <th>2023-01-08</th>\n",
       "      <td>0.298669</td>\n",
       "      <td>-1.578383</td>\n",
       "      <td>0.861584</td>\n",
       "      <td>0.389650</td>\n",
       "    </tr>\n",
       "    <tr>\n",
       "      <th>2023-01-09</th>\n",
       "      <td>-2.111644</td>\n",
       "      <td>-1.438865</td>\n",
       "      <td>-0.376393</td>\n",
       "      <td>-2.032228</td>\n",
       "    </tr>\n",
       "    <tr>\n",
       "      <th>2023-01-10</th>\n",
       "      <td>-0.681041</td>\n",
       "      <td>1.640821</td>\n",
       "      <td>-0.950361</td>\n",
       "      <td>-1.429081</td>\n",
       "    </tr>\n",
       "  </tbody>\n",
       "</table>\n",
       "</div>"
      ],
      "text/plain": [
       "                   A         B         C         D\n",
       "2023-01-01  1.837064  1.042564 -0.761390 -0.618853\n",
       "2023-01-02 -0.999651  0.484799 -1.147667  0.146210\n",
       "2023-01-03 -0.379719  0.762485  1.552791 -0.581352\n",
       "2023-01-04 -0.928584  0.246040  0.081626  0.104537\n",
       "2023-01-05 -1.019793  0.040928  0.661453 -1.529816\n",
       "2023-01-06  0.611108  0.378010 -1.732451  0.701533\n",
       "2023-01-07  0.668816 -1.113682 -0.199704 -0.793241\n",
       "2023-01-08  0.298669 -1.578383  0.861584  0.389650\n",
       "2023-01-09 -2.111644 -1.438865 -0.376393 -2.032228\n",
       "2023-01-10 -0.681041  1.640821 -0.950361 -1.429081"
      ]
     },
     "execution_count": 83,
     "metadata": {},
     "output_type": "execute_result"
    }
   ],
   "source": [
    "index = pd.date_range('20230101', periods=10)\n",
    "df = pd.DataFrame(np.random.randn(10, 4), index=index, columns=list ('ABCD'))\n",
    "df"
   ]
  },
  {
   "cell_type": "code",
   "execution_count": 84,
   "id": "6bb21d28",
   "metadata": {},
   "outputs": [
    {
     "data": {
      "text/html": [
       "<div>\n",
       "<style scoped>\n",
       "    .dataframe tbody tr th:only-of-type {\n",
       "        vertical-align: middle;\n",
       "    }\n",
       "\n",
       "    .dataframe tbody tr th {\n",
       "        vertical-align: top;\n",
       "    }\n",
       "\n",
       "    .dataframe thead th {\n",
       "        text-align: right;\n",
       "    }\n",
       "</style>\n",
       "<table border=\"1\" class=\"dataframe\">\n",
       "  <thead>\n",
       "    <tr style=\"text-align: right;\">\n",
       "      <th></th>\n",
       "      <th>a</th>\n",
       "      <th>b</th>\n",
       "      <th>c</th>\n",
       "      <th>d</th>\n",
       "    </tr>\n",
       "  </thead>\n",
       "  <tbody>\n",
       "    <tr>\n",
       "      <th>2023-01-01</th>\n",
       "      <td>1.837064</td>\n",
       "      <td>1.042564</td>\n",
       "      <td>-0.761390</td>\n",
       "      <td>-0.618853</td>\n",
       "    </tr>\n",
       "    <tr>\n",
       "      <th>2023-01-02</th>\n",
       "      <td>-0.999651</td>\n",
       "      <td>0.484799</td>\n",
       "      <td>-1.147667</td>\n",
       "      <td>0.146210</td>\n",
       "    </tr>\n",
       "    <tr>\n",
       "      <th>2023-01-03</th>\n",
       "      <td>-0.379719</td>\n",
       "      <td>0.762485</td>\n",
       "      <td>1.552791</td>\n",
       "      <td>-0.581352</td>\n",
       "    </tr>\n",
       "    <tr>\n",
       "      <th>2023-01-04</th>\n",
       "      <td>-0.928584</td>\n",
       "      <td>0.246040</td>\n",
       "      <td>0.081626</td>\n",
       "      <td>0.104537</td>\n",
       "    </tr>\n",
       "    <tr>\n",
       "      <th>2023-01-05</th>\n",
       "      <td>-1.019793</td>\n",
       "      <td>0.040928</td>\n",
       "      <td>0.661453</td>\n",
       "      <td>-1.529816</td>\n",
       "    </tr>\n",
       "    <tr>\n",
       "      <th>2023-01-06</th>\n",
       "      <td>0.611108</td>\n",
       "      <td>0.378010</td>\n",
       "      <td>-1.732451</td>\n",
       "      <td>0.701533</td>\n",
       "    </tr>\n",
       "    <tr>\n",
       "      <th>2023-01-07</th>\n",
       "      <td>0.668816</td>\n",
       "      <td>-1.113682</td>\n",
       "      <td>-0.199704</td>\n",
       "      <td>-0.793241</td>\n",
       "    </tr>\n",
       "    <tr>\n",
       "      <th>2023-01-08</th>\n",
       "      <td>0.298669</td>\n",
       "      <td>-1.578383</td>\n",
       "      <td>0.861584</td>\n",
       "      <td>0.389650</td>\n",
       "    </tr>\n",
       "    <tr>\n",
       "      <th>2023-01-09</th>\n",
       "      <td>-2.111644</td>\n",
       "      <td>-1.438865</td>\n",
       "      <td>-0.376393</td>\n",
       "      <td>-2.032228</td>\n",
       "    </tr>\n",
       "    <tr>\n",
       "      <th>2023-01-10</th>\n",
       "      <td>-0.681041</td>\n",
       "      <td>1.640821</td>\n",
       "      <td>-0.950361</td>\n",
       "      <td>-1.429081</td>\n",
       "    </tr>\n",
       "  </tbody>\n",
       "</table>\n",
       "</div>"
      ],
      "text/plain": [
       "                   a         b         c         d\n",
       "2023-01-01  1.837064  1.042564 -0.761390 -0.618853\n",
       "2023-01-02 -0.999651  0.484799 -1.147667  0.146210\n",
       "2023-01-03 -0.379719  0.762485  1.552791 -0.581352\n",
       "2023-01-04 -0.928584  0.246040  0.081626  0.104537\n",
       "2023-01-05 -1.019793  0.040928  0.661453 -1.529816\n",
       "2023-01-06  0.611108  0.378010 -1.732451  0.701533\n",
       "2023-01-07  0.668816 -1.113682 -0.199704 -0.793241\n",
       "2023-01-08  0.298669 -1.578383  0.861584  0.389650\n",
       "2023-01-09 -2.111644 -1.438865 -0.376393 -2.032228\n",
       "2023-01-10 -0.681041  1.640821 -0.950361 -1.429081"
      ]
     },
     "execution_count": 84,
     "metadata": {},
     "output_type": "execute_result"
    }
   ],
   "source": [
    "df.columns = [x.lower() for x in df.columns]\n",
    "df"
   ]
  },
  {
   "cell_type": "markdown",
   "id": "6b861b40",
   "metadata": {},
   "source": [
    "#### Numpy\n",
    "\n",
    "- It is a reliable and consistent method to convert pandas objects to NumPy arrays, offering better control over data types and compatibility with extension types compared other methods."
   ]
  },
  {
   "cell_type": "code",
   "execution_count": 85,
   "id": "dc98654f",
   "metadata": {},
   "outputs": [
    {
     "data": {
      "text/plain": [
       "array([[ 1.83706382,  1.04256356, -0.7613898 , -0.61885317],\n",
       "       [-0.99965119,  0.48479915, -1.14766743,  0.14621045],\n",
       "       [-0.37971922,  0.76248453,  1.55279134, -0.58135211],\n",
       "       [-0.92858406,  0.24603965,  0.08162567,  0.10453674],\n",
       "       [-1.01979306,  0.04092769,  0.66145259, -1.52981608],\n",
       "       [ 0.6111076 ,  0.37800997, -1.7324514 ,  0.7015334 ],\n",
       "       [ 0.66881616, -1.11368163, -0.19970396, -0.7932413 ],\n",
       "       [ 0.29866894, -1.57838284,  0.86158422,  0.38964993],\n",
       "       [-2.1116439 , -1.43886516, -0.37639324, -2.03222798],\n",
       "       [-0.68104087,  1.6408209 , -0.95036057, -1.42908137]])"
      ]
     },
     "execution_count": 85,
     "metadata": {},
     "output_type": "execute_result"
    }
   ],
   "source": [
    "df_numpy = df.to_numpy()\n",
    "df_numpy"
   ]
  },
  {
   "cell_type": "markdown",
   "id": "557a6393",
   "metadata": {},
   "source": [
    "## Matching / broadcasting behavior"
   ]
  },
  {
   "cell_type": "code",
   "execution_count": 86,
   "id": "30650444",
   "metadata": {},
   "outputs": [
    {
     "data": {
      "text/html": [
       "<div>\n",
       "<style scoped>\n",
       "    .dataframe tbody tr th:only-of-type {\n",
       "        vertical-align: middle;\n",
       "    }\n",
       "\n",
       "    .dataframe tbody tr th {\n",
       "        vertical-align: top;\n",
       "    }\n",
       "\n",
       "    .dataframe thead th {\n",
       "        text-align: right;\n",
       "    }\n",
       "</style>\n",
       "<table border=\"1\" class=\"dataframe\">\n",
       "  <thead>\n",
       "    <tr style=\"text-align: right;\">\n",
       "      <th></th>\n",
       "      <th>one</th>\n",
       "      <th>two</th>\n",
       "      <th>three</th>\n",
       "    </tr>\n",
       "  </thead>\n",
       "  <tbody>\n",
       "    <tr>\n",
       "      <th>a</th>\n",
       "      <td>8.0</td>\n",
       "      <td>6.0</td>\n",
       "      <td>9</td>\n",
       "    </tr>\n",
       "    <tr>\n",
       "      <th>b</th>\n",
       "      <td>6.0</td>\n",
       "      <td>7.0</td>\n",
       "      <td>9</td>\n",
       "    </tr>\n",
       "    <tr>\n",
       "      <th>c</th>\n",
       "      <td>8.0</td>\n",
       "      <td>6.0</td>\n",
       "      <td>5</td>\n",
       "    </tr>\n",
       "    <tr>\n",
       "      <th>d</th>\n",
       "      <td>NaN</td>\n",
       "      <td>NaN</td>\n",
       "      <td>6</td>\n",
       "    </tr>\n",
       "  </tbody>\n",
       "</table>\n",
       "</div>"
      ],
      "text/plain": [
       "   one  two  three\n",
       "a  8.0  6.0      9\n",
       "b  6.0  7.0      9\n",
       "c  8.0  6.0      5\n",
       "d  NaN  NaN      6"
      ]
     },
     "execution_count": 86,
     "metadata": {},
     "output_type": "execute_result"
    }
   ],
   "source": [
    "df_mathing_broadcasting = pd.DataFrame(\n",
    "    {\n",
    "        \"one\": pd.Series(np.random.randint(0, 10, 3), index=[\"a\", \"b\", \"c\"]),\n",
    "        \"two\": pd.Series(np.random.randint(0, 10, 3), index=[\"a\", \"b\", \"c\"]),\n",
    "        \"three\": pd.Series(np.random.randint(0, 10, 4), index=[\"a\", \"b\", \"c\", \"d\"]),\n",
    "\n",
    "    }\n",
    ")\n",
    "df_mathing_broadcasting"
   ]
  },
  {
   "cell_type": "markdown",
   "id": "1c47fe18",
   "metadata": {},
   "source": [
    "### Sub\n",
    "\n",
    "- It is a method used to perform subtraction between Series or DataFrames."
   ]
  },
  {
   "cell_type": "code",
   "execution_count": 87,
   "id": "c3f0dc02",
   "metadata": {},
   "outputs": [
    {
     "data": {
      "text/plain": [
       "one      8.0\n",
       "two      6.0\n",
       "three    5.0\n",
       "Name: c, dtype: float64"
      ]
     },
     "execution_count": 87,
     "metadata": {},
     "output_type": "execute_result"
    }
   ],
   "source": [
    "df_sub_l1 = df_mathing_broadcasting.iloc[2]\n",
    "df_sub_l1"
   ]
  },
  {
   "cell_type": "code",
   "execution_count": 88,
   "id": "525bc421",
   "metadata": {},
   "outputs": [
    {
     "data": {
      "text/html": [
       "<div>\n",
       "<style scoped>\n",
       "    .dataframe tbody tr th:only-of-type {\n",
       "        vertical-align: middle;\n",
       "    }\n",
       "\n",
       "    .dataframe tbody tr th {\n",
       "        vertical-align: top;\n",
       "    }\n",
       "\n",
       "    .dataframe thead th {\n",
       "        text-align: right;\n",
       "    }\n",
       "</style>\n",
       "<table border=\"1\" class=\"dataframe\">\n",
       "  <thead>\n",
       "    <tr style=\"text-align: right;\">\n",
       "      <th></th>\n",
       "      <th>one</th>\n",
       "      <th>two</th>\n",
       "      <th>three</th>\n",
       "    </tr>\n",
       "  </thead>\n",
       "  <tbody>\n",
       "    <tr>\n",
       "      <th>a</th>\n",
       "      <td>0.0</td>\n",
       "      <td>0.0</td>\n",
       "      <td>4.0</td>\n",
       "    </tr>\n",
       "    <tr>\n",
       "      <th>b</th>\n",
       "      <td>-2.0</td>\n",
       "      <td>1.0</td>\n",
       "      <td>4.0</td>\n",
       "    </tr>\n",
       "    <tr>\n",
       "      <th>c</th>\n",
       "      <td>0.0</td>\n",
       "      <td>0.0</td>\n",
       "      <td>0.0</td>\n",
       "    </tr>\n",
       "    <tr>\n",
       "      <th>d</th>\n",
       "      <td>NaN</td>\n",
       "      <td>NaN</td>\n",
       "      <td>1.0</td>\n",
       "    </tr>\n",
       "  </tbody>\n",
       "</table>\n",
       "</div>"
      ],
      "text/plain": [
       "   one  two  three\n",
       "a  0.0  0.0    4.0\n",
       "b -2.0  1.0    4.0\n",
       "c  0.0  0.0    0.0\n",
       "d  NaN  NaN    1.0"
      ]
     },
     "execution_count": 88,
     "metadata": {},
     "output_type": "execute_result"
    }
   ],
   "source": [
    "df_mathing_broadcasting.sub(df_sub_l1 , axis=\"columns\")"
   ]
  }
 ],
 "metadata": {
  "kernelspec": {
   "display_name": "ml-sklearn",
   "language": "python",
   "name": "python3"
  },
  "language_info": {
   "codemirror_mode": {
    "name": "ipython",
    "version": 3
   },
   "file_extension": ".py",
   "mimetype": "text/x-python",
   "name": "python",
   "nbconvert_exporter": "python",
   "pygments_lexer": "ipython3",
   "version": "3.11.13"
  }
 },
 "nbformat": 4,
 "nbformat_minor": 5
}

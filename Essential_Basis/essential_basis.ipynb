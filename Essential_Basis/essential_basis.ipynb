{
 "cells": [
  {
   "cell_type": "markdown",
   "id": "b4fae9be",
   "metadata": {},
   "source": [
    "##  📚 Essential Basic Functionality\n",
    "\n",
    "> Pandas is a foundational library in Python for working with structured data. It provides fast, flexible, and expressive tools designed to make data analysis and manipulation easy and intuitive. There are several essential functionalities that are fundamental to using Pandas effectively."
   ]
  },
  {
   "cell_type": "code",
   "execution_count": 1,
   "id": "c0f2c309",
   "metadata": {},
   "outputs": [],
   "source": [
    "import pandas as pd\n",
    "import numpy as np"
   ]
  },
  {
   "cell_type": "markdown",
   "id": "fd22bfbc",
   "metadata": {},
   "source": [
    "### Head and tail\n",
    "\n",
    "- Head shows the first 5 rows by default.\n",
    "- Tail shows the last 5 rows by default."
   ]
  },
  {
   "cell_type": "code",
   "execution_count": 2,
   "id": "fd90708a",
   "metadata": {},
   "outputs": [
    {
     "data": {
      "text/plain": [
       "0    0.361703\n",
       "1    0.531152\n",
       "2   -0.729626\n",
       "3   -0.399157\n",
       "4    0.146409\n",
       "5    1.663781\n",
       "6   -0.502446\n",
       "7   -2.369366\n",
       "8   -1.808889\n",
       "9   -0.055850\n",
       "dtype: float64"
      ]
     },
     "execution_count": 2,
     "metadata": {},
     "output_type": "execute_result"
    }
   ],
   "source": [
    "long_series = pd.Series(np.random.randn(10))\n",
    "long_series"
   ]
  },
  {
   "cell_type": "code",
   "execution_count": 3,
   "id": "a4aa9f8a",
   "metadata": {},
   "outputs": [
    {
     "data": {
      "text/plain": [
       "0    0.361703\n",
       "1    0.531152\n",
       "2   -0.729626\n",
       "3   -0.399157\n",
       "4    0.146409\n",
       "dtype: float64"
      ]
     },
     "execution_count": 3,
     "metadata": {},
     "output_type": "execute_result"
    }
   ],
   "source": [
    "# Head\n",
    "long_series.head()"
   ]
  },
  {
   "cell_type": "code",
   "execution_count": 4,
   "id": "4b97b51d",
   "metadata": {},
   "outputs": [
    {
     "data": {
      "text/plain": [
       "5    1.663781\n",
       "6   -0.502446\n",
       "7   -2.369366\n",
       "8   -1.808889\n",
       "9   -0.055850\n",
       "dtype: float64"
      ]
     },
     "execution_count": 4,
     "metadata": {},
     "output_type": "execute_result"
    }
   ],
   "source": [
    "# Tail\n",
    "long_series.tail()"
   ]
  },
  {
   "cell_type": "markdown",
   "id": "3c7fe8d8",
   "metadata": {},
   "source": [
    "### Attributes and underlying data\n",
    "\n",
    "- shape: gives the axis dimensions of the object, consistent with ndarray\n",
    "- Axis labels:\n",
    "    - Series: index (only axis)\n",
    "    - DataFrame: index and columns\n"
   ]
  },
  {
   "cell_type": "code",
   "execution_count": 5,
   "id": "9669941b",
   "metadata": {},
   "outputs": [
    {
     "data": {
      "text/html": [
       "<div>\n",
       "<style scoped>\n",
       "    .dataframe tbody tr th:only-of-type {\n",
       "        vertical-align: middle;\n",
       "    }\n",
       "\n",
       "    .dataframe tbody tr th {\n",
       "        vertical-align: top;\n",
       "    }\n",
       "\n",
       "    .dataframe thead th {\n",
       "        text-align: right;\n",
       "    }\n",
       "</style>\n",
       "<table border=\"1\" class=\"dataframe\">\n",
       "  <thead>\n",
       "    <tr style=\"text-align: right;\">\n",
       "      <th></th>\n",
       "      <th>A</th>\n",
       "      <th>B</th>\n",
       "      <th>C</th>\n",
       "      <th>D</th>\n",
       "    </tr>\n",
       "  </thead>\n",
       "  <tbody>\n",
       "    <tr>\n",
       "      <th>2023-01-01</th>\n",
       "      <td>0.195951</td>\n",
       "      <td>-0.867703</td>\n",
       "      <td>0.658863</td>\n",
       "      <td>1.732854</td>\n",
       "    </tr>\n",
       "    <tr>\n",
       "      <th>2023-01-02</th>\n",
       "      <td>1.719817</td>\n",
       "      <td>1.521598</td>\n",
       "      <td>1.107960</td>\n",
       "      <td>-0.686281</td>\n",
       "    </tr>\n",
       "    <tr>\n",
       "      <th>2023-01-03</th>\n",
       "      <td>-0.375715</td>\n",
       "      <td>-2.488942</td>\n",
       "      <td>-0.111073</td>\n",
       "      <td>1.889208</td>\n",
       "    </tr>\n",
       "    <tr>\n",
       "      <th>2023-01-04</th>\n",
       "      <td>-0.535895</td>\n",
       "      <td>-1.271560</td>\n",
       "      <td>-0.863320</td>\n",
       "      <td>1.522724</td>\n",
       "    </tr>\n",
       "    <tr>\n",
       "      <th>2023-01-05</th>\n",
       "      <td>-0.466320</td>\n",
       "      <td>0.297649</td>\n",
       "      <td>-1.268906</td>\n",
       "      <td>0.051341</td>\n",
       "    </tr>\n",
       "    <tr>\n",
       "      <th>2023-01-06</th>\n",
       "      <td>1.353237</td>\n",
       "      <td>0.767641</td>\n",
       "      <td>0.803081</td>\n",
       "      <td>1.434357</td>\n",
       "    </tr>\n",
       "    <tr>\n",
       "      <th>2023-01-07</th>\n",
       "      <td>0.528853</td>\n",
       "      <td>-1.080959</td>\n",
       "      <td>0.066283</td>\n",
       "      <td>-0.469669</td>\n",
       "    </tr>\n",
       "    <tr>\n",
       "      <th>2023-01-08</th>\n",
       "      <td>-0.057852</td>\n",
       "      <td>-0.138649</td>\n",
       "      <td>2.171557</td>\n",
       "      <td>-1.373868</td>\n",
       "    </tr>\n",
       "    <tr>\n",
       "      <th>2023-01-09</th>\n",
       "      <td>-1.286524</td>\n",
       "      <td>-0.822890</td>\n",
       "      <td>-1.384414</td>\n",
       "      <td>1.632486</td>\n",
       "    </tr>\n",
       "    <tr>\n",
       "      <th>2023-01-10</th>\n",
       "      <td>0.488170</td>\n",
       "      <td>-1.144366</td>\n",
       "      <td>-0.088328</td>\n",
       "      <td>-0.951186</td>\n",
       "    </tr>\n",
       "  </tbody>\n",
       "</table>\n",
       "</div>"
      ],
      "text/plain": [
       "                   A         B         C         D\n",
       "2023-01-01  0.195951 -0.867703  0.658863  1.732854\n",
       "2023-01-02  1.719817  1.521598  1.107960 -0.686281\n",
       "2023-01-03 -0.375715 -2.488942 -0.111073  1.889208\n",
       "2023-01-04 -0.535895 -1.271560 -0.863320  1.522724\n",
       "2023-01-05 -0.466320  0.297649 -1.268906  0.051341\n",
       "2023-01-06  1.353237  0.767641  0.803081  1.434357\n",
       "2023-01-07  0.528853 -1.080959  0.066283 -0.469669\n",
       "2023-01-08 -0.057852 -0.138649  2.171557 -1.373868\n",
       "2023-01-09 -1.286524 -0.822890 -1.384414  1.632486\n",
       "2023-01-10  0.488170 -1.144366 -0.088328 -0.951186"
      ]
     },
     "execution_count": 5,
     "metadata": {},
     "output_type": "execute_result"
    }
   ],
   "source": [
    "index = pd.date_range('20230101', periods=10)\n",
    "df = pd.DataFrame(np.random.randn(10, 4), index=index, columns=list ('ABCD'))\n",
    "df"
   ]
  },
  {
   "cell_type": "code",
   "execution_count": 6,
   "id": "6bb21d28",
   "metadata": {},
   "outputs": [
    {
     "data": {
      "text/html": [
       "<div>\n",
       "<style scoped>\n",
       "    .dataframe tbody tr th:only-of-type {\n",
       "        vertical-align: middle;\n",
       "    }\n",
       "\n",
       "    .dataframe tbody tr th {\n",
       "        vertical-align: top;\n",
       "    }\n",
       "\n",
       "    .dataframe thead th {\n",
       "        text-align: right;\n",
       "    }\n",
       "</style>\n",
       "<table border=\"1\" class=\"dataframe\">\n",
       "  <thead>\n",
       "    <tr style=\"text-align: right;\">\n",
       "      <th></th>\n",
       "      <th>a</th>\n",
       "      <th>b</th>\n",
       "      <th>c</th>\n",
       "      <th>d</th>\n",
       "    </tr>\n",
       "  </thead>\n",
       "  <tbody>\n",
       "    <tr>\n",
       "      <th>2023-01-01</th>\n",
       "      <td>0.195951</td>\n",
       "      <td>-0.867703</td>\n",
       "      <td>0.658863</td>\n",
       "      <td>1.732854</td>\n",
       "    </tr>\n",
       "    <tr>\n",
       "      <th>2023-01-02</th>\n",
       "      <td>1.719817</td>\n",
       "      <td>1.521598</td>\n",
       "      <td>1.107960</td>\n",
       "      <td>-0.686281</td>\n",
       "    </tr>\n",
       "    <tr>\n",
       "      <th>2023-01-03</th>\n",
       "      <td>-0.375715</td>\n",
       "      <td>-2.488942</td>\n",
       "      <td>-0.111073</td>\n",
       "      <td>1.889208</td>\n",
       "    </tr>\n",
       "    <tr>\n",
       "      <th>2023-01-04</th>\n",
       "      <td>-0.535895</td>\n",
       "      <td>-1.271560</td>\n",
       "      <td>-0.863320</td>\n",
       "      <td>1.522724</td>\n",
       "    </tr>\n",
       "    <tr>\n",
       "      <th>2023-01-05</th>\n",
       "      <td>-0.466320</td>\n",
       "      <td>0.297649</td>\n",
       "      <td>-1.268906</td>\n",
       "      <td>0.051341</td>\n",
       "    </tr>\n",
       "    <tr>\n",
       "      <th>2023-01-06</th>\n",
       "      <td>1.353237</td>\n",
       "      <td>0.767641</td>\n",
       "      <td>0.803081</td>\n",
       "      <td>1.434357</td>\n",
       "    </tr>\n",
       "    <tr>\n",
       "      <th>2023-01-07</th>\n",
       "      <td>0.528853</td>\n",
       "      <td>-1.080959</td>\n",
       "      <td>0.066283</td>\n",
       "      <td>-0.469669</td>\n",
       "    </tr>\n",
       "    <tr>\n",
       "      <th>2023-01-08</th>\n",
       "      <td>-0.057852</td>\n",
       "      <td>-0.138649</td>\n",
       "      <td>2.171557</td>\n",
       "      <td>-1.373868</td>\n",
       "    </tr>\n",
       "    <tr>\n",
       "      <th>2023-01-09</th>\n",
       "      <td>-1.286524</td>\n",
       "      <td>-0.822890</td>\n",
       "      <td>-1.384414</td>\n",
       "      <td>1.632486</td>\n",
       "    </tr>\n",
       "    <tr>\n",
       "      <th>2023-01-10</th>\n",
       "      <td>0.488170</td>\n",
       "      <td>-1.144366</td>\n",
       "      <td>-0.088328</td>\n",
       "      <td>-0.951186</td>\n",
       "    </tr>\n",
       "  </tbody>\n",
       "</table>\n",
       "</div>"
      ],
      "text/plain": [
       "                   a         b         c         d\n",
       "2023-01-01  0.195951 -0.867703  0.658863  1.732854\n",
       "2023-01-02  1.719817  1.521598  1.107960 -0.686281\n",
       "2023-01-03 -0.375715 -2.488942 -0.111073  1.889208\n",
       "2023-01-04 -0.535895 -1.271560 -0.863320  1.522724\n",
       "2023-01-05 -0.466320  0.297649 -1.268906  0.051341\n",
       "2023-01-06  1.353237  0.767641  0.803081  1.434357\n",
       "2023-01-07  0.528853 -1.080959  0.066283 -0.469669\n",
       "2023-01-08 -0.057852 -0.138649  2.171557 -1.373868\n",
       "2023-01-09 -1.286524 -0.822890 -1.384414  1.632486\n",
       "2023-01-10  0.488170 -1.144366 -0.088328 -0.951186"
      ]
     },
     "execution_count": 6,
     "metadata": {},
     "output_type": "execute_result"
    }
   ],
   "source": [
    "df.columns = [x.lower() for x in df.columns]\n",
    "df"
   ]
  },
  {
   "cell_type": "markdown",
   "id": "6b861b40",
   "metadata": {},
   "source": [
    "#### Numpy\n",
    "\n",
    "- It is a reliable and consistent method to convert pandas objects to NumPy arrays, offering better control over data types and compatibility with extension types compared other methods."
   ]
  },
  {
   "cell_type": "code",
   "execution_count": 7,
   "id": "dc98654f",
   "metadata": {},
   "outputs": [
    {
     "data": {
      "text/plain": [
       "array([[ 0.19595065, -0.86770305,  0.65886291,  1.73285379],\n",
       "       [ 1.71981727,  1.52159782,  1.10795966, -0.68628149],\n",
       "       [-0.37571487, -2.48894164, -0.11107342,  1.88920798],\n",
       "       [-0.53589531, -1.27156034, -0.86331967,  1.52272447],\n",
       "       [-0.46632014,  0.29764864, -1.26890564,  0.05134071],\n",
       "       [ 1.35323735,  0.76764109,  0.80308148,  1.43435682],\n",
       "       [ 0.52885318, -1.08095872,  0.06628292, -0.46966863],\n",
       "       [-0.05785166, -0.13864885,  2.17155736, -1.3738685 ],\n",
       "       [-1.28652362, -0.82288953, -1.38441419,  1.63248582],\n",
       "       [ 0.4881698 , -1.14436556, -0.08832809, -0.95118638]])"
      ]
     },
     "execution_count": 7,
     "metadata": {},
     "output_type": "execute_result"
    }
   ],
   "source": [
    "df_numpy = df.to_numpy()\n",
    "df_numpy"
   ]
  },
  {
   "cell_type": "markdown",
   "id": "557a6393",
   "metadata": {},
   "source": [
    "## Matching / broadcasting behavior"
   ]
  },
  {
   "cell_type": "code",
   "execution_count": 8,
   "id": "30650444",
   "metadata": {},
   "outputs": [
    {
     "data": {
      "text/html": [
       "<div>\n",
       "<style scoped>\n",
       "    .dataframe tbody tr th:only-of-type {\n",
       "        vertical-align: middle;\n",
       "    }\n",
       "\n",
       "    .dataframe tbody tr th {\n",
       "        vertical-align: top;\n",
       "    }\n",
       "\n",
       "    .dataframe thead th {\n",
       "        text-align: right;\n",
       "    }\n",
       "</style>\n",
       "<table border=\"1\" class=\"dataframe\">\n",
       "  <thead>\n",
       "    <tr style=\"text-align: right;\">\n",
       "      <th></th>\n",
       "      <th>one</th>\n",
       "      <th>two</th>\n",
       "      <th>three</th>\n",
       "    </tr>\n",
       "  </thead>\n",
       "  <tbody>\n",
       "    <tr>\n",
       "      <th>a</th>\n",
       "      <td>0.0</td>\n",
       "      <td>5.0</td>\n",
       "      <td>3</td>\n",
       "    </tr>\n",
       "    <tr>\n",
       "      <th>b</th>\n",
       "      <td>9.0</td>\n",
       "      <td>5.0</td>\n",
       "      <td>2</td>\n",
       "    </tr>\n",
       "    <tr>\n",
       "      <th>c</th>\n",
       "      <td>1.0</td>\n",
       "      <td>9.0</td>\n",
       "      <td>8</td>\n",
       "    </tr>\n",
       "    <tr>\n",
       "      <th>d</th>\n",
       "      <td>NaN</td>\n",
       "      <td>NaN</td>\n",
       "      <td>2</td>\n",
       "    </tr>\n",
       "  </tbody>\n",
       "</table>\n",
       "</div>"
      ],
      "text/plain": [
       "   one  two  three\n",
       "a  0.0  5.0      3\n",
       "b  9.0  5.0      2\n",
       "c  1.0  9.0      8\n",
       "d  NaN  NaN      2"
      ]
     },
     "execution_count": 8,
     "metadata": {},
     "output_type": "execute_result"
    }
   ],
   "source": [
    "df_mathing_broadcasting = pd.DataFrame(\n",
    "    {\n",
    "        \"one\": pd.Series(np.random.randint(0, 10, 3), index=[\"a\", \"b\", \"c\"]),\n",
    "        \"two\": pd.Series(np.random.randint(0, 10, 3), index=[\"a\", \"b\", \"c\"]),\n",
    "        \"three\": pd.Series(np.random.randint(0, 10, 4), index=[\"a\", \"b\", \"c\", \"d\"]),\n",
    "\n",
    "    }\n",
    ")\n",
    "df_mathing_broadcasting"
   ]
  },
  {
   "cell_type": "markdown",
   "id": "1c47fe18",
   "metadata": {},
   "source": [
    "### Sub\n",
    "\n",
    "- It is a method used to perform subtraction between Series or DataFrames."
   ]
  },
  {
   "cell_type": "code",
   "execution_count": 9,
   "id": "c3f0dc02",
   "metadata": {},
   "outputs": [
    {
     "data": {
      "text/plain": [
       "one      1.0\n",
       "two      9.0\n",
       "three    8.0\n",
       "Name: c, dtype: float64"
      ]
     },
     "execution_count": 9,
     "metadata": {},
     "output_type": "execute_result"
    }
   ],
   "source": [
    "df_sub_l1 = df_mathing_broadcasting.iloc[2]\n",
    "df_sub_l1"
   ]
  },
  {
   "cell_type": "code",
   "execution_count": 10,
   "id": "525bc421",
   "metadata": {},
   "outputs": [
    {
     "data": {
      "text/html": [
       "<div>\n",
       "<style scoped>\n",
       "    .dataframe tbody tr th:only-of-type {\n",
       "        vertical-align: middle;\n",
       "    }\n",
       "\n",
       "    .dataframe tbody tr th {\n",
       "        vertical-align: top;\n",
       "    }\n",
       "\n",
       "    .dataframe thead th {\n",
       "        text-align: right;\n",
       "    }\n",
       "</style>\n",
       "<table border=\"1\" class=\"dataframe\">\n",
       "  <thead>\n",
       "    <tr style=\"text-align: right;\">\n",
       "      <th></th>\n",
       "      <th>one</th>\n",
       "      <th>two</th>\n",
       "      <th>three</th>\n",
       "    </tr>\n",
       "  </thead>\n",
       "  <tbody>\n",
       "    <tr>\n",
       "      <th>a</th>\n",
       "      <td>-1.0</td>\n",
       "      <td>-4.0</td>\n",
       "      <td>-5.0</td>\n",
       "    </tr>\n",
       "    <tr>\n",
       "      <th>b</th>\n",
       "      <td>8.0</td>\n",
       "      <td>-4.0</td>\n",
       "      <td>-6.0</td>\n",
       "    </tr>\n",
       "    <tr>\n",
       "      <th>c</th>\n",
       "      <td>0.0</td>\n",
       "      <td>0.0</td>\n",
       "      <td>0.0</td>\n",
       "    </tr>\n",
       "    <tr>\n",
       "      <th>d</th>\n",
       "      <td>NaN</td>\n",
       "      <td>NaN</td>\n",
       "      <td>-6.0</td>\n",
       "    </tr>\n",
       "  </tbody>\n",
       "</table>\n",
       "</div>"
      ],
      "text/plain": [
       "   one  two  three\n",
       "a -1.0 -4.0   -5.0\n",
       "b  8.0 -4.0   -6.0\n",
       "c  0.0  0.0    0.0\n",
       "d  NaN  NaN   -6.0"
      ]
     },
     "execution_count": 10,
     "metadata": {},
     "output_type": "execute_result"
    }
   ],
   "source": [
    "df_mathing_broadcasting.sub(df_sub_l1 , axis=\"columns\")"
   ]
  },
  {
   "cell_type": "markdown",
   "id": "6743e809",
   "metadata": {},
   "source": [
    "## Missing data / operations with fill values"
   ]
  },
  {
   "cell_type": "code",
   "execution_count": 11,
   "id": "47d44b89",
   "metadata": {},
   "outputs": [
    {
     "data": {
      "text/html": [
       "<div>\n",
       "<style scoped>\n",
       "    .dataframe tbody tr th:only-of-type {\n",
       "        vertical-align: middle;\n",
       "    }\n",
       "\n",
       "    .dataframe tbody tr th {\n",
       "        vertical-align: top;\n",
       "    }\n",
       "\n",
       "    .dataframe thead th {\n",
       "        text-align: right;\n",
       "    }\n",
       "</style>\n",
       "<table border=\"1\" class=\"dataframe\">\n",
       "  <thead>\n",
       "    <tr style=\"text-align: right;\">\n",
       "      <th></th>\n",
       "      <th>a</th>\n",
       "      <th>b</th>\n",
       "      <th>c</th>\n",
       "      <th>d</th>\n",
       "    </tr>\n",
       "  </thead>\n",
       "  <tbody>\n",
       "    <tr>\n",
       "      <th>2023-01-01</th>\n",
       "      <td>0.195951</td>\n",
       "      <td>-0.867703</td>\n",
       "      <td>0.658863</td>\n",
       "      <td>1.732854</td>\n",
       "    </tr>\n",
       "    <tr>\n",
       "      <th>2023-01-02</th>\n",
       "      <td>1.719817</td>\n",
       "      <td>1.521598</td>\n",
       "      <td>1.107960</td>\n",
       "      <td>-0.686281</td>\n",
       "    </tr>\n",
       "    <tr>\n",
       "      <th>2023-01-03</th>\n",
       "      <td>-0.375715</td>\n",
       "      <td>-2.488942</td>\n",
       "      <td>NaN</td>\n",
       "      <td>1.889208</td>\n",
       "    </tr>\n",
       "    <tr>\n",
       "      <th>2023-01-04</th>\n",
       "      <td>-0.535895</td>\n",
       "      <td>-1.271560</td>\n",
       "      <td>-0.863320</td>\n",
       "      <td>1.522724</td>\n",
       "    </tr>\n",
       "    <tr>\n",
       "      <th>2023-01-05</th>\n",
       "      <td>-0.466320</td>\n",
       "      <td>0.297649</td>\n",
       "      <td>-1.268906</td>\n",
       "      <td>0.051341</td>\n",
       "    </tr>\n",
       "  </tbody>\n",
       "</table>\n",
       "</div>"
      ],
      "text/plain": [
       "                   a         b         c         d\n",
       "2023-01-01  0.195951 -0.867703  0.658863  1.732854\n",
       "2023-01-02  1.719817  1.521598  1.107960 -0.686281\n",
       "2023-01-03 -0.375715 -2.488942       NaN  1.889208\n",
       "2023-01-04 -0.535895 -1.271560 -0.863320  1.522724\n",
       "2023-01-05 -0.466320  0.297649 -1.268906  0.051341"
      ]
     },
     "execution_count": 11,
     "metadata": {},
     "output_type": "execute_result"
    }
   ],
   "source": [
    "df_filldata = df.copy()\n",
    "df_filldata.iloc[2, 2] = np.nan\n",
    "df_filldata.head()"
   ]
  },
  {
   "cell_type": "code",
   "execution_count": 12,
   "id": "a1b58116",
   "metadata": {},
   "outputs": [
    {
     "data": {
      "text/html": [
       "<div>\n",
       "<style scoped>\n",
       "    .dataframe tbody tr th:only-of-type {\n",
       "        vertical-align: middle;\n",
       "    }\n",
       "\n",
       "    .dataframe tbody tr th {\n",
       "        vertical-align: top;\n",
       "    }\n",
       "\n",
       "    .dataframe thead th {\n",
       "        text-align: right;\n",
       "    }\n",
       "</style>\n",
       "<table border=\"1\" class=\"dataframe\">\n",
       "  <thead>\n",
       "    <tr style=\"text-align: right;\">\n",
       "      <th></th>\n",
       "      <th>a</th>\n",
       "      <th>b</th>\n",
       "      <th>c</th>\n",
       "      <th>d</th>\n",
       "    </tr>\n",
       "  </thead>\n",
       "  <tbody>\n",
       "    <tr>\n",
       "      <th>2023-01-01</th>\n",
       "      <td>0.195951</td>\n",
       "      <td>-0.867703</td>\n",
       "      <td>0.658863</td>\n",
       "      <td>1.732854</td>\n",
       "    </tr>\n",
       "    <tr>\n",
       "      <th>2023-01-02</th>\n",
       "      <td>1.719817</td>\n",
       "      <td>1.521598</td>\n",
       "      <td>1.107960</td>\n",
       "      <td>-0.686281</td>\n",
       "    </tr>\n",
       "    <tr>\n",
       "      <th>2023-01-03</th>\n",
       "      <td>-0.375715</td>\n",
       "      <td>-2.488942</td>\n",
       "      <td>NaN</td>\n",
       "      <td>1.889208</td>\n",
       "    </tr>\n",
       "    <tr>\n",
       "      <th>2023-01-04</th>\n",
       "      <td>-0.535895</td>\n",
       "      <td>-1.271560</td>\n",
       "      <td>-0.863320</td>\n",
       "      <td>1.522724</td>\n",
       "    </tr>\n",
       "    <tr>\n",
       "      <th>2023-01-05</th>\n",
       "      <td>-0.466320</td>\n",
       "      <td>0.297649</td>\n",
       "      <td>-1.268906</td>\n",
       "      <td>0.051341</td>\n",
       "    </tr>\n",
       "  </tbody>\n",
       "</table>\n",
       "</div>"
      ],
      "text/plain": [
       "                   a         b         c         d\n",
       "2023-01-01  0.195951 -0.867703  0.658863  1.732854\n",
       "2023-01-02  1.719817  1.521598  1.107960 -0.686281\n",
       "2023-01-03 -0.375715 -2.488942       NaN  1.889208\n",
       "2023-01-04 -0.535895 -1.271560 -0.863320  1.522724\n",
       "2023-01-05 -0.466320  0.297649 -1.268906  0.051341"
      ]
     },
     "execution_count": 12,
     "metadata": {},
     "output_type": "execute_result"
    }
   ],
   "source": [
    "df_filldata.fillna(np.random.rand())\n",
    "df_filldata.head()"
   ]
  },
  {
   "cell_type": "markdown",
   "id": "00241f33",
   "metadata": {},
   "source": [
    "## Boolean reductions"
   ]
  },
  {
   "cell_type": "markdown",
   "id": "11730a96",
   "metadata": {},
   "source": [
    "- It is a way to summarize a boolean result.\n",
    "-  <code>empty, any(), all(), and bool()</code>"
   ]
  },
  {
   "cell_type": "code",
   "execution_count": 13,
   "id": "ecdbe41e",
   "metadata": {},
   "outputs": [
    {
     "data": {
      "text/html": [
       "<div>\n",
       "<style scoped>\n",
       "    .dataframe tbody tr th:only-of-type {\n",
       "        vertical-align: middle;\n",
       "    }\n",
       "\n",
       "    .dataframe tbody tr th {\n",
       "        vertical-align: top;\n",
       "    }\n",
       "\n",
       "    .dataframe thead th {\n",
       "        text-align: right;\n",
       "    }\n",
       "</style>\n",
       "<table border=\"1\" class=\"dataframe\">\n",
       "  <thead>\n",
       "    <tr style=\"text-align: right;\">\n",
       "      <th></th>\n",
       "      <th>A</th>\n",
       "      <th>B</th>\n",
       "      <th>C</th>\n",
       "    </tr>\n",
       "  </thead>\n",
       "  <tbody>\n",
       "    <tr>\n",
       "      <th>0</th>\n",
       "      <td>1</td>\n",
       "      <td>0</td>\n",
       "      <td>9</td>\n",
       "    </tr>\n",
       "    <tr>\n",
       "      <th>1</th>\n",
       "      <td>2</td>\n",
       "      <td>0</td>\n",
       "      <td>9</td>\n",
       "    </tr>\n",
       "    <tr>\n",
       "      <th>2</th>\n",
       "      <td>3</td>\n",
       "      <td>5</td>\n",
       "      <td>9</td>\n",
       "    </tr>\n",
       "  </tbody>\n",
       "</table>\n",
       "</div>"
      ],
      "text/plain": [
       "   A  B  C\n",
       "0  1  0  9\n",
       "1  2  0  9\n",
       "2  3  5  9"
      ]
     },
     "execution_count": 13,
     "metadata": {},
     "output_type": "execute_result"
    }
   ],
   "source": [
    "df_bool_reduction = pd.DataFrame({\n",
    "    \"A\": [1, 2, 3],\n",
    "    \"B\": [0, 0, 5],\n",
    "    \"C\": [9, 9, 9]\n",
    "})\n",
    "\n",
    "df_bool_reduction"
   ]
  },
  {
   "cell_type": "code",
   "execution_count": 14,
   "id": "6671d6bb",
   "metadata": {},
   "outputs": [
    {
     "data": {
      "text/plain": [
       "A     True\n",
       "B    False\n",
       "C     True\n",
       "dtype: bool"
      ]
     },
     "execution_count": 14,
     "metadata": {},
     "output_type": "execute_result"
    }
   ],
   "source": [
    "(df_bool_reduction > 0).all()"
   ]
  },
  {
   "cell_type": "code",
   "execution_count": 15,
   "id": "bb6e019f",
   "metadata": {},
   "outputs": [
    {
     "data": {
      "text/plain": [
       "A    True\n",
       "B    True\n",
       "C    True\n",
       "dtype: bool"
      ]
     },
     "execution_count": 15,
     "metadata": {},
     "output_type": "execute_result"
    }
   ],
   "source": [
    "(df_bool_reduction > 0).any()"
   ]
  },
  {
   "cell_type": "markdown",
   "id": "6541f78d",
   "metadata": {},
   "source": [
    "## Descriptive statistics"
   ]
  },
  {
   "cell_type": "markdown",
   "id": "24be0bdb",
   "metadata": {},
   "source": [
    "### Index of min/max values"
   ]
  },
  {
   "cell_type": "markdown",
   "id": "998623d0",
   "metadata": {},
   "source": [
    "- idxmin = it return index of first occurrence of minimum over requested axis.\n",
    "- idxmax = it return index of first occurrence of maximum over requested axis."
   ]
  },
  {
   "cell_type": "code",
   "execution_count": 18,
   "id": "7c00b6e7",
   "metadata": {},
   "outputs": [
    {
     "data": {
      "text/html": [
       "<div>\n",
       "<style scoped>\n",
       "    .dataframe tbody tr th:only-of-type {\n",
       "        vertical-align: middle;\n",
       "    }\n",
       "\n",
       "    .dataframe tbody tr th {\n",
       "        vertical-align: top;\n",
       "    }\n",
       "\n",
       "    .dataframe thead th {\n",
       "        text-align: right;\n",
       "    }\n",
       "</style>\n",
       "<table border=\"1\" class=\"dataframe\">\n",
       "  <thead>\n",
       "    <tr style=\"text-align: right;\">\n",
       "      <th></th>\n",
       "      <th>A</th>\n",
       "      <th>B</th>\n",
       "      <th>C</th>\n",
       "    </tr>\n",
       "  </thead>\n",
       "  <tbody>\n",
       "    <tr>\n",
       "      <th>0</th>\n",
       "      <td>0.228394</td>\n",
       "      <td>0.578994</td>\n",
       "      <td>-0.361929</td>\n",
       "    </tr>\n",
       "    <tr>\n",
       "      <th>1</th>\n",
       "      <td>-1.101265</td>\n",
       "      <td>-0.881872</td>\n",
       "      <td>0.468541</td>\n",
       "    </tr>\n",
       "    <tr>\n",
       "      <th>2</th>\n",
       "      <td>-0.934096</td>\n",
       "      <td>-0.723480</td>\n",
       "      <td>1.503736</td>\n",
       "    </tr>\n",
       "    <tr>\n",
       "      <th>3</th>\n",
       "      <td>-0.190544</td>\n",
       "      <td>0.089454</td>\n",
       "      <td>0.002275</td>\n",
       "    </tr>\n",
       "    <tr>\n",
       "      <th>4</th>\n",
       "      <td>2.111255</td>\n",
       "      <td>0.043604</td>\n",
       "      <td>-0.505388</td>\n",
       "    </tr>\n",
       "  </tbody>\n",
       "</table>\n",
       "</div>"
      ],
      "text/plain": [
       "          A         B         C\n",
       "0  0.228394  0.578994 -0.361929\n",
       "1 -1.101265 -0.881872  0.468541\n",
       "2 -0.934096 -0.723480  1.503736\n",
       "3 -0.190544  0.089454  0.002275\n",
       "4  2.111255  0.043604 -0.505388"
      ]
     },
     "execution_count": 18,
     "metadata": {},
     "output_type": "execute_result"
    }
   ],
   "source": [
    "df_max_min = pd.DataFrame(np.random.randn(5, 3), columns=[\"A\", \"B\", \"C\"])\n",
    "df_max_min"
   ]
  },
  {
   "cell_type": "code",
   "execution_count": 22,
   "id": "e4153270",
   "metadata": {},
   "outputs": [
    {
     "data": {
      "text/plain": [
       "A    4\n",
       "B    0\n",
       "C    2\n",
       "dtype: int64"
      ]
     },
     "execution_count": 22,
     "metadata": {},
     "output_type": "execute_result"
    }
   ],
   "source": [
    "df_max_min.idxmax(axis=0)"
   ]
  },
  {
   "cell_type": "code",
   "execution_count": 24,
   "id": "b9c74d49",
   "metadata": {},
   "outputs": [
    {
     "data": {
      "text/plain": [
       "0    C\n",
       "1    A\n",
       "2    A\n",
       "3    A\n",
       "4    C\n",
       "dtype: object"
      ]
     },
     "execution_count": 24,
     "metadata": {},
     "output_type": "execute_result"
    }
   ],
   "source": [
    "df_max_min.idxmin(axis=1)"
   ]
  }
 ],
 "metadata": {
  "kernelspec": {
   "display_name": "sklearn-env",
   "language": "python",
   "name": "python3"
  },
  "language_info": {
   "codemirror_mode": {
    "name": "ipython",
    "version": 3
   },
   "file_extension": ".py",
   "mimetype": "text/x-python",
   "name": "python",
   "nbconvert_exporter": "python",
   "pygments_lexer": "ipython3",
   "version": "3.10.18"
  }
 },
 "nbformat": 4,
 "nbformat_minor": 5
}

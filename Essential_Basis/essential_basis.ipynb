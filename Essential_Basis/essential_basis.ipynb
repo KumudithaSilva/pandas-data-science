{
 "cells": [
  {
   "cell_type": "markdown",
   "id": "b4fae9be",
   "metadata": {},
   "source": [
    "##  📚 Essential Basic Functionality\n",
    "\n",
    "> Pandas is a foundational library in Python for working with structured data. It provides fast, flexible, and expressive tools designed to make data analysis and manipulation easy and intuitive. There are several essential functionalities that are fundamental to using Pandas effectively."
   ]
  },
  {
   "cell_type": "code",
   "execution_count": 1,
   "id": "c0f2c309",
   "metadata": {},
   "outputs": [],
   "source": [
    "import pandas as pd\n",
    "import numpy as np"
   ]
  },
  {
   "cell_type": "markdown",
   "id": "fd22bfbc",
   "metadata": {},
   "source": [
    "### Head and tail\n",
    "\n",
    "- Head shows the first 5 rows by default.\n",
    "- Tail shows the last 5 rows by default."
   ]
  },
  {
   "cell_type": "code",
   "execution_count": 2,
   "id": "fd90708a",
   "metadata": {},
   "outputs": [
    {
     "data": {
      "text/plain": [
       "0    0.457451\n",
       "1    1.041807\n",
       "2    0.346955\n",
       "3    1.410169\n",
       "4   -0.807140\n",
       "5   -1.199769\n",
       "6   -1.707464\n",
       "7    0.738481\n",
       "8    1.157706\n",
       "9   -0.781473\n",
       "dtype: float64"
      ]
     },
     "execution_count": 2,
     "metadata": {},
     "output_type": "execute_result"
    }
   ],
   "source": [
    "long_series = pd.Series(np.random.randn(10))\n",
    "long_series"
   ]
  },
  {
   "cell_type": "code",
   "execution_count": 3,
   "id": "a4aa9f8a",
   "metadata": {},
   "outputs": [
    {
     "data": {
      "text/plain": [
       "0    0.457451\n",
       "1    1.041807\n",
       "2    0.346955\n",
       "3    1.410169\n",
       "4   -0.807140\n",
       "dtype: float64"
      ]
     },
     "execution_count": 3,
     "metadata": {},
     "output_type": "execute_result"
    }
   ],
   "source": [
    "# Head\n",
    "long_series.head()"
   ]
  },
  {
   "cell_type": "code",
   "execution_count": 4,
   "id": "4b97b51d",
   "metadata": {},
   "outputs": [
    {
     "data": {
      "text/plain": [
       "5   -1.199769\n",
       "6   -1.707464\n",
       "7    0.738481\n",
       "8    1.157706\n",
       "9   -0.781473\n",
       "dtype: float64"
      ]
     },
     "execution_count": 4,
     "metadata": {},
     "output_type": "execute_result"
    }
   ],
   "source": [
    "# Tail\n",
    "long_series.tail()"
   ]
  },
  {
   "cell_type": "markdown",
   "id": "3c7fe8d8",
   "metadata": {},
   "source": [
    "### Attributes and underlying data\n",
    "\n",
    "- shape: gives the axis dimensions of the object, consistent with ndarray\n",
    "- Axis labels:\n",
    "    - Series: index (only axis)\n",
    "    - DataFrame: index and columns\n"
   ]
  },
  {
   "cell_type": "code",
   "execution_count": 5,
   "id": "9669941b",
   "metadata": {},
   "outputs": [
    {
     "data": {
      "text/html": [
       "<div>\n",
       "<style scoped>\n",
       "    .dataframe tbody tr th:only-of-type {\n",
       "        vertical-align: middle;\n",
       "    }\n",
       "\n",
       "    .dataframe tbody tr th {\n",
       "        vertical-align: top;\n",
       "    }\n",
       "\n",
       "    .dataframe thead th {\n",
       "        text-align: right;\n",
       "    }\n",
       "</style>\n",
       "<table border=\"1\" class=\"dataframe\">\n",
       "  <thead>\n",
       "    <tr style=\"text-align: right;\">\n",
       "      <th></th>\n",
       "      <th>A</th>\n",
       "      <th>B</th>\n",
       "      <th>C</th>\n",
       "      <th>D</th>\n",
       "    </tr>\n",
       "  </thead>\n",
       "  <tbody>\n",
       "    <tr>\n",
       "      <th>2023-01-01</th>\n",
       "      <td>-0.943446</td>\n",
       "      <td>-0.684091</td>\n",
       "      <td>0.558872</td>\n",
       "      <td>-0.953177</td>\n",
       "    </tr>\n",
       "    <tr>\n",
       "      <th>2023-01-02</th>\n",
       "      <td>-0.344004</td>\n",
       "      <td>0.336120</td>\n",
       "      <td>0.449725</td>\n",
       "      <td>-2.250021</td>\n",
       "    </tr>\n",
       "    <tr>\n",
       "      <th>2023-01-03</th>\n",
       "      <td>-0.475110</td>\n",
       "      <td>0.451140</td>\n",
       "      <td>0.353512</td>\n",
       "      <td>1.049617</td>\n",
       "    </tr>\n",
       "    <tr>\n",
       "      <th>2023-01-04</th>\n",
       "      <td>0.826501</td>\n",
       "      <td>-0.470968</td>\n",
       "      <td>0.820331</td>\n",
       "      <td>-0.350674</td>\n",
       "    </tr>\n",
       "    <tr>\n",
       "      <th>2023-01-05</th>\n",
       "      <td>-0.738317</td>\n",
       "      <td>-0.505578</td>\n",
       "      <td>-0.364062</td>\n",
       "      <td>1.541246</td>\n",
       "    </tr>\n",
       "    <tr>\n",
       "      <th>2023-01-06</th>\n",
       "      <td>-1.229721</td>\n",
       "      <td>-2.534368</td>\n",
       "      <td>1.067140</td>\n",
       "      <td>0.825049</td>\n",
       "    </tr>\n",
       "    <tr>\n",
       "      <th>2023-01-07</th>\n",
       "      <td>-0.604910</td>\n",
       "      <td>-1.926521</td>\n",
       "      <td>-1.687104</td>\n",
       "      <td>0.132154</td>\n",
       "    </tr>\n",
       "    <tr>\n",
       "      <th>2023-01-08</th>\n",
       "      <td>2.072422</td>\n",
       "      <td>-0.623032</td>\n",
       "      <td>2.009784</td>\n",
       "      <td>-0.305512</td>\n",
       "    </tr>\n",
       "    <tr>\n",
       "      <th>2023-01-09</th>\n",
       "      <td>-0.503809</td>\n",
       "      <td>0.244900</td>\n",
       "      <td>0.242140</td>\n",
       "      <td>-2.048666</td>\n",
       "    </tr>\n",
       "    <tr>\n",
       "      <th>2023-01-10</th>\n",
       "      <td>0.236434</td>\n",
       "      <td>-0.263866</td>\n",
       "      <td>0.505353</td>\n",
       "      <td>-0.022633</td>\n",
       "    </tr>\n",
       "  </tbody>\n",
       "</table>\n",
       "</div>"
      ],
      "text/plain": [
       "                   A         B         C         D\n",
       "2023-01-01 -0.943446 -0.684091  0.558872 -0.953177\n",
       "2023-01-02 -0.344004  0.336120  0.449725 -2.250021\n",
       "2023-01-03 -0.475110  0.451140  0.353512  1.049617\n",
       "2023-01-04  0.826501 -0.470968  0.820331 -0.350674\n",
       "2023-01-05 -0.738317 -0.505578 -0.364062  1.541246\n",
       "2023-01-06 -1.229721 -2.534368  1.067140  0.825049\n",
       "2023-01-07 -0.604910 -1.926521 -1.687104  0.132154\n",
       "2023-01-08  2.072422 -0.623032  2.009784 -0.305512\n",
       "2023-01-09 -0.503809  0.244900  0.242140 -2.048666\n",
       "2023-01-10  0.236434 -0.263866  0.505353 -0.022633"
      ]
     },
     "execution_count": 5,
     "metadata": {},
     "output_type": "execute_result"
    }
   ],
   "source": [
    "index = pd.date_range('20230101', periods=10)\n",
    "df = pd.DataFrame(np.random.randn(10, 4), index=index, columns=list ('ABCD'))\n",
    "df"
   ]
  },
  {
   "cell_type": "code",
   "execution_count": 6,
   "id": "6bb21d28",
   "metadata": {},
   "outputs": [
    {
     "data": {
      "text/html": [
       "<div>\n",
       "<style scoped>\n",
       "    .dataframe tbody tr th:only-of-type {\n",
       "        vertical-align: middle;\n",
       "    }\n",
       "\n",
       "    .dataframe tbody tr th {\n",
       "        vertical-align: top;\n",
       "    }\n",
       "\n",
       "    .dataframe thead th {\n",
       "        text-align: right;\n",
       "    }\n",
       "</style>\n",
       "<table border=\"1\" class=\"dataframe\">\n",
       "  <thead>\n",
       "    <tr style=\"text-align: right;\">\n",
       "      <th></th>\n",
       "      <th>a</th>\n",
       "      <th>b</th>\n",
       "      <th>c</th>\n",
       "      <th>d</th>\n",
       "    </tr>\n",
       "  </thead>\n",
       "  <tbody>\n",
       "    <tr>\n",
       "      <th>2023-01-01</th>\n",
       "      <td>-0.943446</td>\n",
       "      <td>-0.684091</td>\n",
       "      <td>0.558872</td>\n",
       "      <td>-0.953177</td>\n",
       "    </tr>\n",
       "    <tr>\n",
       "      <th>2023-01-02</th>\n",
       "      <td>-0.344004</td>\n",
       "      <td>0.336120</td>\n",
       "      <td>0.449725</td>\n",
       "      <td>-2.250021</td>\n",
       "    </tr>\n",
       "    <tr>\n",
       "      <th>2023-01-03</th>\n",
       "      <td>-0.475110</td>\n",
       "      <td>0.451140</td>\n",
       "      <td>0.353512</td>\n",
       "      <td>1.049617</td>\n",
       "    </tr>\n",
       "    <tr>\n",
       "      <th>2023-01-04</th>\n",
       "      <td>0.826501</td>\n",
       "      <td>-0.470968</td>\n",
       "      <td>0.820331</td>\n",
       "      <td>-0.350674</td>\n",
       "    </tr>\n",
       "    <tr>\n",
       "      <th>2023-01-05</th>\n",
       "      <td>-0.738317</td>\n",
       "      <td>-0.505578</td>\n",
       "      <td>-0.364062</td>\n",
       "      <td>1.541246</td>\n",
       "    </tr>\n",
       "    <tr>\n",
       "      <th>2023-01-06</th>\n",
       "      <td>-1.229721</td>\n",
       "      <td>-2.534368</td>\n",
       "      <td>1.067140</td>\n",
       "      <td>0.825049</td>\n",
       "    </tr>\n",
       "    <tr>\n",
       "      <th>2023-01-07</th>\n",
       "      <td>-0.604910</td>\n",
       "      <td>-1.926521</td>\n",
       "      <td>-1.687104</td>\n",
       "      <td>0.132154</td>\n",
       "    </tr>\n",
       "    <tr>\n",
       "      <th>2023-01-08</th>\n",
       "      <td>2.072422</td>\n",
       "      <td>-0.623032</td>\n",
       "      <td>2.009784</td>\n",
       "      <td>-0.305512</td>\n",
       "    </tr>\n",
       "    <tr>\n",
       "      <th>2023-01-09</th>\n",
       "      <td>-0.503809</td>\n",
       "      <td>0.244900</td>\n",
       "      <td>0.242140</td>\n",
       "      <td>-2.048666</td>\n",
       "    </tr>\n",
       "    <tr>\n",
       "      <th>2023-01-10</th>\n",
       "      <td>0.236434</td>\n",
       "      <td>-0.263866</td>\n",
       "      <td>0.505353</td>\n",
       "      <td>-0.022633</td>\n",
       "    </tr>\n",
       "  </tbody>\n",
       "</table>\n",
       "</div>"
      ],
      "text/plain": [
       "                   a         b         c         d\n",
       "2023-01-01 -0.943446 -0.684091  0.558872 -0.953177\n",
       "2023-01-02 -0.344004  0.336120  0.449725 -2.250021\n",
       "2023-01-03 -0.475110  0.451140  0.353512  1.049617\n",
       "2023-01-04  0.826501 -0.470968  0.820331 -0.350674\n",
       "2023-01-05 -0.738317 -0.505578 -0.364062  1.541246\n",
       "2023-01-06 -1.229721 -2.534368  1.067140  0.825049\n",
       "2023-01-07 -0.604910 -1.926521 -1.687104  0.132154\n",
       "2023-01-08  2.072422 -0.623032  2.009784 -0.305512\n",
       "2023-01-09 -0.503809  0.244900  0.242140 -2.048666\n",
       "2023-01-10  0.236434 -0.263866  0.505353 -0.022633"
      ]
     },
     "execution_count": 6,
     "metadata": {},
     "output_type": "execute_result"
    }
   ],
   "source": [
    "df.columns = [x.lower() for x in df.columns]\n",
    "df"
   ]
  }
 ],
 "metadata": {
  "kernelspec": {
   "display_name": "sklearn-env",
   "language": "python",
   "name": "python3"
  },
  "language_info": {
   "codemirror_mode": {
    "name": "ipython",
    "version": 3
   },
   "file_extension": ".py",
   "mimetype": "text/x-python",
   "name": "python",
   "nbconvert_exporter": "python",
   "pygments_lexer": "ipython3",
   "version": "3.10.18"
  }
 },
 "nbformat": 4,
 "nbformat_minor": 5
}

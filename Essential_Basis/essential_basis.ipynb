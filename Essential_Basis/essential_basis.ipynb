{
 "cells": [
  {
   "cell_type": "markdown",
   "id": "b4fae9be",
   "metadata": {},
   "source": [
    "##  📚 Essential Basic Functionality\n",
    "\n",
    "> Pandas is a foundational library in Python for working with structured data. It provides fast, flexible, and expressive tools designed to make data analysis and manipulation easy and intuitive. There are several essential functionalities that are fundamental to using Pandas effectively."
   ]
  },
  {
   "cell_type": "code",
   "execution_count": 1,
   "id": "c0f2c309",
   "metadata": {},
   "outputs": [],
   "source": [
    "import pandas as pd\n",
    "import numpy as np"
   ]
  },
  {
   "cell_type": "markdown",
   "id": "fd22bfbc",
   "metadata": {},
   "source": [
    "### Head and tail\n",
    "\n",
    "- Head shows the first 5 rows by default.\n",
    "- Tail shows the last 5 rows by default."
   ]
  },
  {
   "cell_type": "code",
   "execution_count": 6,
   "id": "fd90708a",
   "metadata": {},
   "outputs": [
    {
     "data": {
      "text/plain": [
       "0   -0.085513\n",
       "1    0.042385\n",
       "2    1.046990\n",
       "3    0.169140\n",
       "4    0.457820\n",
       "5    1.454776\n",
       "6    1.462468\n",
       "7   -1.212715\n",
       "8    0.794646\n",
       "9    1.112519\n",
       "dtype: float64"
      ]
     },
     "execution_count": 6,
     "metadata": {},
     "output_type": "execute_result"
    }
   ],
   "source": [
    "long_series = pd.Series(np.random.randn(10))\n",
    "long_series"
   ]
  },
  {
   "cell_type": "code",
   "execution_count": 7,
   "id": "a4aa9f8a",
   "metadata": {},
   "outputs": [
    {
     "data": {
      "text/plain": [
       "0   -0.085513\n",
       "1    0.042385\n",
       "2    1.046990\n",
       "3    0.169140\n",
       "4    0.457820\n",
       "dtype: float64"
      ]
     },
     "execution_count": 7,
     "metadata": {},
     "output_type": "execute_result"
    }
   ],
   "source": [
    "# Head\n",
    "long_series.head()"
   ]
  },
  {
   "cell_type": "code",
   "execution_count": 8,
   "id": "4b97b51d",
   "metadata": {},
   "outputs": [
    {
     "data": {
      "text/plain": [
       "5    1.454776\n",
       "6    1.462468\n",
       "7   -1.212715\n",
       "8    0.794646\n",
       "9    1.112519\n",
       "dtype: float64"
      ]
     },
     "execution_count": 8,
     "metadata": {},
     "output_type": "execute_result"
    }
   ],
   "source": [
    "# Tail\n",
    "long_series.tail()"
   ]
  }
 ],
 "metadata": {
  "kernelspec": {
   "display_name": "ml-sklearn",
   "language": "python",
   "name": "python3"
  },
  "language_info": {
   "codemirror_mode": {
    "name": "ipython",
    "version": 3
   },
   "file_extension": ".py",
   "mimetype": "text/x-python",
   "name": "python",
   "nbconvert_exporter": "python",
   "pygments_lexer": "ipython3",
   "version": "3.11.13"
  }
 },
 "nbformat": 4,
 "nbformat_minor": 5
}

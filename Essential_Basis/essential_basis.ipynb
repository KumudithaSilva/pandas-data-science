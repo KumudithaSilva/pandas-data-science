{
 "cells": [
  {
   "cell_type": "markdown",
   "id": "b4fae9be",
   "metadata": {},
   "source": [
    "##  📚 Essential Basic Functionality\n",
    "\n",
    "> Pandas is a foundational library in Python for working with structured data. It provides fast, flexible, and expressive tools designed to make data analysis and manipulation easy and intuitive. There are several essential functionalities that are fundamental to using Pandas effectively."
   ]
  },
  {
   "cell_type": "code",
   "execution_count": 1,
   "id": "c0f2c309",
   "metadata": {},
   "outputs": [],
   "source": [
    "import pandas as pd\n",
    "import numpy as np"
   ]
  },
  {
   "cell_type": "markdown",
   "id": "fd22bfbc",
   "metadata": {},
   "source": [
    "### Head and tail\n",
    "\n",
    "- Head shows the first 5 rows by default.\n",
    "- Tail shows the last 5 rows by default."
   ]
  },
  {
   "cell_type": "code",
   "execution_count": 2,
   "id": "fd90708a",
   "metadata": {},
   "outputs": [
    {
     "data": {
      "text/plain": [
       "0   -0.111094\n",
       "1   -0.135703\n",
       "2    0.794465\n",
       "3   -0.419149\n",
       "4   -2.262522\n",
       "5   -0.002929\n",
       "6    0.173261\n",
       "7   -0.105084\n",
       "8   -0.395579\n",
       "9   -0.744798\n",
       "dtype: float64"
      ]
     },
     "execution_count": 2,
     "metadata": {},
     "output_type": "execute_result"
    }
   ],
   "source": [
    "long_series = pd.Series(np.random.randn(10))\n",
    "long_series"
   ]
  },
  {
   "cell_type": "code",
   "execution_count": 3,
   "id": "a4aa9f8a",
   "metadata": {},
   "outputs": [
    {
     "data": {
      "text/plain": [
       "0   -0.111094\n",
       "1   -0.135703\n",
       "2    0.794465\n",
       "3   -0.419149\n",
       "4   -2.262522\n",
       "dtype: float64"
      ]
     },
     "execution_count": 3,
     "metadata": {},
     "output_type": "execute_result"
    }
   ],
   "source": [
    "# Head\n",
    "long_series.head()"
   ]
  },
  {
   "cell_type": "code",
   "execution_count": 4,
   "id": "4b97b51d",
   "metadata": {},
   "outputs": [
    {
     "data": {
      "text/plain": [
       "5   -0.002929\n",
       "6    0.173261\n",
       "7   -0.105084\n",
       "8   -0.395579\n",
       "9   -0.744798\n",
       "dtype: float64"
      ]
     },
     "execution_count": 4,
     "metadata": {},
     "output_type": "execute_result"
    }
   ],
   "source": [
    "# Tail\n",
    "long_series.tail()"
   ]
  },
  {
   "cell_type": "markdown",
   "id": "3c7fe8d8",
   "metadata": {},
   "source": [
    "### Attributes and underlying data\n",
    "\n",
    "- shape: gives the axis dimensions of the object, consistent with ndarray\n",
    "- Axis labels:\n",
    "    - Series: index (only axis)\n",
    "    - DataFrame: index and columns\n"
   ]
  },
  {
   "cell_type": "code",
   "execution_count": 5,
   "id": "9669941b",
   "metadata": {},
   "outputs": [
    {
     "data": {
      "text/html": [
       "<div>\n",
       "<style scoped>\n",
       "    .dataframe tbody tr th:only-of-type {\n",
       "        vertical-align: middle;\n",
       "    }\n",
       "\n",
       "    .dataframe tbody tr th {\n",
       "        vertical-align: top;\n",
       "    }\n",
       "\n",
       "    .dataframe thead th {\n",
       "        text-align: right;\n",
       "    }\n",
       "</style>\n",
       "<table border=\"1\" class=\"dataframe\">\n",
       "  <thead>\n",
       "    <tr style=\"text-align: right;\">\n",
       "      <th></th>\n",
       "      <th>A</th>\n",
       "      <th>B</th>\n",
       "      <th>C</th>\n",
       "      <th>D</th>\n",
       "    </tr>\n",
       "  </thead>\n",
       "  <tbody>\n",
       "    <tr>\n",
       "      <th>2023-01-01</th>\n",
       "      <td>-0.595993</td>\n",
       "      <td>0.027336</td>\n",
       "      <td>-0.390910</td>\n",
       "      <td>0.604354</td>\n",
       "    </tr>\n",
       "    <tr>\n",
       "      <th>2023-01-02</th>\n",
       "      <td>1.563279</td>\n",
       "      <td>-1.002114</td>\n",
       "      <td>0.971279</td>\n",
       "      <td>-1.276263</td>\n",
       "    </tr>\n",
       "    <tr>\n",
       "      <th>2023-01-03</th>\n",
       "      <td>0.741300</td>\n",
       "      <td>1.465205</td>\n",
       "      <td>0.678902</td>\n",
       "      <td>-0.670430</td>\n",
       "    </tr>\n",
       "    <tr>\n",
       "      <th>2023-01-04</th>\n",
       "      <td>-3.653907</td>\n",
       "      <td>-0.938223</td>\n",
       "      <td>0.956775</td>\n",
       "      <td>1.742071</td>\n",
       "    </tr>\n",
       "    <tr>\n",
       "      <th>2023-01-05</th>\n",
       "      <td>-0.124229</td>\n",
       "      <td>0.462787</td>\n",
       "      <td>1.210067</td>\n",
       "      <td>-0.897226</td>\n",
       "    </tr>\n",
       "    <tr>\n",
       "      <th>2023-01-06</th>\n",
       "      <td>1.779417</td>\n",
       "      <td>0.893103</td>\n",
       "      <td>0.032180</td>\n",
       "      <td>0.848424</td>\n",
       "    </tr>\n",
       "    <tr>\n",
       "      <th>2023-01-07</th>\n",
       "      <td>0.868417</td>\n",
       "      <td>0.701167</td>\n",
       "      <td>-0.666603</td>\n",
       "      <td>1.790121</td>\n",
       "    </tr>\n",
       "    <tr>\n",
       "      <th>2023-01-08</th>\n",
       "      <td>-0.091303</td>\n",
       "      <td>0.110001</td>\n",
       "      <td>0.923260</td>\n",
       "      <td>-0.943237</td>\n",
       "    </tr>\n",
       "    <tr>\n",
       "      <th>2023-01-09</th>\n",
       "      <td>0.182605</td>\n",
       "      <td>-0.308549</td>\n",
       "      <td>0.167944</td>\n",
       "      <td>-0.213461</td>\n",
       "    </tr>\n",
       "    <tr>\n",
       "      <th>2023-01-10</th>\n",
       "      <td>-1.018045</td>\n",
       "      <td>-1.073141</td>\n",
       "      <td>-0.237669</td>\n",
       "      <td>-0.471691</td>\n",
       "    </tr>\n",
       "  </tbody>\n",
       "</table>\n",
       "</div>"
      ],
      "text/plain": [
       "                   A         B         C         D\n",
       "2023-01-01 -0.595993  0.027336 -0.390910  0.604354\n",
       "2023-01-02  1.563279 -1.002114  0.971279 -1.276263\n",
       "2023-01-03  0.741300  1.465205  0.678902 -0.670430\n",
       "2023-01-04 -3.653907 -0.938223  0.956775  1.742071\n",
       "2023-01-05 -0.124229  0.462787  1.210067 -0.897226\n",
       "2023-01-06  1.779417  0.893103  0.032180  0.848424\n",
       "2023-01-07  0.868417  0.701167 -0.666603  1.790121\n",
       "2023-01-08 -0.091303  0.110001  0.923260 -0.943237\n",
       "2023-01-09  0.182605 -0.308549  0.167944 -0.213461\n",
       "2023-01-10 -1.018045 -1.073141 -0.237669 -0.471691"
      ]
     },
     "execution_count": 5,
     "metadata": {},
     "output_type": "execute_result"
    }
   ],
   "source": [
    "index = pd.date_range('20230101', periods=10)\n",
    "df = pd.DataFrame(np.random.randn(10, 4), index=index, columns=list ('ABCD'))\n",
    "df"
   ]
  },
  {
   "cell_type": "code",
   "execution_count": 6,
   "id": "6bb21d28",
   "metadata": {},
   "outputs": [
    {
     "data": {
      "text/html": [
       "<div>\n",
       "<style scoped>\n",
       "    .dataframe tbody tr th:only-of-type {\n",
       "        vertical-align: middle;\n",
       "    }\n",
       "\n",
       "    .dataframe tbody tr th {\n",
       "        vertical-align: top;\n",
       "    }\n",
       "\n",
       "    .dataframe thead th {\n",
       "        text-align: right;\n",
       "    }\n",
       "</style>\n",
       "<table border=\"1\" class=\"dataframe\">\n",
       "  <thead>\n",
       "    <tr style=\"text-align: right;\">\n",
       "      <th></th>\n",
       "      <th>a</th>\n",
       "      <th>b</th>\n",
       "      <th>c</th>\n",
       "      <th>d</th>\n",
       "    </tr>\n",
       "  </thead>\n",
       "  <tbody>\n",
       "    <tr>\n",
       "      <th>2023-01-01</th>\n",
       "      <td>-0.595993</td>\n",
       "      <td>0.027336</td>\n",
       "      <td>-0.390910</td>\n",
       "      <td>0.604354</td>\n",
       "    </tr>\n",
       "    <tr>\n",
       "      <th>2023-01-02</th>\n",
       "      <td>1.563279</td>\n",
       "      <td>-1.002114</td>\n",
       "      <td>0.971279</td>\n",
       "      <td>-1.276263</td>\n",
       "    </tr>\n",
       "    <tr>\n",
       "      <th>2023-01-03</th>\n",
       "      <td>0.741300</td>\n",
       "      <td>1.465205</td>\n",
       "      <td>0.678902</td>\n",
       "      <td>-0.670430</td>\n",
       "    </tr>\n",
       "    <tr>\n",
       "      <th>2023-01-04</th>\n",
       "      <td>-3.653907</td>\n",
       "      <td>-0.938223</td>\n",
       "      <td>0.956775</td>\n",
       "      <td>1.742071</td>\n",
       "    </tr>\n",
       "    <tr>\n",
       "      <th>2023-01-05</th>\n",
       "      <td>-0.124229</td>\n",
       "      <td>0.462787</td>\n",
       "      <td>1.210067</td>\n",
       "      <td>-0.897226</td>\n",
       "    </tr>\n",
       "    <tr>\n",
       "      <th>2023-01-06</th>\n",
       "      <td>1.779417</td>\n",
       "      <td>0.893103</td>\n",
       "      <td>0.032180</td>\n",
       "      <td>0.848424</td>\n",
       "    </tr>\n",
       "    <tr>\n",
       "      <th>2023-01-07</th>\n",
       "      <td>0.868417</td>\n",
       "      <td>0.701167</td>\n",
       "      <td>-0.666603</td>\n",
       "      <td>1.790121</td>\n",
       "    </tr>\n",
       "    <tr>\n",
       "      <th>2023-01-08</th>\n",
       "      <td>-0.091303</td>\n",
       "      <td>0.110001</td>\n",
       "      <td>0.923260</td>\n",
       "      <td>-0.943237</td>\n",
       "    </tr>\n",
       "    <tr>\n",
       "      <th>2023-01-09</th>\n",
       "      <td>0.182605</td>\n",
       "      <td>-0.308549</td>\n",
       "      <td>0.167944</td>\n",
       "      <td>-0.213461</td>\n",
       "    </tr>\n",
       "    <tr>\n",
       "      <th>2023-01-10</th>\n",
       "      <td>-1.018045</td>\n",
       "      <td>-1.073141</td>\n",
       "      <td>-0.237669</td>\n",
       "      <td>-0.471691</td>\n",
       "    </tr>\n",
       "  </tbody>\n",
       "</table>\n",
       "</div>"
      ],
      "text/plain": [
       "                   a         b         c         d\n",
       "2023-01-01 -0.595993  0.027336 -0.390910  0.604354\n",
       "2023-01-02  1.563279 -1.002114  0.971279 -1.276263\n",
       "2023-01-03  0.741300  1.465205  0.678902 -0.670430\n",
       "2023-01-04 -3.653907 -0.938223  0.956775  1.742071\n",
       "2023-01-05 -0.124229  0.462787  1.210067 -0.897226\n",
       "2023-01-06  1.779417  0.893103  0.032180  0.848424\n",
       "2023-01-07  0.868417  0.701167 -0.666603  1.790121\n",
       "2023-01-08 -0.091303  0.110001  0.923260 -0.943237\n",
       "2023-01-09  0.182605 -0.308549  0.167944 -0.213461\n",
       "2023-01-10 -1.018045 -1.073141 -0.237669 -0.471691"
      ]
     },
     "execution_count": 6,
     "metadata": {},
     "output_type": "execute_result"
    }
   ],
   "source": [
    "df.columns = [x.lower() for x in df.columns]\n",
    "df"
   ]
  },
  {
   "cell_type": "markdown",
   "id": "6b861b40",
   "metadata": {},
   "source": [
    "#### Numpy\n",
    "\n",
    "- It is a reliable and consistent method to convert pandas objects to NumPy arrays, offering better control over data types and compatibility with extension types compared other methods."
   ]
  },
  {
   "cell_type": "code",
   "execution_count": 9,
   "id": "dc98654f",
   "metadata": {},
   "outputs": [
    {
     "data": {
      "text/plain": [
       "array([[-0.59599323,  0.02733592, -0.39090975,  0.60435389],\n",
       "       [ 1.56327937, -1.00211374,  0.97127924, -1.27626291],\n",
       "       [ 0.74129966,  1.46520459,  0.67890183, -0.67043006],\n",
       "       [-3.65390662, -0.93822291,  0.95677467,  1.74207076],\n",
       "       [-0.12422869,  0.46278685,  1.21006661, -0.89722618],\n",
       "       [ 1.77941706,  0.89310274,  0.03218037,  0.84842376],\n",
       "       [ 0.86841676,  0.70116723, -0.66660264,  1.79012093],\n",
       "       [-0.09130294,  0.11000085,  0.92326015, -0.9432368 ],\n",
       "       [ 0.18260485, -0.3085487 ,  0.16794362, -0.21346141],\n",
       "       [-1.0180445 , -1.07314075, -0.23766888, -0.47169149]])"
      ]
     },
     "execution_count": 9,
     "metadata": {},
     "output_type": "execute_result"
    }
   ],
   "source": [
    "df_numpy = df.to_numpy()\n",
    "df_numpy"
   ]
  }
 ],
 "metadata": {
  "kernelspec": {
   "display_name": "sklearn-env",
   "language": "python",
   "name": "python3"
  },
  "language_info": {
   "codemirror_mode": {
    "name": "ipython",
    "version": 3
   },
   "file_extension": ".py",
   "mimetype": "text/x-python",
   "name": "python",
   "nbconvert_exporter": "python",
   "pygments_lexer": "ipython3",
   "version": "3.10.18"
  }
 },
 "nbformat": 4,
 "nbformat_minor": 5
}

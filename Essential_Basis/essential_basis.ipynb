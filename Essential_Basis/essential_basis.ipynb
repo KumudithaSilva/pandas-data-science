{
 "cells": [
  {
   "cell_type": "markdown",
   "id": "b4fae9be",
   "metadata": {},
   "source": [
    "##  📚 Essential Basic Functionality\n",
    "\n",
    "> Pandas is a foundational library in Python for working with structured data. It provides fast, flexible, and expressive tools designed to make data analysis and manipulation easy and intuitive. There are several essential functionalities that are fundamental to using Pandas effectively."
   ]
  },
  {
   "cell_type": "code",
   "execution_count": 1,
   "id": "c0f2c309",
   "metadata": {},
   "outputs": [],
   "source": [
    "import pandas as pd\n",
    "import numpy as np"
   ]
  },
  {
   "cell_type": "markdown",
   "id": "fd22bfbc",
   "metadata": {},
   "source": [
    "### Head and tail\n",
    "\n",
    "- Head shows the first 5 rows by default.\n",
    "- Tail shows the last 5 rows by default."
   ]
  },
  {
   "cell_type": "code",
   "execution_count": 2,
   "id": "fd90708a",
   "metadata": {},
   "outputs": [
    {
     "data": {
      "text/plain": [
       "0    0.588388\n",
       "1   -0.382770\n",
       "2   -0.510204\n",
       "3   -1.571094\n",
       "4   -0.685633\n",
       "5    0.938993\n",
       "6   -0.578108\n",
       "7    0.710409\n",
       "8    1.832939\n",
       "9    1.394466\n",
       "dtype: float64"
      ]
     },
     "execution_count": 2,
     "metadata": {},
     "output_type": "execute_result"
    }
   ],
   "source": [
    "long_series = pd.Series(np.random.randn(10))\n",
    "long_series"
   ]
  },
  {
   "cell_type": "code",
   "execution_count": 3,
   "id": "a4aa9f8a",
   "metadata": {},
   "outputs": [
    {
     "data": {
      "text/plain": [
       "0    0.588388\n",
       "1   -0.382770\n",
       "2   -0.510204\n",
       "3   -1.571094\n",
       "4   -0.685633\n",
       "dtype: float64"
      ]
     },
     "execution_count": 3,
     "metadata": {},
     "output_type": "execute_result"
    }
   ],
   "source": [
    "# Head\n",
    "long_series.head()"
   ]
  },
  {
   "cell_type": "code",
   "execution_count": 4,
   "id": "4b97b51d",
   "metadata": {},
   "outputs": [
    {
     "data": {
      "text/plain": [
       "5    0.938993\n",
       "6   -0.578108\n",
       "7    0.710409\n",
       "8    1.832939\n",
       "9    1.394466\n",
       "dtype: float64"
      ]
     },
     "execution_count": 4,
     "metadata": {},
     "output_type": "execute_result"
    }
   ],
   "source": [
    "# Tail\n",
    "long_series.tail()"
   ]
  },
  {
   "cell_type": "markdown",
   "id": "3c7fe8d8",
   "metadata": {},
   "source": [
    "### Attributes and underlying data\n",
    "\n",
    "- shape: gives the axis dimensions of the object, consistent with ndarray\n",
    "- Axis labels:\n",
    "    - Series: index (only axis)\n",
    "    - DataFrame: index and columns\n"
   ]
  },
  {
   "cell_type": "code",
   "execution_count": 5,
   "id": "9669941b",
   "metadata": {},
   "outputs": [
    {
     "data": {
      "text/html": [
       "<div>\n",
       "<style scoped>\n",
       "    .dataframe tbody tr th:only-of-type {\n",
       "        vertical-align: middle;\n",
       "    }\n",
       "\n",
       "    .dataframe tbody tr th {\n",
       "        vertical-align: top;\n",
       "    }\n",
       "\n",
       "    .dataframe thead th {\n",
       "        text-align: right;\n",
       "    }\n",
       "</style>\n",
       "<table border=\"1\" class=\"dataframe\">\n",
       "  <thead>\n",
       "    <tr style=\"text-align: right;\">\n",
       "      <th></th>\n",
       "      <th>A</th>\n",
       "      <th>B</th>\n",
       "      <th>C</th>\n",
       "      <th>D</th>\n",
       "    </tr>\n",
       "  </thead>\n",
       "  <tbody>\n",
       "    <tr>\n",
       "      <th>2023-01-01</th>\n",
       "      <td>-0.046698</td>\n",
       "      <td>-1.364044</td>\n",
       "      <td>0.984077</td>\n",
       "      <td>-0.186613</td>\n",
       "    </tr>\n",
       "    <tr>\n",
       "      <th>2023-01-02</th>\n",
       "      <td>-0.218112</td>\n",
       "      <td>0.479442</td>\n",
       "      <td>1.179653</td>\n",
       "      <td>1.151475</td>\n",
       "    </tr>\n",
       "    <tr>\n",
       "      <th>2023-01-03</th>\n",
       "      <td>1.619945</td>\n",
       "      <td>1.942223</td>\n",
       "      <td>-2.079273</td>\n",
       "      <td>-0.272685</td>\n",
       "    </tr>\n",
       "    <tr>\n",
       "      <th>2023-01-04</th>\n",
       "      <td>-0.359457</td>\n",
       "      <td>-0.605702</td>\n",
       "      <td>-0.068462</td>\n",
       "      <td>-0.385253</td>\n",
       "    </tr>\n",
       "    <tr>\n",
       "      <th>2023-01-05</th>\n",
       "      <td>0.242861</td>\n",
       "      <td>-0.593055</td>\n",
       "      <td>1.664027</td>\n",
       "      <td>0.444621</td>\n",
       "    </tr>\n",
       "    <tr>\n",
       "      <th>2023-01-06</th>\n",
       "      <td>0.656136</td>\n",
       "      <td>-0.903173</td>\n",
       "      <td>2.242868</td>\n",
       "      <td>-0.013155</td>\n",
       "    </tr>\n",
       "    <tr>\n",
       "      <th>2023-01-07</th>\n",
       "      <td>-1.266649</td>\n",
       "      <td>-0.201024</td>\n",
       "      <td>1.076361</td>\n",
       "      <td>0.704522</td>\n",
       "    </tr>\n",
       "    <tr>\n",
       "      <th>2023-01-08</th>\n",
       "      <td>0.143678</td>\n",
       "      <td>1.476587</td>\n",
       "      <td>0.088989</td>\n",
       "      <td>-0.043516</td>\n",
       "    </tr>\n",
       "    <tr>\n",
       "      <th>2023-01-09</th>\n",
       "      <td>0.502309</td>\n",
       "      <td>0.723638</td>\n",
       "      <td>-0.069563</td>\n",
       "      <td>-1.022250</td>\n",
       "    </tr>\n",
       "    <tr>\n",
       "      <th>2023-01-10</th>\n",
       "      <td>0.837307</td>\n",
       "      <td>1.551518</td>\n",
       "      <td>0.539915</td>\n",
       "      <td>-1.271965</td>\n",
       "    </tr>\n",
       "  </tbody>\n",
       "</table>\n",
       "</div>"
      ],
      "text/plain": [
       "                   A         B         C         D\n",
       "2023-01-01 -0.046698 -1.364044  0.984077 -0.186613\n",
       "2023-01-02 -0.218112  0.479442  1.179653  1.151475\n",
       "2023-01-03  1.619945  1.942223 -2.079273 -0.272685\n",
       "2023-01-04 -0.359457 -0.605702 -0.068462 -0.385253\n",
       "2023-01-05  0.242861 -0.593055  1.664027  0.444621\n",
       "2023-01-06  0.656136 -0.903173  2.242868 -0.013155\n",
       "2023-01-07 -1.266649 -0.201024  1.076361  0.704522\n",
       "2023-01-08  0.143678  1.476587  0.088989 -0.043516\n",
       "2023-01-09  0.502309  0.723638 -0.069563 -1.022250\n",
       "2023-01-10  0.837307  1.551518  0.539915 -1.271965"
      ]
     },
     "execution_count": 5,
     "metadata": {},
     "output_type": "execute_result"
    }
   ],
   "source": [
    "index = pd.date_range('20230101', periods=10)\n",
    "df = pd.DataFrame(np.random.randn(10, 4), index=index, columns=list ('ABCD'))\n",
    "df"
   ]
  },
  {
   "cell_type": "code",
   "execution_count": 6,
   "id": "6bb21d28",
   "metadata": {},
   "outputs": [
    {
     "data": {
      "text/html": [
       "<div>\n",
       "<style scoped>\n",
       "    .dataframe tbody tr th:only-of-type {\n",
       "        vertical-align: middle;\n",
       "    }\n",
       "\n",
       "    .dataframe tbody tr th {\n",
       "        vertical-align: top;\n",
       "    }\n",
       "\n",
       "    .dataframe thead th {\n",
       "        text-align: right;\n",
       "    }\n",
       "</style>\n",
       "<table border=\"1\" class=\"dataframe\">\n",
       "  <thead>\n",
       "    <tr style=\"text-align: right;\">\n",
       "      <th></th>\n",
       "      <th>a</th>\n",
       "      <th>b</th>\n",
       "      <th>c</th>\n",
       "      <th>d</th>\n",
       "    </tr>\n",
       "  </thead>\n",
       "  <tbody>\n",
       "    <tr>\n",
       "      <th>2023-01-01</th>\n",
       "      <td>-0.046698</td>\n",
       "      <td>-1.364044</td>\n",
       "      <td>0.984077</td>\n",
       "      <td>-0.186613</td>\n",
       "    </tr>\n",
       "    <tr>\n",
       "      <th>2023-01-02</th>\n",
       "      <td>-0.218112</td>\n",
       "      <td>0.479442</td>\n",
       "      <td>1.179653</td>\n",
       "      <td>1.151475</td>\n",
       "    </tr>\n",
       "    <tr>\n",
       "      <th>2023-01-03</th>\n",
       "      <td>1.619945</td>\n",
       "      <td>1.942223</td>\n",
       "      <td>-2.079273</td>\n",
       "      <td>-0.272685</td>\n",
       "    </tr>\n",
       "    <tr>\n",
       "      <th>2023-01-04</th>\n",
       "      <td>-0.359457</td>\n",
       "      <td>-0.605702</td>\n",
       "      <td>-0.068462</td>\n",
       "      <td>-0.385253</td>\n",
       "    </tr>\n",
       "    <tr>\n",
       "      <th>2023-01-05</th>\n",
       "      <td>0.242861</td>\n",
       "      <td>-0.593055</td>\n",
       "      <td>1.664027</td>\n",
       "      <td>0.444621</td>\n",
       "    </tr>\n",
       "    <tr>\n",
       "      <th>2023-01-06</th>\n",
       "      <td>0.656136</td>\n",
       "      <td>-0.903173</td>\n",
       "      <td>2.242868</td>\n",
       "      <td>-0.013155</td>\n",
       "    </tr>\n",
       "    <tr>\n",
       "      <th>2023-01-07</th>\n",
       "      <td>-1.266649</td>\n",
       "      <td>-0.201024</td>\n",
       "      <td>1.076361</td>\n",
       "      <td>0.704522</td>\n",
       "    </tr>\n",
       "    <tr>\n",
       "      <th>2023-01-08</th>\n",
       "      <td>0.143678</td>\n",
       "      <td>1.476587</td>\n",
       "      <td>0.088989</td>\n",
       "      <td>-0.043516</td>\n",
       "    </tr>\n",
       "    <tr>\n",
       "      <th>2023-01-09</th>\n",
       "      <td>0.502309</td>\n",
       "      <td>0.723638</td>\n",
       "      <td>-0.069563</td>\n",
       "      <td>-1.022250</td>\n",
       "    </tr>\n",
       "    <tr>\n",
       "      <th>2023-01-10</th>\n",
       "      <td>0.837307</td>\n",
       "      <td>1.551518</td>\n",
       "      <td>0.539915</td>\n",
       "      <td>-1.271965</td>\n",
       "    </tr>\n",
       "  </tbody>\n",
       "</table>\n",
       "</div>"
      ],
      "text/plain": [
       "                   a         b         c         d\n",
       "2023-01-01 -0.046698 -1.364044  0.984077 -0.186613\n",
       "2023-01-02 -0.218112  0.479442  1.179653  1.151475\n",
       "2023-01-03  1.619945  1.942223 -2.079273 -0.272685\n",
       "2023-01-04 -0.359457 -0.605702 -0.068462 -0.385253\n",
       "2023-01-05  0.242861 -0.593055  1.664027  0.444621\n",
       "2023-01-06  0.656136 -0.903173  2.242868 -0.013155\n",
       "2023-01-07 -1.266649 -0.201024  1.076361  0.704522\n",
       "2023-01-08  0.143678  1.476587  0.088989 -0.043516\n",
       "2023-01-09  0.502309  0.723638 -0.069563 -1.022250\n",
       "2023-01-10  0.837307  1.551518  0.539915 -1.271965"
      ]
     },
     "execution_count": 6,
     "metadata": {},
     "output_type": "execute_result"
    }
   ],
   "source": [
    "df.columns = [x.lower() for x in df.columns]\n",
    "df"
   ]
  },
  {
   "cell_type": "markdown",
   "id": "6b861b40",
   "metadata": {},
   "source": [
    "#### Numpy\n",
    "\n",
    "- It is a reliable and consistent method to convert pandas objects to NumPy arrays, offering better control over data types and compatibility with extension types compared other methods."
   ]
  },
  {
   "cell_type": "code",
   "execution_count": 7,
   "id": "dc98654f",
   "metadata": {},
   "outputs": [
    {
     "data": {
      "text/plain": [
       "array([[-0.04669848, -1.36404443,  0.98407709, -0.18661307],\n",
       "       [-0.21811214,  0.47944185,  1.17965282,  1.15147538],\n",
       "       [ 1.61994491,  1.94222279, -2.07927264, -0.27268548],\n",
       "       [-0.35945687, -0.60570155, -0.06846157, -0.38525266],\n",
       "       [ 0.24286072, -0.59305452,  1.664027  ,  0.44462088],\n",
       "       [ 0.65613583, -0.90317341,  2.24286757, -0.01315494],\n",
       "       [-1.26664936, -0.20102415,  1.07636137,  0.70452185],\n",
       "       [ 0.14367807,  1.47658705,  0.08898858, -0.04351575],\n",
       "       [ 0.50230853,  0.72363787, -0.0695631 , -1.02225035],\n",
       "       [ 0.83730723,  1.5515178 ,  0.53991482, -1.27196511]])"
      ]
     },
     "execution_count": 7,
     "metadata": {},
     "output_type": "execute_result"
    }
   ],
   "source": [
    "df_numpy = df.to_numpy()\n",
    "df_numpy"
   ]
  },
  {
   "cell_type": "markdown",
   "id": "557a6393",
   "metadata": {},
   "source": [
    "## Matching / broadcasting behavior"
   ]
  },
  {
   "cell_type": "code",
   "execution_count": 8,
   "id": "30650444",
   "metadata": {},
   "outputs": [
    {
     "data": {
      "text/html": [
       "<div>\n",
       "<style scoped>\n",
       "    .dataframe tbody tr th:only-of-type {\n",
       "        vertical-align: middle;\n",
       "    }\n",
       "\n",
       "    .dataframe tbody tr th {\n",
       "        vertical-align: top;\n",
       "    }\n",
       "\n",
       "    .dataframe thead th {\n",
       "        text-align: right;\n",
       "    }\n",
       "</style>\n",
       "<table border=\"1\" class=\"dataframe\">\n",
       "  <thead>\n",
       "    <tr style=\"text-align: right;\">\n",
       "      <th></th>\n",
       "      <th>one</th>\n",
       "      <th>two</th>\n",
       "      <th>three</th>\n",
       "    </tr>\n",
       "  </thead>\n",
       "  <tbody>\n",
       "    <tr>\n",
       "      <th>a</th>\n",
       "      <td>3.0</td>\n",
       "      <td>8.0</td>\n",
       "      <td>0</td>\n",
       "    </tr>\n",
       "    <tr>\n",
       "      <th>b</th>\n",
       "      <td>7.0</td>\n",
       "      <td>4.0</td>\n",
       "      <td>3</td>\n",
       "    </tr>\n",
       "    <tr>\n",
       "      <th>c</th>\n",
       "      <td>2.0</td>\n",
       "      <td>1.0</td>\n",
       "      <td>7</td>\n",
       "    </tr>\n",
       "    <tr>\n",
       "      <th>d</th>\n",
       "      <td>NaN</td>\n",
       "      <td>NaN</td>\n",
       "      <td>5</td>\n",
       "    </tr>\n",
       "  </tbody>\n",
       "</table>\n",
       "</div>"
      ],
      "text/plain": [
       "   one  two  three\n",
       "a  3.0  8.0      0\n",
       "b  7.0  4.0      3\n",
       "c  2.0  1.0      7\n",
       "d  NaN  NaN      5"
      ]
     },
     "execution_count": 8,
     "metadata": {},
     "output_type": "execute_result"
    }
   ],
   "source": [
    "df_mathing_broadcasting = pd.DataFrame(\n",
    "    {\n",
    "        \"one\": pd.Series(np.random.randint(0, 10, 3), index=[\"a\", \"b\", \"c\"]),\n",
    "        \"two\": pd.Series(np.random.randint(0, 10, 3), index=[\"a\", \"b\", \"c\"]),\n",
    "        \"three\": pd.Series(np.random.randint(0, 10, 4), index=[\"a\", \"b\", \"c\", \"d\"]),\n",
    "\n",
    "    }\n",
    ")\n",
    "df_mathing_broadcasting"
   ]
  },
  {
   "cell_type": "markdown",
   "id": "1c47fe18",
   "metadata": {},
   "source": [
    "### Sub\n",
    "\n",
    "- It is a method used to perform subtraction between Series or DataFrames."
   ]
  },
  {
   "cell_type": "code",
   "execution_count": 9,
   "id": "c3f0dc02",
   "metadata": {},
   "outputs": [
    {
     "data": {
      "text/plain": [
       "one      2.0\n",
       "two      1.0\n",
       "three    7.0\n",
       "Name: c, dtype: float64"
      ]
     },
     "execution_count": 9,
     "metadata": {},
     "output_type": "execute_result"
    }
   ],
   "source": [
    "df_sub_l1 = df_mathing_broadcasting.iloc[2]\n",
    "df_sub_l1"
   ]
  },
  {
   "cell_type": "code",
   "execution_count": 10,
   "id": "525bc421",
   "metadata": {},
   "outputs": [
    {
     "data": {
      "text/html": [
       "<div>\n",
       "<style scoped>\n",
       "    .dataframe tbody tr th:only-of-type {\n",
       "        vertical-align: middle;\n",
       "    }\n",
       "\n",
       "    .dataframe tbody tr th {\n",
       "        vertical-align: top;\n",
       "    }\n",
       "\n",
       "    .dataframe thead th {\n",
       "        text-align: right;\n",
       "    }\n",
       "</style>\n",
       "<table border=\"1\" class=\"dataframe\">\n",
       "  <thead>\n",
       "    <tr style=\"text-align: right;\">\n",
       "      <th></th>\n",
       "      <th>one</th>\n",
       "      <th>two</th>\n",
       "      <th>three</th>\n",
       "    </tr>\n",
       "  </thead>\n",
       "  <tbody>\n",
       "    <tr>\n",
       "      <th>a</th>\n",
       "      <td>1.0</td>\n",
       "      <td>7.0</td>\n",
       "      <td>-7.0</td>\n",
       "    </tr>\n",
       "    <tr>\n",
       "      <th>b</th>\n",
       "      <td>5.0</td>\n",
       "      <td>3.0</td>\n",
       "      <td>-4.0</td>\n",
       "    </tr>\n",
       "    <tr>\n",
       "      <th>c</th>\n",
       "      <td>0.0</td>\n",
       "      <td>0.0</td>\n",
       "      <td>0.0</td>\n",
       "    </tr>\n",
       "    <tr>\n",
       "      <th>d</th>\n",
       "      <td>NaN</td>\n",
       "      <td>NaN</td>\n",
       "      <td>-2.0</td>\n",
       "    </tr>\n",
       "  </tbody>\n",
       "</table>\n",
       "</div>"
      ],
      "text/plain": [
       "   one  two  three\n",
       "a  1.0  7.0   -7.0\n",
       "b  5.0  3.0   -4.0\n",
       "c  0.0  0.0    0.0\n",
       "d  NaN  NaN   -2.0"
      ]
     },
     "execution_count": 10,
     "metadata": {},
     "output_type": "execute_result"
    }
   ],
   "source": [
    "df_mathing_broadcasting.sub(df_sub_l1 , axis=\"columns\")"
   ]
  },
  {
   "cell_type": "markdown",
   "id": "6743e809",
   "metadata": {},
   "source": [
    "## Missing data / operations with fill values"
   ]
  },
  {
   "cell_type": "code",
   "execution_count": 11,
   "id": "47d44b89",
   "metadata": {},
   "outputs": [
    {
     "data": {
      "text/html": [
       "<div>\n",
       "<style scoped>\n",
       "    .dataframe tbody tr th:only-of-type {\n",
       "        vertical-align: middle;\n",
       "    }\n",
       "\n",
       "    .dataframe tbody tr th {\n",
       "        vertical-align: top;\n",
       "    }\n",
       "\n",
       "    .dataframe thead th {\n",
       "        text-align: right;\n",
       "    }\n",
       "</style>\n",
       "<table border=\"1\" class=\"dataframe\">\n",
       "  <thead>\n",
       "    <tr style=\"text-align: right;\">\n",
       "      <th></th>\n",
       "      <th>a</th>\n",
       "      <th>b</th>\n",
       "      <th>c</th>\n",
       "      <th>d</th>\n",
       "    </tr>\n",
       "  </thead>\n",
       "  <tbody>\n",
       "    <tr>\n",
       "      <th>2023-01-01</th>\n",
       "      <td>-0.046698</td>\n",
       "      <td>-1.364044</td>\n",
       "      <td>0.984077</td>\n",
       "      <td>-0.186613</td>\n",
       "    </tr>\n",
       "    <tr>\n",
       "      <th>2023-01-02</th>\n",
       "      <td>-0.218112</td>\n",
       "      <td>0.479442</td>\n",
       "      <td>1.179653</td>\n",
       "      <td>1.151475</td>\n",
       "    </tr>\n",
       "    <tr>\n",
       "      <th>2023-01-03</th>\n",
       "      <td>1.619945</td>\n",
       "      <td>1.942223</td>\n",
       "      <td>NaN</td>\n",
       "      <td>-0.272685</td>\n",
       "    </tr>\n",
       "    <tr>\n",
       "      <th>2023-01-04</th>\n",
       "      <td>-0.359457</td>\n",
       "      <td>-0.605702</td>\n",
       "      <td>-0.068462</td>\n",
       "      <td>-0.385253</td>\n",
       "    </tr>\n",
       "    <tr>\n",
       "      <th>2023-01-05</th>\n",
       "      <td>0.242861</td>\n",
       "      <td>-0.593055</td>\n",
       "      <td>1.664027</td>\n",
       "      <td>0.444621</td>\n",
       "    </tr>\n",
       "  </tbody>\n",
       "</table>\n",
       "</div>"
      ],
      "text/plain": [
       "                   a         b         c         d\n",
       "2023-01-01 -0.046698 -1.364044  0.984077 -0.186613\n",
       "2023-01-02 -0.218112  0.479442  1.179653  1.151475\n",
       "2023-01-03  1.619945  1.942223       NaN -0.272685\n",
       "2023-01-04 -0.359457 -0.605702 -0.068462 -0.385253\n",
       "2023-01-05  0.242861 -0.593055  1.664027  0.444621"
      ]
     },
     "execution_count": 11,
     "metadata": {},
     "output_type": "execute_result"
    }
   ],
   "source": [
    "df_filldata = df.copy()\n",
    "df_filldata.iloc[2, 2] = np.nan\n",
    "df_filldata.head()"
   ]
  },
  {
   "cell_type": "code",
   "execution_count": 12,
   "id": "a1b58116",
   "metadata": {},
   "outputs": [
    {
     "data": {
      "text/html": [
       "<div>\n",
       "<style scoped>\n",
       "    .dataframe tbody tr th:only-of-type {\n",
       "        vertical-align: middle;\n",
       "    }\n",
       "\n",
       "    .dataframe tbody tr th {\n",
       "        vertical-align: top;\n",
       "    }\n",
       "\n",
       "    .dataframe thead th {\n",
       "        text-align: right;\n",
       "    }\n",
       "</style>\n",
       "<table border=\"1\" class=\"dataframe\">\n",
       "  <thead>\n",
       "    <tr style=\"text-align: right;\">\n",
       "      <th></th>\n",
       "      <th>a</th>\n",
       "      <th>b</th>\n",
       "      <th>c</th>\n",
       "      <th>d</th>\n",
       "    </tr>\n",
       "  </thead>\n",
       "  <tbody>\n",
       "    <tr>\n",
       "      <th>2023-01-01</th>\n",
       "      <td>-0.046698</td>\n",
       "      <td>-1.364044</td>\n",
       "      <td>0.984077</td>\n",
       "      <td>-0.186613</td>\n",
       "    </tr>\n",
       "    <tr>\n",
       "      <th>2023-01-02</th>\n",
       "      <td>-0.218112</td>\n",
       "      <td>0.479442</td>\n",
       "      <td>1.179653</td>\n",
       "      <td>1.151475</td>\n",
       "    </tr>\n",
       "    <tr>\n",
       "      <th>2023-01-03</th>\n",
       "      <td>1.619945</td>\n",
       "      <td>1.942223</td>\n",
       "      <td>NaN</td>\n",
       "      <td>-0.272685</td>\n",
       "    </tr>\n",
       "    <tr>\n",
       "      <th>2023-01-04</th>\n",
       "      <td>-0.359457</td>\n",
       "      <td>-0.605702</td>\n",
       "      <td>-0.068462</td>\n",
       "      <td>-0.385253</td>\n",
       "    </tr>\n",
       "    <tr>\n",
       "      <th>2023-01-05</th>\n",
       "      <td>0.242861</td>\n",
       "      <td>-0.593055</td>\n",
       "      <td>1.664027</td>\n",
       "      <td>0.444621</td>\n",
       "    </tr>\n",
       "  </tbody>\n",
       "</table>\n",
       "</div>"
      ],
      "text/plain": [
       "                   a         b         c         d\n",
       "2023-01-01 -0.046698 -1.364044  0.984077 -0.186613\n",
       "2023-01-02 -0.218112  0.479442  1.179653  1.151475\n",
       "2023-01-03  1.619945  1.942223       NaN -0.272685\n",
       "2023-01-04 -0.359457 -0.605702 -0.068462 -0.385253\n",
       "2023-01-05  0.242861 -0.593055  1.664027  0.444621"
      ]
     },
     "execution_count": 12,
     "metadata": {},
     "output_type": "execute_result"
    }
   ],
   "source": [
    "df_filldata.fillna(np.random.rand())\n",
    "df_filldata.head()"
   ]
  },
  {
   "cell_type": "markdown",
   "id": "00241f33",
   "metadata": {},
   "source": [
    "## Boolean reductions"
   ]
  },
  {
   "cell_type": "markdown",
   "id": "11730a96",
   "metadata": {},
   "source": [
    "- It is a way to summarize a boolean result.\n",
    "-  <code>empty, any(), all(), and bool()</code>"
   ]
  },
  {
   "cell_type": "code",
   "execution_count": 41,
   "id": "ecdbe41e",
   "metadata": {},
   "outputs": [
    {
     "data": {
      "text/html": [
       "<div>\n",
       "<style scoped>\n",
       "    .dataframe tbody tr th:only-of-type {\n",
       "        vertical-align: middle;\n",
       "    }\n",
       "\n",
       "    .dataframe tbody tr th {\n",
       "        vertical-align: top;\n",
       "    }\n",
       "\n",
       "    .dataframe thead th {\n",
       "        text-align: right;\n",
       "    }\n",
       "</style>\n",
       "<table border=\"1\" class=\"dataframe\">\n",
       "  <thead>\n",
       "    <tr style=\"text-align: right;\">\n",
       "      <th></th>\n",
       "      <th>A</th>\n",
       "      <th>B</th>\n",
       "      <th>C</th>\n",
       "    </tr>\n",
       "  </thead>\n",
       "  <tbody>\n",
       "    <tr>\n",
       "      <th>0</th>\n",
       "      <td>1</td>\n",
       "      <td>0</td>\n",
       "      <td>9</td>\n",
       "    </tr>\n",
       "    <tr>\n",
       "      <th>1</th>\n",
       "      <td>2</td>\n",
       "      <td>0</td>\n",
       "      <td>9</td>\n",
       "    </tr>\n",
       "    <tr>\n",
       "      <th>2</th>\n",
       "      <td>3</td>\n",
       "      <td>5</td>\n",
       "      <td>9</td>\n",
       "    </tr>\n",
       "  </tbody>\n",
       "</table>\n",
       "</div>"
      ],
      "text/plain": [
       "   A  B  C\n",
       "0  1  0  9\n",
       "1  2  0  9\n",
       "2  3  5  9"
      ]
     },
     "execution_count": 41,
     "metadata": {},
     "output_type": "execute_result"
    }
   ],
   "source": [
    "df_bool_reduction = pd.DataFrame({\n",
    "    \"A\": [1, 2, 3],\n",
    "    \"B\": [0, 0, 5],\n",
    "    \"C\": [9, 9, 9]\n",
    "})\n",
    "\n",
    "df_bool_reduction"
   ]
  },
  {
   "cell_type": "code",
   "execution_count": 42,
   "id": "6671d6bb",
   "metadata": {},
   "outputs": [
    {
     "data": {
      "text/plain": [
       "A     True\n",
       "B    False\n",
       "C     True\n",
       "dtype: bool"
      ]
     },
     "execution_count": 42,
     "metadata": {},
     "output_type": "execute_result"
    }
   ],
   "source": [
    "(df_bool_reduction > 0).all()"
   ]
  },
  {
   "cell_type": "code",
   "execution_count": 43,
   "id": "bb6e019f",
   "metadata": {},
   "outputs": [
    {
     "data": {
      "text/plain": [
       "A    True\n",
       "B    True\n",
       "C    True\n",
       "dtype: bool"
      ]
     },
     "execution_count": 43,
     "metadata": {},
     "output_type": "execute_result"
    }
   ],
   "source": [
    "(df_bool_reduction > 0).any()"
   ]
  }
 ],
 "metadata": {
  "kernelspec": {
   "display_name": "sklearn-env",
   "language": "python",
   "name": "python3"
  },
  "language_info": {
   "codemirror_mode": {
    "name": "ipython",
    "version": 3
   },
   "file_extension": ".py",
   "mimetype": "text/x-python",
   "name": "python",
   "nbconvert_exporter": "python",
   "pygments_lexer": "ipython3",
   "version": "3.10.18"
  }
 },
 "nbformat": 4,
 "nbformat_minor": 5
}

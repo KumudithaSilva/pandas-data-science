{
 "cells": [
  {
   "cell_type": "markdown",
   "id": "b4fae9be",
   "metadata": {},
   "source": [
    "##  📚 Essential Basic Functionality\n",
    "\n",
    "> Pandas is a foundational library in Python for working with structured data. It provides fast, flexible, and expressive tools designed to make data analysis and manipulation easy and intuitive. There are several essential functionalities that are fundamental to using Pandas effectively."
   ]
  },
  {
   "cell_type": "code",
   "execution_count": 1,
   "id": "c0f2c309",
   "metadata": {},
   "outputs": [],
   "source": [
    "import pandas as pd\n",
    "import numpy as np"
   ]
  },
  {
   "cell_type": "markdown",
   "id": "fd22bfbc",
   "metadata": {},
   "source": [
    "### Head and tail\n",
    "\n",
    "- Head shows the first 5 rows by default.\n",
    "- Tail shows the last 5 rows by default."
   ]
  },
  {
   "cell_type": "code",
   "execution_count": 2,
   "id": "fd90708a",
   "metadata": {},
   "outputs": [
    {
     "data": {
      "text/plain": [
       "0    0.973173\n",
       "1    0.717283\n",
       "2   -1.060321\n",
       "3   -1.682200\n",
       "4    1.134680\n",
       "5   -0.467489\n",
       "6    0.217820\n",
       "7   -0.381274\n",
       "8    1.022441\n",
       "9   -0.664676\n",
       "dtype: float64"
      ]
     },
     "execution_count": 2,
     "metadata": {},
     "output_type": "execute_result"
    }
   ],
   "source": [
    "long_series = pd.Series(np.random.randn(10))\n",
    "long_series"
   ]
  },
  {
   "cell_type": "code",
   "execution_count": 3,
   "id": "a4aa9f8a",
   "metadata": {},
   "outputs": [
    {
     "data": {
      "text/plain": [
       "0    0.973173\n",
       "1    0.717283\n",
       "2   -1.060321\n",
       "3   -1.682200\n",
       "4    1.134680\n",
       "dtype: float64"
      ]
     },
     "execution_count": 3,
     "metadata": {},
     "output_type": "execute_result"
    }
   ],
   "source": [
    "# Head\n",
    "long_series.head()"
   ]
  },
  {
   "cell_type": "code",
   "execution_count": 4,
   "id": "4b97b51d",
   "metadata": {},
   "outputs": [
    {
     "data": {
      "text/plain": [
       "5   -0.467489\n",
       "6    0.217820\n",
       "7   -0.381274\n",
       "8    1.022441\n",
       "9   -0.664676\n",
       "dtype: float64"
      ]
     },
     "execution_count": 4,
     "metadata": {},
     "output_type": "execute_result"
    }
   ],
   "source": [
    "# Tail\n",
    "long_series.tail()"
   ]
  },
  {
   "cell_type": "markdown",
   "id": "3c7fe8d8",
   "metadata": {},
   "source": [
    "### Attributes and underlying data\n",
    "\n",
    "- shape: gives the axis dimensions of the object, consistent with ndarray\n",
    "- Axis labels:\n",
    "    - Series: index (only axis)\n",
    "    - DataFrame: index and columns\n"
   ]
  },
  {
   "cell_type": "code",
   "execution_count": 5,
   "id": "9669941b",
   "metadata": {},
   "outputs": [
    {
     "data": {
      "text/html": [
       "<div>\n",
       "<style scoped>\n",
       "    .dataframe tbody tr th:only-of-type {\n",
       "        vertical-align: middle;\n",
       "    }\n",
       "\n",
       "    .dataframe tbody tr th {\n",
       "        vertical-align: top;\n",
       "    }\n",
       "\n",
       "    .dataframe thead th {\n",
       "        text-align: right;\n",
       "    }\n",
       "</style>\n",
       "<table border=\"1\" class=\"dataframe\">\n",
       "  <thead>\n",
       "    <tr style=\"text-align: right;\">\n",
       "      <th></th>\n",
       "      <th>A</th>\n",
       "      <th>B</th>\n",
       "      <th>C</th>\n",
       "      <th>D</th>\n",
       "    </tr>\n",
       "  </thead>\n",
       "  <tbody>\n",
       "    <tr>\n",
       "      <th>2023-01-01</th>\n",
       "      <td>-0.383576</td>\n",
       "      <td>-0.879254</td>\n",
       "      <td>0.639090</td>\n",
       "      <td>0.255350</td>\n",
       "    </tr>\n",
       "    <tr>\n",
       "      <th>2023-01-02</th>\n",
       "      <td>-0.068703</td>\n",
       "      <td>1.107940</td>\n",
       "      <td>1.874308</td>\n",
       "      <td>2.248359</td>\n",
       "    </tr>\n",
       "    <tr>\n",
       "      <th>2023-01-03</th>\n",
       "      <td>0.663555</td>\n",
       "      <td>1.769808</td>\n",
       "      <td>1.814589</td>\n",
       "      <td>-1.294594</td>\n",
       "    </tr>\n",
       "    <tr>\n",
       "      <th>2023-01-04</th>\n",
       "      <td>0.051002</td>\n",
       "      <td>-0.901208</td>\n",
       "      <td>2.426192</td>\n",
       "      <td>-0.075746</td>\n",
       "    </tr>\n",
       "    <tr>\n",
       "      <th>2023-01-05</th>\n",
       "      <td>-0.683598</td>\n",
       "      <td>-0.155574</td>\n",
       "      <td>-0.520885</td>\n",
       "      <td>-1.261785</td>\n",
       "    </tr>\n",
       "    <tr>\n",
       "      <th>2023-01-06</th>\n",
       "      <td>-0.078052</td>\n",
       "      <td>-0.504483</td>\n",
       "      <td>-0.277675</td>\n",
       "      <td>0.719818</td>\n",
       "    </tr>\n",
       "    <tr>\n",
       "      <th>2023-01-07</th>\n",
       "      <td>-1.085607</td>\n",
       "      <td>1.058821</td>\n",
       "      <td>-1.256169</td>\n",
       "      <td>0.634839</td>\n",
       "    </tr>\n",
       "    <tr>\n",
       "      <th>2023-01-08</th>\n",
       "      <td>0.327605</td>\n",
       "      <td>0.861452</td>\n",
       "      <td>-0.957489</td>\n",
       "      <td>1.690867</td>\n",
       "    </tr>\n",
       "    <tr>\n",
       "      <th>2023-01-09</th>\n",
       "      <td>0.716459</td>\n",
       "      <td>0.773287</td>\n",
       "      <td>-0.815275</td>\n",
       "      <td>1.528035</td>\n",
       "    </tr>\n",
       "    <tr>\n",
       "      <th>2023-01-10</th>\n",
       "      <td>-1.124508</td>\n",
       "      <td>-1.294064</td>\n",
       "      <td>0.250698</td>\n",
       "      <td>0.209566</td>\n",
       "    </tr>\n",
       "  </tbody>\n",
       "</table>\n",
       "</div>"
      ],
      "text/plain": [
       "                   A         B         C         D\n",
       "2023-01-01 -0.383576 -0.879254  0.639090  0.255350\n",
       "2023-01-02 -0.068703  1.107940  1.874308  2.248359\n",
       "2023-01-03  0.663555  1.769808  1.814589 -1.294594\n",
       "2023-01-04  0.051002 -0.901208  2.426192 -0.075746\n",
       "2023-01-05 -0.683598 -0.155574 -0.520885 -1.261785\n",
       "2023-01-06 -0.078052 -0.504483 -0.277675  0.719818\n",
       "2023-01-07 -1.085607  1.058821 -1.256169  0.634839\n",
       "2023-01-08  0.327605  0.861452 -0.957489  1.690867\n",
       "2023-01-09  0.716459  0.773287 -0.815275  1.528035\n",
       "2023-01-10 -1.124508 -1.294064  0.250698  0.209566"
      ]
     },
     "execution_count": 5,
     "metadata": {},
     "output_type": "execute_result"
    }
   ],
   "source": [
    "index = pd.date_range('20230101', periods=10)\n",
    "df = pd.DataFrame(np.random.randn(10, 4), index=index, columns=list ('ABCD'))\n",
    "df"
   ]
  },
  {
   "cell_type": "code",
   "execution_count": 6,
   "id": "6bb21d28",
   "metadata": {},
   "outputs": [
    {
     "data": {
      "text/html": [
       "<div>\n",
       "<style scoped>\n",
       "    .dataframe tbody tr th:only-of-type {\n",
       "        vertical-align: middle;\n",
       "    }\n",
       "\n",
       "    .dataframe tbody tr th {\n",
       "        vertical-align: top;\n",
       "    }\n",
       "\n",
       "    .dataframe thead th {\n",
       "        text-align: right;\n",
       "    }\n",
       "</style>\n",
       "<table border=\"1\" class=\"dataframe\">\n",
       "  <thead>\n",
       "    <tr style=\"text-align: right;\">\n",
       "      <th></th>\n",
       "      <th>a</th>\n",
       "      <th>b</th>\n",
       "      <th>c</th>\n",
       "      <th>d</th>\n",
       "    </tr>\n",
       "  </thead>\n",
       "  <tbody>\n",
       "    <tr>\n",
       "      <th>2023-01-01</th>\n",
       "      <td>-0.383576</td>\n",
       "      <td>-0.879254</td>\n",
       "      <td>0.639090</td>\n",
       "      <td>0.255350</td>\n",
       "    </tr>\n",
       "    <tr>\n",
       "      <th>2023-01-02</th>\n",
       "      <td>-0.068703</td>\n",
       "      <td>1.107940</td>\n",
       "      <td>1.874308</td>\n",
       "      <td>2.248359</td>\n",
       "    </tr>\n",
       "    <tr>\n",
       "      <th>2023-01-03</th>\n",
       "      <td>0.663555</td>\n",
       "      <td>1.769808</td>\n",
       "      <td>1.814589</td>\n",
       "      <td>-1.294594</td>\n",
       "    </tr>\n",
       "    <tr>\n",
       "      <th>2023-01-04</th>\n",
       "      <td>0.051002</td>\n",
       "      <td>-0.901208</td>\n",
       "      <td>2.426192</td>\n",
       "      <td>-0.075746</td>\n",
       "    </tr>\n",
       "    <tr>\n",
       "      <th>2023-01-05</th>\n",
       "      <td>-0.683598</td>\n",
       "      <td>-0.155574</td>\n",
       "      <td>-0.520885</td>\n",
       "      <td>-1.261785</td>\n",
       "    </tr>\n",
       "    <tr>\n",
       "      <th>2023-01-06</th>\n",
       "      <td>-0.078052</td>\n",
       "      <td>-0.504483</td>\n",
       "      <td>-0.277675</td>\n",
       "      <td>0.719818</td>\n",
       "    </tr>\n",
       "    <tr>\n",
       "      <th>2023-01-07</th>\n",
       "      <td>-1.085607</td>\n",
       "      <td>1.058821</td>\n",
       "      <td>-1.256169</td>\n",
       "      <td>0.634839</td>\n",
       "    </tr>\n",
       "    <tr>\n",
       "      <th>2023-01-08</th>\n",
       "      <td>0.327605</td>\n",
       "      <td>0.861452</td>\n",
       "      <td>-0.957489</td>\n",
       "      <td>1.690867</td>\n",
       "    </tr>\n",
       "    <tr>\n",
       "      <th>2023-01-09</th>\n",
       "      <td>0.716459</td>\n",
       "      <td>0.773287</td>\n",
       "      <td>-0.815275</td>\n",
       "      <td>1.528035</td>\n",
       "    </tr>\n",
       "    <tr>\n",
       "      <th>2023-01-10</th>\n",
       "      <td>-1.124508</td>\n",
       "      <td>-1.294064</td>\n",
       "      <td>0.250698</td>\n",
       "      <td>0.209566</td>\n",
       "    </tr>\n",
       "  </tbody>\n",
       "</table>\n",
       "</div>"
      ],
      "text/plain": [
       "                   a         b         c         d\n",
       "2023-01-01 -0.383576 -0.879254  0.639090  0.255350\n",
       "2023-01-02 -0.068703  1.107940  1.874308  2.248359\n",
       "2023-01-03  0.663555  1.769808  1.814589 -1.294594\n",
       "2023-01-04  0.051002 -0.901208  2.426192 -0.075746\n",
       "2023-01-05 -0.683598 -0.155574 -0.520885 -1.261785\n",
       "2023-01-06 -0.078052 -0.504483 -0.277675  0.719818\n",
       "2023-01-07 -1.085607  1.058821 -1.256169  0.634839\n",
       "2023-01-08  0.327605  0.861452 -0.957489  1.690867\n",
       "2023-01-09  0.716459  0.773287 -0.815275  1.528035\n",
       "2023-01-10 -1.124508 -1.294064  0.250698  0.209566"
      ]
     },
     "execution_count": 6,
     "metadata": {},
     "output_type": "execute_result"
    }
   ],
   "source": [
    "df.columns = [x.lower() for x in df.columns]\n",
    "df"
   ]
  },
  {
   "cell_type": "markdown",
   "id": "6b861b40",
   "metadata": {},
   "source": [
    "#### Numpy\n",
    "\n",
    "- It is a reliable and consistent method to convert pandas objects to NumPy arrays, offering better control over data types and compatibility with extension types compared other methods."
   ]
  },
  {
   "cell_type": "code",
   "execution_count": 7,
   "id": "dc98654f",
   "metadata": {},
   "outputs": [
    {
     "data": {
      "text/plain": [
       "array([[-0.38357604, -0.87925397,  0.63908979,  0.25535014],\n",
       "       [-0.06870283,  1.10793983,  1.87430836,  2.24835927],\n",
       "       [ 0.66355541,  1.76980776,  1.81458866, -1.29459416],\n",
       "       [ 0.05100165, -0.90120753,  2.42619236, -0.07574637],\n",
       "       [-0.68359847, -0.15557431, -0.52088535, -1.26178462],\n",
       "       [-0.07805197, -0.50448271, -0.27767525,  0.71981847],\n",
       "       [-1.08560696,  1.0588213 , -1.25616859,  0.63483914],\n",
       "       [ 0.32760532,  0.86145232, -0.95748874,  1.69086688],\n",
       "       [ 0.71645923,  0.77328713, -0.81527474,  1.52803502],\n",
       "       [-1.12450828, -1.29406448,  0.2506981 ,  0.20956627]])"
      ]
     },
     "execution_count": 7,
     "metadata": {},
     "output_type": "execute_result"
    }
   ],
   "source": [
    "df_numpy = df.to_numpy()\n",
    "df_numpy"
   ]
  },
  {
   "cell_type": "markdown",
   "id": "557a6393",
   "metadata": {},
   "source": [
    "## Matching / broadcasting behavior"
   ]
  },
  {
   "cell_type": "code",
   "execution_count": 8,
   "id": "30650444",
   "metadata": {},
   "outputs": [
    {
     "data": {
      "text/html": [
       "<div>\n",
       "<style scoped>\n",
       "    .dataframe tbody tr th:only-of-type {\n",
       "        vertical-align: middle;\n",
       "    }\n",
       "\n",
       "    .dataframe tbody tr th {\n",
       "        vertical-align: top;\n",
       "    }\n",
       "\n",
       "    .dataframe thead th {\n",
       "        text-align: right;\n",
       "    }\n",
       "</style>\n",
       "<table border=\"1\" class=\"dataframe\">\n",
       "  <thead>\n",
       "    <tr style=\"text-align: right;\">\n",
       "      <th></th>\n",
       "      <th>one</th>\n",
       "      <th>two</th>\n",
       "      <th>three</th>\n",
       "    </tr>\n",
       "  </thead>\n",
       "  <tbody>\n",
       "    <tr>\n",
       "      <th>a</th>\n",
       "      <td>6.0</td>\n",
       "      <td>8.0</td>\n",
       "      <td>0</td>\n",
       "    </tr>\n",
       "    <tr>\n",
       "      <th>b</th>\n",
       "      <td>5.0</td>\n",
       "      <td>0.0</td>\n",
       "      <td>9</td>\n",
       "    </tr>\n",
       "    <tr>\n",
       "      <th>c</th>\n",
       "      <td>1.0</td>\n",
       "      <td>4.0</td>\n",
       "      <td>1</td>\n",
       "    </tr>\n",
       "    <tr>\n",
       "      <th>d</th>\n",
       "      <td>NaN</td>\n",
       "      <td>NaN</td>\n",
       "      <td>9</td>\n",
       "    </tr>\n",
       "  </tbody>\n",
       "</table>\n",
       "</div>"
      ],
      "text/plain": [
       "   one  two  three\n",
       "a  6.0  8.0      0\n",
       "b  5.0  0.0      9\n",
       "c  1.0  4.0      1\n",
       "d  NaN  NaN      9"
      ]
     },
     "execution_count": 8,
     "metadata": {},
     "output_type": "execute_result"
    }
   ],
   "source": [
    "df_mathing_broadcasting = pd.DataFrame(\n",
    "    {\n",
    "        \"one\": pd.Series(np.random.randint(0, 10, 3), index=[\"a\", \"b\", \"c\"]),\n",
    "        \"two\": pd.Series(np.random.randint(0, 10, 3), index=[\"a\", \"b\", \"c\"]),\n",
    "        \"three\": pd.Series(np.random.randint(0, 10, 4), index=[\"a\", \"b\", \"c\", \"d\"]),\n",
    "\n",
    "    }\n",
    ")\n",
    "df_mathing_broadcasting"
   ]
  },
  {
   "cell_type": "markdown",
   "id": "1c47fe18",
   "metadata": {},
   "source": [
    "### Sub\n",
    "\n",
    "- It is a method used to perform subtraction between Series or DataFrames."
   ]
  },
  {
   "cell_type": "code",
   "execution_count": 9,
   "id": "c3f0dc02",
   "metadata": {},
   "outputs": [
    {
     "data": {
      "text/plain": [
       "one      1.0\n",
       "two      4.0\n",
       "three    1.0\n",
       "Name: c, dtype: float64"
      ]
     },
     "execution_count": 9,
     "metadata": {},
     "output_type": "execute_result"
    }
   ],
   "source": [
    "df_sub_l1 = df_mathing_broadcasting.iloc[2]\n",
    "df_sub_l1"
   ]
  },
  {
   "cell_type": "code",
   "execution_count": 10,
   "id": "525bc421",
   "metadata": {},
   "outputs": [
    {
     "data": {
      "text/html": [
       "<div>\n",
       "<style scoped>\n",
       "    .dataframe tbody tr th:only-of-type {\n",
       "        vertical-align: middle;\n",
       "    }\n",
       "\n",
       "    .dataframe tbody tr th {\n",
       "        vertical-align: top;\n",
       "    }\n",
       "\n",
       "    .dataframe thead th {\n",
       "        text-align: right;\n",
       "    }\n",
       "</style>\n",
       "<table border=\"1\" class=\"dataframe\">\n",
       "  <thead>\n",
       "    <tr style=\"text-align: right;\">\n",
       "      <th></th>\n",
       "      <th>one</th>\n",
       "      <th>two</th>\n",
       "      <th>three</th>\n",
       "    </tr>\n",
       "  </thead>\n",
       "  <tbody>\n",
       "    <tr>\n",
       "      <th>a</th>\n",
       "      <td>5.0</td>\n",
       "      <td>4.0</td>\n",
       "      <td>-1.0</td>\n",
       "    </tr>\n",
       "    <tr>\n",
       "      <th>b</th>\n",
       "      <td>4.0</td>\n",
       "      <td>-4.0</td>\n",
       "      <td>8.0</td>\n",
       "    </tr>\n",
       "    <tr>\n",
       "      <th>c</th>\n",
       "      <td>0.0</td>\n",
       "      <td>0.0</td>\n",
       "      <td>0.0</td>\n",
       "    </tr>\n",
       "    <tr>\n",
       "      <th>d</th>\n",
       "      <td>NaN</td>\n",
       "      <td>NaN</td>\n",
       "      <td>8.0</td>\n",
       "    </tr>\n",
       "  </tbody>\n",
       "</table>\n",
       "</div>"
      ],
      "text/plain": [
       "   one  two  three\n",
       "a  5.0  4.0   -1.0\n",
       "b  4.0 -4.0    8.0\n",
       "c  0.0  0.0    0.0\n",
       "d  NaN  NaN    8.0"
      ]
     },
     "execution_count": 10,
     "metadata": {},
     "output_type": "execute_result"
    }
   ],
   "source": [
    "df_mathing_broadcasting.sub(df_sub_l1 , axis=\"columns\")"
   ]
  },
  {
   "cell_type": "markdown",
   "id": "6743e809",
   "metadata": {},
   "source": [
    "## Missing data / operations with fill values"
   ]
  },
  {
   "cell_type": "code",
   "execution_count": 30,
   "id": "47d44b89",
   "metadata": {},
   "outputs": [
    {
     "data": {
      "text/html": [
       "<div>\n",
       "<style scoped>\n",
       "    .dataframe tbody tr th:only-of-type {\n",
       "        vertical-align: middle;\n",
       "    }\n",
       "\n",
       "    .dataframe tbody tr th {\n",
       "        vertical-align: top;\n",
       "    }\n",
       "\n",
       "    .dataframe thead th {\n",
       "        text-align: right;\n",
       "    }\n",
       "</style>\n",
       "<table border=\"1\" class=\"dataframe\">\n",
       "  <thead>\n",
       "    <tr style=\"text-align: right;\">\n",
       "      <th></th>\n",
       "      <th>a</th>\n",
       "      <th>b</th>\n",
       "      <th>c</th>\n",
       "      <th>d</th>\n",
       "    </tr>\n",
       "  </thead>\n",
       "  <tbody>\n",
       "    <tr>\n",
       "      <th>2023-01-01</th>\n",
       "      <td>-0.383576</td>\n",
       "      <td>-0.879254</td>\n",
       "      <td>0.639090</td>\n",
       "      <td>0.255350</td>\n",
       "    </tr>\n",
       "    <tr>\n",
       "      <th>2023-01-02</th>\n",
       "      <td>-0.068703</td>\n",
       "      <td>1.107940</td>\n",
       "      <td>1.874308</td>\n",
       "      <td>2.248359</td>\n",
       "    </tr>\n",
       "    <tr>\n",
       "      <th>2023-01-03</th>\n",
       "      <td>0.663555</td>\n",
       "      <td>1.769808</td>\n",
       "      <td>NaN</td>\n",
       "      <td>-1.294594</td>\n",
       "    </tr>\n",
       "    <tr>\n",
       "      <th>2023-01-04</th>\n",
       "      <td>0.051002</td>\n",
       "      <td>-0.901208</td>\n",
       "      <td>2.426192</td>\n",
       "      <td>-0.075746</td>\n",
       "    </tr>\n",
       "    <tr>\n",
       "      <th>2023-01-05</th>\n",
       "      <td>-0.683598</td>\n",
       "      <td>-0.155574</td>\n",
       "      <td>-0.520885</td>\n",
       "      <td>-1.261785</td>\n",
       "    </tr>\n",
       "  </tbody>\n",
       "</table>\n",
       "</div>"
      ],
      "text/plain": [
       "                   a         b         c         d\n",
       "2023-01-01 -0.383576 -0.879254  0.639090  0.255350\n",
       "2023-01-02 -0.068703  1.107940  1.874308  2.248359\n",
       "2023-01-03  0.663555  1.769808       NaN -1.294594\n",
       "2023-01-04  0.051002 -0.901208  2.426192 -0.075746\n",
       "2023-01-05 -0.683598 -0.155574 -0.520885 -1.261785"
      ]
     },
     "execution_count": 30,
     "metadata": {},
     "output_type": "execute_result"
    }
   ],
   "source": [
    "df_filldata = df.copy()\n",
    "df_filldata.iloc[2, 2] = np.nan\n",
    "df_filldata.head()"
   ]
  },
  {
   "cell_type": "code",
   "execution_count": 31,
   "id": "a1b58116",
   "metadata": {},
   "outputs": [
    {
     "data": {
      "text/html": [
       "<div>\n",
       "<style scoped>\n",
       "    .dataframe tbody tr th:only-of-type {\n",
       "        vertical-align: middle;\n",
       "    }\n",
       "\n",
       "    .dataframe tbody tr th {\n",
       "        vertical-align: top;\n",
       "    }\n",
       "\n",
       "    .dataframe thead th {\n",
       "        text-align: right;\n",
       "    }\n",
       "</style>\n",
       "<table border=\"1\" class=\"dataframe\">\n",
       "  <thead>\n",
       "    <tr style=\"text-align: right;\">\n",
       "      <th></th>\n",
       "      <th>a</th>\n",
       "      <th>b</th>\n",
       "      <th>c</th>\n",
       "      <th>d</th>\n",
       "    </tr>\n",
       "  </thead>\n",
       "  <tbody>\n",
       "    <tr>\n",
       "      <th>2023-01-01</th>\n",
       "      <td>-0.383576</td>\n",
       "      <td>-0.879254</td>\n",
       "      <td>0.639090</td>\n",
       "      <td>0.255350</td>\n",
       "    </tr>\n",
       "    <tr>\n",
       "      <th>2023-01-02</th>\n",
       "      <td>-0.068703</td>\n",
       "      <td>1.107940</td>\n",
       "      <td>1.874308</td>\n",
       "      <td>2.248359</td>\n",
       "    </tr>\n",
       "    <tr>\n",
       "      <th>2023-01-03</th>\n",
       "      <td>0.663555</td>\n",
       "      <td>1.769808</td>\n",
       "      <td>NaN</td>\n",
       "      <td>-1.294594</td>\n",
       "    </tr>\n",
       "    <tr>\n",
       "      <th>2023-01-04</th>\n",
       "      <td>0.051002</td>\n",
       "      <td>-0.901208</td>\n",
       "      <td>2.426192</td>\n",
       "      <td>-0.075746</td>\n",
       "    </tr>\n",
       "    <tr>\n",
       "      <th>2023-01-05</th>\n",
       "      <td>-0.683598</td>\n",
       "      <td>-0.155574</td>\n",
       "      <td>-0.520885</td>\n",
       "      <td>-1.261785</td>\n",
       "    </tr>\n",
       "  </tbody>\n",
       "</table>\n",
       "</div>"
      ],
      "text/plain": [
       "                   a         b         c         d\n",
       "2023-01-01 -0.383576 -0.879254  0.639090  0.255350\n",
       "2023-01-02 -0.068703  1.107940  1.874308  2.248359\n",
       "2023-01-03  0.663555  1.769808       NaN -1.294594\n",
       "2023-01-04  0.051002 -0.901208  2.426192 -0.075746\n",
       "2023-01-05 -0.683598 -0.155574 -0.520885 -1.261785"
      ]
     },
     "execution_count": 31,
     "metadata": {},
     "output_type": "execute_result"
    }
   ],
   "source": [
    "df_filldata.fillna(np.random.rand())\n",
    "df_filldata.head()"
   ]
  }
 ],
 "metadata": {
  "kernelspec": {
   "display_name": "sklearn-env",
   "language": "python",
   "name": "python3"
  },
  "language_info": {
   "codemirror_mode": {
    "name": "ipython",
    "version": 3
   },
   "file_extension": ".py",
   "mimetype": "text/x-python",
   "name": "python",
   "nbconvert_exporter": "python",
   "pygments_lexer": "ipython3",
   "version": "3.10.18"
  }
 },
 "nbformat": 4,
 "nbformat_minor": 5
}

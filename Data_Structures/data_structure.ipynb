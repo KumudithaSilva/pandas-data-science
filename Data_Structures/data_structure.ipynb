{
 "cells": [
  {
   "cell_type": "markdown",
   "id": "3b254945",
   "metadata": {},
   "source": [
    "## 📊 Data Structures\n",
    "\n",
    "> Pandas provides two primary data structures for handling data efficiently:\n",
    "\n",
    "- **Series** – A one-dimensional labeled array.\n",
    "- **DataFrame** – A two-dimensional labeled table (rows and columns).\n"
   ]
  },
  {
   "cell_type": "code",
   "execution_count": 1,
   "id": "b711851c",
   "metadata": {},
   "outputs": [],
   "source": [
    "import pandas as pd\n",
    "import numpy as np"
   ]
  },
  {
   "cell_type": "markdown",
   "id": "79eee0fe",
   "metadata": {},
   "source": [
    "### Series"
   ]
  },
  {
   "cell_type": "markdown",
   "id": "b02b96e4",
   "metadata": {},
   "source": [
    "- It is an one-dimensional labeled array \n",
    "- Each value has an index (label)"
   ]
  },
  {
   "cell_type": "code",
   "execution_count": 2,
   "id": "ecec44e6",
   "metadata": {},
   "outputs": [
    {
     "name": "stdout",
     "output_type": "stream",
     "text": [
      "Series: 0    1.0\n",
      "1    3.0\n",
      "2    5.0\n",
      "3    NaN\n",
      "4    6.0\n",
      "5    8.0\n",
      "dtype: float64\n"
     ]
    }
   ],
   "source": [
    "# Series\n",
    "s = pd.Series([1, 3, 5, np.nan, 6, 8])\n",
    "print(\"Series:\", s)"
   ]
  },
  {
   "cell_type": "code",
   "execution_count": 3,
   "id": "c6009fce",
   "metadata": {},
   "outputs": [
    {
     "data": {
      "text/plain": [
       "0    1.0\n",
       "1    3.0\n",
       "2    5.0\n",
       "3    NaN\n",
       "4    6.0\n",
       "5    8.0\n",
       "Name: numbers, dtype: float64"
      ]
     },
     "execution_count": 3,
     "metadata": {},
     "output_type": "execute_result"
    }
   ],
   "source": [
    "# Naming the series\n",
    "\n",
    "s.name = \"numbers\"\n",
    "s"
   ]
  },
  {
   "cell_type": "markdown",
   "id": "3386dba1",
   "metadata": {},
   "source": [
    "##### Numpy Arrary"
   ]
  },
  {
   "cell_type": "markdown",
   "id": "d7d0495f",
   "metadata": {},
   "source": [
    "- A NumPy array is the core data structure of the NumPy library in Python.\n",
    "- It's like a supercharged list, built for fast numerical computing."
   ]
  },
  {
   "cell_type": "code",
   "execution_count": 4,
   "id": "34325b54",
   "metadata": {},
   "outputs": [
    {
     "data": {
      "text/plain": [
       "array([ 1.,  3.,  5., nan,  6.,  8.])"
      ]
     },
     "execution_count": 4,
     "metadata": {},
     "output_type": "execute_result"
    }
   ],
   "source": [
    "s.to_numpy()"
   ]
  },
  {
   "cell_type": "markdown",
   "id": "212943b9",
   "metadata": {},
   "source": [
    "## DataFrame\n",
    "\n",
    "- A **DataFrame** is like a table in Python. It has rows and columns. In general the most commonly used pandas is an object. \n",
    "- DataFrame accepts many different kinds of input:\n",
    "\n",
    "    - Dict of 1D ndarrays, lists, dicts, or Series\n",
    "\n",
    "     - 2-D numpy.ndarray\n",
    "\n",
    "     - Structured or record ndarray\n",
    "\n",
    "     - A Series\n",
    "\n",
    "     - Another DataFrame\n"
   ]
  },
  {
   "cell_type": "code",
   "execution_count": 5,
   "id": "0213ffbb",
   "metadata": {},
   "outputs": [
    {
     "data": {
      "text/html": [
       "<div>\n",
       "<style scoped>\n",
       "    .dataframe tbody tr th:only-of-type {\n",
       "        vertical-align: middle;\n",
       "    }\n",
       "\n",
       "    .dataframe tbody tr th {\n",
       "        vertical-align: top;\n",
       "    }\n",
       "\n",
       "    .dataframe thead th {\n",
       "        text-align: right;\n",
       "    }\n",
       "</style>\n",
       "<table border=\"1\" class=\"dataframe\">\n",
       "  <thead>\n",
       "    <tr style=\"text-align: right;\">\n",
       "      <th></th>\n",
       "      <th>A</th>\n",
       "      <th>B</th>\n",
       "      <th>C</th>\n",
       "      <th>D</th>\n",
       "      <th>E</th>\n",
       "      <th>F</th>\n",
       "    </tr>\n",
       "  </thead>\n",
       "  <tbody>\n",
       "    <tr>\n",
       "      <th>0</th>\n",
       "      <td>1.0</td>\n",
       "      <td>2023-01-02</td>\n",
       "      <td>1.0</td>\n",
       "      <td>3</td>\n",
       "      <td>test</td>\n",
       "      <td>foo</td>\n",
       "    </tr>\n",
       "    <tr>\n",
       "      <th>1</th>\n",
       "      <td>1.0</td>\n",
       "      <td>2023-01-02</td>\n",
       "      <td>1.0</td>\n",
       "      <td>3</td>\n",
       "      <td>train</td>\n",
       "      <td>foo</td>\n",
       "    </tr>\n",
       "    <tr>\n",
       "      <th>2</th>\n",
       "      <td>1.0</td>\n",
       "      <td>2023-01-02</td>\n",
       "      <td>1.0</td>\n",
       "      <td>3</td>\n",
       "      <td>test</td>\n",
       "      <td>foo</td>\n",
       "    </tr>\n",
       "    <tr>\n",
       "      <th>3</th>\n",
       "      <td>1.0</td>\n",
       "      <td>2023-01-02</td>\n",
       "      <td>1.0</td>\n",
       "      <td>3</td>\n",
       "      <td>train</td>\n",
       "      <td>foo</td>\n",
       "    </tr>\n",
       "  </tbody>\n",
       "</table>\n",
       "</div>"
      ],
      "text/plain": [
       "     A          B    C  D      E    F\n",
       "0  1.0 2023-01-02  1.0  3   test  foo\n",
       "1  1.0 2023-01-02  1.0  3  train  foo\n",
       "2  1.0 2023-01-02  1.0  3   test  foo\n",
       "3  1.0 2023-01-02  1.0  3  train  foo"
      ]
     },
     "execution_count": 5,
     "metadata": {},
     "output_type": "execute_result"
    }
   ],
   "source": [
    "dataframe = pd.DataFrame({\n",
    "    \"A\": 1.0,\n",
    "    \"B\": pd.Timestamp(\"20230102\"),\n",
    "    \"C\": pd.Series(1, index=list(range(4)), dtype=\"float32\"),\n",
    "    \"D\": np.array([3] * 4, dtype=\"int32\"),\n",
    "    \"E\": pd.Categorical([\"test\", \"train\", \"test\", \"train\"]),\n",
    "    \"F\": \"foo\",\n",
    "})\n",
    "dataframe"
   ]
  },
  {
   "cell_type": "code",
   "execution_count": 6,
   "id": "de11d865",
   "metadata": {},
   "outputs": [
    {
     "name": "stdout",
     "output_type": "stream",
     "text": [
      "<class 'pandas.core.frame.DataFrame'>\n",
      "Index: 4 entries, 0 to 3\n",
      "Data columns (total 6 columns):\n",
      " #   Column  Non-Null Count  Dtype        \n",
      "---  ------  --------------  -----        \n",
      " 0   A       4 non-null      float64      \n",
      " 1   B       4 non-null      datetime64[s]\n",
      " 2   C       4 non-null      float32      \n",
      " 3   D       4 non-null      int32        \n",
      " 4   E       4 non-null      category     \n",
      " 5   F       4 non-null      object       \n",
      "dtypes: category(1), datetime64[s](1), float32(1), float64(1), int32(1), object(1)\n",
      "memory usage: 288.0+ bytes\n"
     ]
    }
   ],
   "source": [
    "dataframe.info()"
   ]
  },
  {
   "cell_type": "markdown",
   "id": "61191859",
   "metadata": {},
   "source": [
    "## Assign\n",
    "\n",
    "- It add new columns to a DataFrame. It returns a new DataFrame with the added columns, without modifying the original one."
   ]
  },
  {
   "cell_type": "code",
   "execution_count": 7,
   "id": "60a73b87",
   "metadata": {},
   "outputs": [
    {
     "data": {
      "text/html": [
       "<div>\n",
       "<style scoped>\n",
       "    .dataframe tbody tr th:only-of-type {\n",
       "        vertical-align: middle;\n",
       "    }\n",
       "\n",
       "    .dataframe tbody tr th {\n",
       "        vertical-align: top;\n",
       "    }\n",
       "\n",
       "    .dataframe thead th {\n",
       "        text-align: right;\n",
       "    }\n",
       "</style>\n",
       "<table border=\"1\" class=\"dataframe\">\n",
       "  <thead>\n",
       "    <tr style=\"text-align: right;\">\n",
       "      <th></th>\n",
       "      <th>A</th>\n",
       "      <th>B</th>\n",
       "      <th>C</th>\n",
       "      <th>D</th>\n",
       "      <th>E</th>\n",
       "      <th>F</th>\n",
       "      <th>D_multi</th>\n",
       "    </tr>\n",
       "  </thead>\n",
       "  <tbody>\n",
       "    <tr>\n",
       "      <th>0</th>\n",
       "      <td>1.0</td>\n",
       "      <td>2023-01-02</td>\n",
       "      <td>1.0</td>\n",
       "      <td>3</td>\n",
       "      <td>test</td>\n",
       "      <td>foo</td>\n",
       "      <td>4.0</td>\n",
       "    </tr>\n",
       "    <tr>\n",
       "      <th>1</th>\n",
       "      <td>1.0</td>\n",
       "      <td>2023-01-02</td>\n",
       "      <td>1.0</td>\n",
       "      <td>3</td>\n",
       "      <td>train</td>\n",
       "      <td>foo</td>\n",
       "      <td>4.0</td>\n",
       "    </tr>\n",
       "    <tr>\n",
       "      <th>2</th>\n",
       "      <td>1.0</td>\n",
       "      <td>2023-01-02</td>\n",
       "      <td>1.0</td>\n",
       "      <td>3</td>\n",
       "      <td>test</td>\n",
       "      <td>foo</td>\n",
       "      <td>4.0</td>\n",
       "    </tr>\n",
       "    <tr>\n",
       "      <th>3</th>\n",
       "      <td>1.0</td>\n",
       "      <td>2023-01-02</td>\n",
       "      <td>1.0</td>\n",
       "      <td>3</td>\n",
       "      <td>train</td>\n",
       "      <td>foo</td>\n",
       "      <td>4.0</td>\n",
       "    </tr>\n",
       "  </tbody>\n",
       "</table>\n",
       "</div>"
      ],
      "text/plain": [
       "     A          B    C  D      E    F  D_multi\n",
       "0  1.0 2023-01-02  1.0  3   test  foo      4.0\n",
       "1  1.0 2023-01-02  1.0  3  train  foo      4.0\n",
       "2  1.0 2023-01-02  1.0  3   test  foo      4.0\n",
       "3  1.0 2023-01-02  1.0  3  train  foo      4.0"
      ]
     },
     "execution_count": 7,
     "metadata": {},
     "output_type": "execute_result"
    }
   ],
   "source": [
    "dataframe.assign(D_multi=dataframe[\"D\"] + dataframe[\"A\"])"
   ]
  },
  {
   "cell_type": "markdown",
   "id": "0cb3d239",
   "metadata": {},
   "source": [
    "## Indexing and Selection"
   ]
  },
  {
   "cell_type": "markdown",
   "id": "9085034c",
   "metadata": {},
   "source": [
    "| Operation                        | Syntax           | Result     | \n",
    "|----------------------------------|------------------|------------|\n",
    "| Select column                    | `df[col]`        | Series     |\n",
    "| Select row by label             | `df.loc[label]`  | Series     |\n",
    "| Select row by integer location | `df.iloc[loc]`   | Series     |\n",
    "| Slice rows                       | `df[5:10]`       | DataFrame  |\n",
    "| Select rows by boolean vector   | `df[bool_vec]`   | DataFrame  |"
   ]
  },
  {
   "cell_type": "code",
   "execution_count": 8,
   "id": "3fbe39a9",
   "metadata": {},
   "outputs": [
    {
     "data": {
      "text/html": [
       "<div>\n",
       "<style scoped>\n",
       "    .dataframe tbody tr th:only-of-type {\n",
       "        vertical-align: middle;\n",
       "    }\n",
       "\n",
       "    .dataframe tbody tr th {\n",
       "        vertical-align: top;\n",
       "    }\n",
       "\n",
       "    .dataframe thead th {\n",
       "        text-align: right;\n",
       "    }\n",
       "</style>\n",
       "<table border=\"1\" class=\"dataframe\">\n",
       "  <thead>\n",
       "    <tr style=\"text-align: right;\">\n",
       "      <th></th>\n",
       "      <th>A</th>\n",
       "      <th>B</th>\n",
       "      <th>C</th>\n",
       "      <th>D</th>\n",
       "      <th>E</th>\n",
       "    </tr>\n",
       "  </thead>\n",
       "  <tbody>\n",
       "    <tr>\n",
       "      <th>0</th>\n",
       "      <td>0.343961</td>\n",
       "      <td>0.150962</td>\n",
       "      <td>0.219405</td>\n",
       "      <td>0.174419</td>\n",
       "      <td>0.643213</td>\n",
       "    </tr>\n",
       "    <tr>\n",
       "      <th>1</th>\n",
       "      <td>0.526462</td>\n",
       "      <td>0.012176</td>\n",
       "      <td>0.270882</td>\n",
       "      <td>0.466939</td>\n",
       "      <td>0.635735</td>\n",
       "    </tr>\n",
       "    <tr>\n",
       "      <th>2</th>\n",
       "      <td>0.815319</td>\n",
       "      <td>0.495526</td>\n",
       "      <td>0.595185</td>\n",
       "      <td>0.007326</td>\n",
       "      <td>0.157740</td>\n",
       "    </tr>\n",
       "    <tr>\n",
       "      <th>3</th>\n",
       "      <td>0.023758</td>\n",
       "      <td>0.599895</td>\n",
       "      <td>0.133167</td>\n",
       "      <td>0.445974</td>\n",
       "      <td>0.719086</td>\n",
       "    </tr>\n",
       "    <tr>\n",
       "      <th>4</th>\n",
       "      <td>0.425161</td>\n",
       "      <td>0.135112</td>\n",
       "      <td>0.323847</td>\n",
       "      <td>0.591478</td>\n",
       "      <td>0.443758</td>\n",
       "    </tr>\n",
       "    <tr>\n",
       "      <th>5</th>\n",
       "      <td>0.833287</td>\n",
       "      <td>0.083967</td>\n",
       "      <td>0.629248</td>\n",
       "      <td>0.004949</td>\n",
       "      <td>0.717577</td>\n",
       "    </tr>\n",
       "    <tr>\n",
       "      <th>6</th>\n",
       "      <td>0.858486</td>\n",
       "      <td>0.661285</td>\n",
       "      <td>0.578026</td>\n",
       "      <td>0.443783</td>\n",
       "      <td>0.021609</td>\n",
       "    </tr>\n",
       "  </tbody>\n",
       "</table>\n",
       "</div>"
      ],
      "text/plain": [
       "          A         B         C         D         E\n",
       "0  0.343961  0.150962  0.219405  0.174419  0.643213\n",
       "1  0.526462  0.012176  0.270882  0.466939  0.635735\n",
       "2  0.815319  0.495526  0.595185  0.007326  0.157740\n",
       "3  0.023758  0.599895  0.133167  0.445974  0.719086\n",
       "4  0.425161  0.135112  0.323847  0.591478  0.443758\n",
       "5  0.833287  0.083967  0.629248  0.004949  0.717577\n",
       "6  0.858486  0.661285  0.578026  0.443783  0.021609"
      ]
     },
     "execution_count": 8,
     "metadata": {},
     "output_type": "execute_result"
    }
   ],
   "source": [
    "df_index = pd.DataFrame({\n",
    "    \"A\" : np.random.random_sample(7),\n",
    "    \"B\" : np.random.random_sample(7),\n",
    "    \"C\" : np.random.random_sample(7),\n",
    "    \"D\" : np.random.random_sample(7),\n",
    "    \"E\" : np.random.random_sample(7),\n",
    "    })\n",
    "\n",
    "df_index"
   ]
  },
  {
   "cell_type": "code",
   "execution_count": 9,
   "id": "f8a0b68c",
   "metadata": {},
   "outputs": [
    {
     "data": {
      "text/plain": [
       "0    0.343961\n",
       "1    0.526462\n",
       "2    0.815319\n",
       "3    0.023758\n",
       "4    0.425161\n",
       "5    0.833287\n",
       "6    0.858486\n",
       "Name: A, dtype: float64"
      ]
     },
     "execution_count": 9,
     "metadata": {},
     "output_type": "execute_result"
    }
   ],
   "source": [
    "# Series (single column)\n",
    "df_index['A']"
   ]
  },
  {
   "cell_type": "code",
   "execution_count": 10,
   "id": "39032666",
   "metadata": {},
   "outputs": [
    {
     "data": {
      "text/plain": [
       "A    0.343961\n",
       "B    0.150962\n",
       "C    0.219405\n",
       "D    0.174419\n",
       "E    0.643213\n",
       "Name: 0, dtype: float64"
      ]
     },
     "execution_count": 10,
     "metadata": {},
     "output_type": "execute_result"
    }
   ],
   "source": [
    "# Series (single row)\n",
    "df_index.iloc[0]"
   ]
  },
  {
   "cell_type": "code",
   "execution_count": 11,
   "id": "9ff3baeb",
   "metadata": {},
   "outputs": [
    {
     "data": {
      "text/html": [
       "<div>\n",
       "<style scoped>\n",
       "    .dataframe tbody tr th:only-of-type {\n",
       "        vertical-align: middle;\n",
       "    }\n",
       "\n",
       "    .dataframe tbody tr th {\n",
       "        vertical-align: top;\n",
       "    }\n",
       "\n",
       "    .dataframe thead th {\n",
       "        text-align: right;\n",
       "    }\n",
       "</style>\n",
       "<table border=\"1\" class=\"dataframe\">\n",
       "  <thead>\n",
       "    <tr style=\"text-align: right;\">\n",
       "      <th></th>\n",
       "      <th>A</th>\n",
       "      <th>B</th>\n",
       "      <th>C</th>\n",
       "      <th>D</th>\n",
       "      <th>E</th>\n",
       "    </tr>\n",
       "  </thead>\n",
       "  <tbody>\n",
       "    <tr>\n",
       "      <th>0</th>\n",
       "      <td>0.343961</td>\n",
       "      <td>0.150962</td>\n",
       "      <td>0.219405</td>\n",
       "      <td>0.174419</td>\n",
       "      <td>0.643213</td>\n",
       "    </tr>\n",
       "    <tr>\n",
       "      <th>1</th>\n",
       "      <td>0.526462</td>\n",
       "      <td>0.012176</td>\n",
       "      <td>0.270882</td>\n",
       "      <td>0.466939</td>\n",
       "      <td>0.635735</td>\n",
       "    </tr>\n",
       "    <tr>\n",
       "      <th>2</th>\n",
       "      <td>0.815319</td>\n",
       "      <td>0.495526</td>\n",
       "      <td>0.595185</td>\n",
       "      <td>0.007326</td>\n",
       "      <td>0.157740</td>\n",
       "    </tr>\n",
       "  </tbody>\n",
       "</table>\n",
       "</div>"
      ],
      "text/plain": [
       "          A         B         C         D         E\n",
       "0  0.343961  0.150962  0.219405  0.174419  0.643213\n",
       "1  0.526462  0.012176  0.270882  0.466939  0.635735\n",
       "2  0.815319  0.495526  0.595185  0.007326  0.157740"
      ]
     },
     "execution_count": 11,
     "metadata": {},
     "output_type": "execute_result"
    }
   ],
   "source": [
    "# DataFrame (multiple rows)\n",
    "df_index.iloc[0:3]"
   ]
  },
  {
   "cell_type": "code",
   "execution_count": 12,
   "id": "67f092d6",
   "metadata": {},
   "outputs": [
    {
     "data": {
      "text/html": [
       "<div>\n",
       "<style scoped>\n",
       "    .dataframe tbody tr th:only-of-type {\n",
       "        vertical-align: middle;\n",
       "    }\n",
       "\n",
       "    .dataframe tbody tr th {\n",
       "        vertical-align: top;\n",
       "    }\n",
       "\n",
       "    .dataframe thead th {\n",
       "        text-align: right;\n",
       "    }\n",
       "</style>\n",
       "<table border=\"1\" class=\"dataframe\">\n",
       "  <thead>\n",
       "    <tr style=\"text-align: right;\">\n",
       "      <th></th>\n",
       "      <th>A</th>\n",
       "      <th>B</th>\n",
       "      <th>C</th>\n",
       "      <th>D</th>\n",
       "      <th>E</th>\n",
       "    </tr>\n",
       "  </thead>\n",
       "  <tbody>\n",
       "    <tr>\n",
       "      <th>0</th>\n",
       "      <td>0.343961</td>\n",
       "      <td>0.150962</td>\n",
       "      <td>0.219405</td>\n",
       "      <td>0.174419</td>\n",
       "      <td>0.643213</td>\n",
       "    </tr>\n",
       "    <tr>\n",
       "      <th>1</th>\n",
       "      <td>0.526462</td>\n",
       "      <td>0.012176</td>\n",
       "      <td>0.270882</td>\n",
       "      <td>0.466939</td>\n",
       "      <td>0.635735</td>\n",
       "    </tr>\n",
       "    <tr>\n",
       "      <th>2</th>\n",
       "      <td>0.815319</td>\n",
       "      <td>0.495526</td>\n",
       "      <td>0.595185</td>\n",
       "      <td>0.007326</td>\n",
       "      <td>0.157740</td>\n",
       "    </tr>\n",
       "  </tbody>\n",
       "</table>\n",
       "</div>"
      ],
      "text/plain": [
       "          A         B         C         D         E\n",
       "0  0.343961  0.150962  0.219405  0.174419  0.643213\n",
       "1  0.526462  0.012176  0.270882  0.466939  0.635735\n",
       "2  0.815319  0.495526  0.595185  0.007326  0.157740"
      ]
     },
     "execution_count": 12,
     "metadata": {},
     "output_type": "execute_result"
    }
   ],
   "source": [
    "df_index[0:3]"
   ]
  },
  {
   "cell_type": "code",
   "execution_count": 13,
   "id": "eca62a64",
   "metadata": {},
   "outputs": [
    {
     "data": {
      "text/html": [
       "<div>\n",
       "<style scoped>\n",
       "    .dataframe tbody tr th:only-of-type {\n",
       "        vertical-align: middle;\n",
       "    }\n",
       "\n",
       "    .dataframe tbody tr th {\n",
       "        vertical-align: top;\n",
       "    }\n",
       "\n",
       "    .dataframe thead th {\n",
       "        text-align: right;\n",
       "    }\n",
       "</style>\n",
       "<table border=\"1\" class=\"dataframe\">\n",
       "  <thead>\n",
       "    <tr style=\"text-align: right;\">\n",
       "      <th></th>\n",
       "      <th>A</th>\n",
       "      <th>B</th>\n",
       "      <th>C</th>\n",
       "      <th>D</th>\n",
       "      <th>E</th>\n",
       "    </tr>\n",
       "  </thead>\n",
       "  <tbody>\n",
       "  </tbody>\n",
       "</table>\n",
       "</div>"
      ],
      "text/plain": [
       "Empty DataFrame\n",
       "Columns: [A, B, C, D, E]\n",
       "Index: []"
      ]
     },
     "execution_count": 13,
     "metadata": {},
     "output_type": "execute_result"
    }
   ],
   "source": [
    "# DataFrame (filtered rows)\n",
    "df_index[df_index['A'] > 0.9]"
   ]
  },
  {
   "cell_type": "code",
   "execution_count": 14,
   "id": "6e7b52eb",
   "metadata": {},
   "outputs": [
    {
     "data": {
      "text/html": [
       "<div>\n",
       "<style scoped>\n",
       "    .dataframe tbody tr th:only-of-type {\n",
       "        vertical-align: middle;\n",
       "    }\n",
       "\n",
       "    .dataframe tbody tr th {\n",
       "        vertical-align: top;\n",
       "    }\n",
       "\n",
       "    .dataframe thead th {\n",
       "        text-align: right;\n",
       "    }\n",
       "</style>\n",
       "<table border=\"1\" class=\"dataframe\">\n",
       "  <thead>\n",
       "    <tr style=\"text-align: right;\">\n",
       "      <th></th>\n",
       "      <th>A</th>\n",
       "      <th>B</th>\n",
       "      <th>C</th>\n",
       "      <th>D</th>\n",
       "      <th>E</th>\n",
       "    </tr>\n",
       "  </thead>\n",
       "  <tbody>\n",
       "    <tr>\n",
       "      <th>0</th>\n",
       "      <td>0.100000</td>\n",
       "      <td>0.100000</td>\n",
       "      <td>0.219405</td>\n",
       "      <td>0.174419</td>\n",
       "      <td>0.643213</td>\n",
       "    </tr>\n",
       "    <tr>\n",
       "      <th>1</th>\n",
       "      <td>0.526462</td>\n",
       "      <td>0.012176</td>\n",
       "      <td>0.270882</td>\n",
       "      <td>0.466939</td>\n",
       "      <td>0.635735</td>\n",
       "    </tr>\n",
       "    <tr>\n",
       "      <th>2</th>\n",
       "      <td>0.815319</td>\n",
       "      <td>0.495526</td>\n",
       "      <td>0.595185</td>\n",
       "      <td>0.007326</td>\n",
       "      <td>0.157740</td>\n",
       "    </tr>\n",
       "    <tr>\n",
       "      <th>3</th>\n",
       "      <td>0.023758</td>\n",
       "      <td>0.599895</td>\n",
       "      <td>0.133167</td>\n",
       "      <td>0.445974</td>\n",
       "      <td>0.719086</td>\n",
       "    </tr>\n",
       "    <tr>\n",
       "      <th>4</th>\n",
       "      <td>0.425161</td>\n",
       "      <td>0.135112</td>\n",
       "      <td>0.323847</td>\n",
       "      <td>0.591478</td>\n",
       "      <td>0.443758</td>\n",
       "    </tr>\n",
       "    <tr>\n",
       "      <th>5</th>\n",
       "      <td>0.833287</td>\n",
       "      <td>0.083967</td>\n",
       "      <td>0.629248</td>\n",
       "      <td>0.004949</td>\n",
       "      <td>0.717577</td>\n",
       "    </tr>\n",
       "    <tr>\n",
       "      <th>6</th>\n",
       "      <td>0.858486</td>\n",
       "      <td>0.661285</td>\n",
       "      <td>0.578026</td>\n",
       "      <td>0.443783</td>\n",
       "      <td>0.021609</td>\n",
       "    </tr>\n",
       "  </tbody>\n",
       "</table>\n",
       "</div>"
      ],
      "text/plain": [
       "          A         B         C         D         E\n",
       "0  0.100000  0.100000  0.219405  0.174419  0.643213\n",
       "1  0.526462  0.012176  0.270882  0.466939  0.635735\n",
       "2  0.815319  0.495526  0.595185  0.007326  0.157740\n",
       "3  0.023758  0.599895  0.133167  0.445974  0.719086\n",
       "4  0.425161  0.135112  0.323847  0.591478  0.443758\n",
       "5  0.833287  0.083967  0.629248  0.004949  0.717577\n",
       "6  0.858486  0.661285  0.578026  0.443783  0.021609"
      ]
     },
     "execution_count": 14,
     "metadata": {},
     "output_type": "execute_result"
    }
   ],
   "source": [
    "# Create a copy and add values\n",
    "df_index_copy = df_index.copy()\n",
    "df_index_copy.loc[:0, ['A', 'B']] = 0.1\n",
    "df_index_copy"
   ]
  },
  {
   "cell_type": "markdown",
   "id": "525ae065",
   "metadata": {},
   "source": [
    "## Console"
   ]
  },
  {
   "cell_type": "code",
   "execution_count": 15,
   "id": "c3512c4e",
   "metadata": {},
   "outputs": [
    {
     "data": {
      "text/html": [
       "<div>\n",
       "<style scoped>\n",
       "    .dataframe tbody tr th:only-of-type {\n",
       "        vertical-align: middle;\n",
       "    }\n",
       "\n",
       "    .dataframe tbody tr th {\n",
       "        vertical-align: top;\n",
       "    }\n",
       "\n",
       "    .dataframe thead th {\n",
       "        text-align: right;\n",
       "    }\n",
       "</style>\n",
       "<table border=\"1\" class=\"dataframe\">\n",
       "  <thead>\n",
       "    <tr style=\"text-align: right;\">\n",
       "      <th></th>\n",
       "      <th>0</th>\n",
       "      <th>1</th>\n",
       "      <th>2</th>\n",
       "      <th>3</th>\n",
       "      <th>4</th>\n",
       "      <th>...</th>\n",
       "      <th>7</th>\n",
       "      <th>8</th>\n",
       "      <th>9</th>\n",
       "      <th>10</th>\n",
       "      <th>11</th>\n",
       "    </tr>\n",
       "  </thead>\n",
       "  <tbody>\n",
       "    <tr>\n",
       "      <th>0</th>\n",
       "      <td>0.518983</td>\n",
       "      <td>1.755889</td>\n",
       "      <td>0.784926</td>\n",
       "      <td>0.944446</td>\n",
       "      <td>1.006893</td>\n",
       "      <td>...</td>\n",
       "      <td>-1.580462</td>\n",
       "      <td>1.195347</td>\n",
       "      <td>1.777100</td>\n",
       "      <td>-1.103896</td>\n",
       "      <td>-0.038294</td>\n",
       "    </tr>\n",
       "    <tr>\n",
       "      <th>1</th>\n",
       "      <td>1.407854</td>\n",
       "      <td>0.707870</td>\n",
       "      <td>-0.109564</td>\n",
       "      <td>-2.214826</td>\n",
       "      <td>-0.166679</td>\n",
       "      <td>...</td>\n",
       "      <td>-0.713977</td>\n",
       "      <td>-0.318543</td>\n",
       "      <td>0.478405</td>\n",
       "      <td>-1.053564</td>\n",
       "      <td>-0.781285</td>\n",
       "    </tr>\n",
       "    <tr>\n",
       "      <th>2</th>\n",
       "      <td>-2.512259</td>\n",
       "      <td>0.727504</td>\n",
       "      <td>0.486903</td>\n",
       "      <td>-1.045777</td>\n",
       "      <td>0.984781</td>\n",
       "      <td>...</td>\n",
       "      <td>-0.127726</td>\n",
       "      <td>0.752647</td>\n",
       "      <td>-0.529220</td>\n",
       "      <td>-0.635748</td>\n",
       "      <td>-0.806894</td>\n",
       "    </tr>\n",
       "  </tbody>\n",
       "</table>\n",
       "<p>3 rows × 12 columns</p>\n",
       "</div>"
      ],
      "text/plain": [
       "         0         1         2         3         4   ...        7         8   \\\n",
       "0  0.518983  1.755889  0.784926  0.944446  1.006893  ... -1.580462  1.195347   \n",
       "1  1.407854  0.707870 -0.109564 -2.214826 -0.166679  ... -0.713977 -0.318543   \n",
       "2 -2.512259  0.727504  0.486903 -1.045777  0.984781  ... -0.127726  0.752647   \n",
       "\n",
       "         9         10        11  \n",
       "0  1.777100 -1.103896 -0.038294  \n",
       "1  0.478405 -1.053564 -0.781285  \n",
       "2 -0.529220 -0.635748 -0.806894  \n",
       "\n",
       "[3 rows x 12 columns]"
      ]
     },
     "execution_count": 15,
     "metadata": {},
     "output_type": "execute_result"
    }
   ],
   "source": [
    "# Setting display options, this will only show 10 columns\n",
    "pd.set_option(\"display.max_columns\", 10)\n",
    "data_concole = pd.DataFrame(np.random.randn(3, 12))\n",
    "data_concole"
   ]
  },
  {
   "cell_type": "code",
   "execution_count": 16,
   "id": "4b71576d",
   "metadata": {},
   "outputs": [
    {
     "data": {
      "text/html": [
       "<div>\n",
       "<style scoped>\n",
       "    .dataframe tbody tr th:only-of-type {\n",
       "        vertical-align: middle;\n",
       "    }\n",
       "\n",
       "    .dataframe tbody tr th {\n",
       "        vertical-align: top;\n",
       "    }\n",
       "\n",
       "    .dataframe thead th {\n",
       "        text-align: right;\n",
       "    }\n",
       "</style>\n",
       "<table border=\"1\" class=\"dataframe\">\n",
       "  <thead>\n",
       "    <tr style=\"text-align: right;\">\n",
       "      <th></th>\n",
       "      <th>0</th>\n",
       "      <th>1</th>\n",
       "      <th>2</th>\n",
       "      <th>3</th>\n",
       "      <th>4</th>\n",
       "      <th>5</th>\n",
       "      <th>6</th>\n",
       "      <th>7</th>\n",
       "      <th>8</th>\n",
       "      <th>9</th>\n",
       "      <th>10</th>\n",
       "      <th>11</th>\n",
       "    </tr>\n",
       "  </thead>\n",
       "  <tbody>\n",
       "    <tr>\n",
       "      <th>0</th>\n",
       "      <td>0.518983</td>\n",
       "      <td>1.755889</td>\n",
       "      <td>0.784926</td>\n",
       "      <td>0.944446</td>\n",
       "      <td>1.006893</td>\n",
       "      <td>0.072711</td>\n",
       "      <td>1.646737</td>\n",
       "      <td>-1.580462</td>\n",
       "      <td>1.195347</td>\n",
       "      <td>1.777100</td>\n",
       "      <td>-1.103896</td>\n",
       "      <td>-0.038294</td>\n",
       "    </tr>\n",
       "    <tr>\n",
       "      <th>1</th>\n",
       "      <td>1.407854</td>\n",
       "      <td>0.707870</td>\n",
       "      <td>-0.109564</td>\n",
       "      <td>-2.214826</td>\n",
       "      <td>-0.166679</td>\n",
       "      <td>0.157673</td>\n",
       "      <td>1.077261</td>\n",
       "      <td>-0.713977</td>\n",
       "      <td>-0.318543</td>\n",
       "      <td>0.478405</td>\n",
       "      <td>-1.053564</td>\n",
       "      <td>-0.781285</td>\n",
       "    </tr>\n",
       "    <tr>\n",
       "      <th>2</th>\n",
       "      <td>-2.512259</td>\n",
       "      <td>0.727504</td>\n",
       "      <td>0.486903</td>\n",
       "      <td>-1.045777</td>\n",
       "      <td>0.984781</td>\n",
       "      <td>-0.143523</td>\n",
       "      <td>0.560280</td>\n",
       "      <td>-0.127726</td>\n",
       "      <td>0.752647</td>\n",
       "      <td>-0.529220</td>\n",
       "      <td>-0.635748</td>\n",
       "      <td>-0.806894</td>\n",
       "    </tr>\n",
       "  </tbody>\n",
       "</table>\n",
       "</div>"
      ],
      "text/plain": [
       "         0         1         2         3         4         5         6   \\\n",
       "0  0.518983  1.755889  0.784926  0.944446  1.006893  0.072711  1.646737   \n",
       "1  1.407854  0.707870 -0.109564 -2.214826 -0.166679  0.157673  1.077261   \n",
       "2 -2.512259  0.727504  0.486903 -1.045777  0.984781 -0.143523  0.560280   \n",
       "\n",
       "         7         8         9         10        11  \n",
       "0 -1.580462  1.195347  1.777100 -1.103896 -0.038294  \n",
       "1 -0.713977 -0.318543  0.478405 -1.053564 -0.781285  \n",
       "2 -0.127726  0.752647 -0.529220 -0.635748 -0.806894  "
      ]
     },
     "execution_count": 16,
     "metadata": {},
     "output_type": "execute_result"
    }
   ],
   "source": [
    "# Setting display options, this will all show 12 columns\n",
    "pd.set_option(\"display.max_columns\", 12)\n",
    "data_concole"
   ]
  }
 ],
 "metadata": {
  "kernelspec": {
   "display_name": "ml-sklearn",
   "language": "python",
   "name": "python3"
  },
  "language_info": {
   "codemirror_mode": {
    "name": "ipython",
    "version": 3
   },
   "file_extension": ".py",
   "mimetype": "text/x-python",
   "name": "python",
   "nbconvert_exporter": "python",
   "pygments_lexer": "ipython3",
   "version": "3.11.13"
  }
 },
 "nbformat": 4,
 "nbformat_minor": 5
}

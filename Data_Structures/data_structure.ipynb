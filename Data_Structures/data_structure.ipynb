{
 "cells": [
  {
   "cell_type": "markdown",
   "id": "3b254945",
   "metadata": {},
   "source": [
    "## 📊 Data Structures\n",
    "\n",
    "> Pandas provides two primary data structures for handling data efficiently:\n",
    "\n",
    "- **Series** – A one-dimensional labeled array.\n",
    "- **DataFrame** – A two-dimensional labeled table (rows and columns).\n"
   ]
  },
  {
   "cell_type": "code",
   "execution_count": 1,
   "id": "b711851c",
   "metadata": {},
   "outputs": [],
   "source": [
    "import pandas as pd\n",
    "import numpy as np"
   ]
  },
  {
   "cell_type": "markdown",
   "id": "79eee0fe",
   "metadata": {},
   "source": [
    "### Series"
   ]
  },
  {
   "cell_type": "markdown",
   "id": "b02b96e4",
   "metadata": {},
   "source": [
    "- It is an one-dimensional labeled array \n",
    "- Each value has an index (label)"
   ]
  },
  {
   "cell_type": "code",
   "execution_count": 2,
   "id": "ecec44e6",
   "metadata": {},
   "outputs": [
    {
     "name": "stdout",
     "output_type": "stream",
     "text": [
      "Series: 0    1.0\n",
      "1    3.0\n",
      "2    5.0\n",
      "3    NaN\n",
      "4    6.0\n",
      "5    8.0\n",
      "dtype: float64\n"
     ]
    }
   ],
   "source": [
    "# Series\n",
    "s = pd.Series([1, 3, 5, np.nan, 6, 8])\n",
    "print(\"Series:\", s)"
   ]
  }
 ],
 "metadata": {
  "kernelspec": {
   "display_name": "sklearn-env",
   "language": "python",
   "name": "python3"
  },
  "language_info": {
   "codemirror_mode": {
    "name": "ipython",
    "version": 3
   },
   "file_extension": ".py",
   "mimetype": "text/x-python",
   "name": "python",
   "nbconvert_exporter": "python",
   "pygments_lexer": "ipython3",
   "version": "3.10.18"
  }
 },
 "nbformat": 4,
 "nbformat_minor": 5
}

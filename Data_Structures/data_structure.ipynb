{
 "cells": [
  {
   "cell_type": "markdown",
   "id": "3b254945",
   "metadata": {},
   "source": [
    "## 📊 Data Structures\n",
    "\n",
    "> Pandas provides two primary data structures for handling data efficiently:\n",
    "\n",
    "- **Series** – A one-dimensional labeled array.\n",
    "- **DataFrame** – A two-dimensional labeled table (rows and columns).\n"
   ]
  },
  {
   "cell_type": "code",
   "execution_count": 39,
   "id": "b711851c",
   "metadata": {},
   "outputs": [],
   "source": [
    "import pandas as pd\n",
    "import numpy as np"
   ]
  },
  {
   "cell_type": "markdown",
   "id": "79eee0fe",
   "metadata": {},
   "source": [
    "### Series"
   ]
  },
  {
   "cell_type": "markdown",
   "id": "b02b96e4",
   "metadata": {},
   "source": [
    "- It is an one-dimensional labeled array \n",
    "- Each value has an index (label)"
   ]
  },
  {
   "cell_type": "code",
   "execution_count": 40,
   "id": "ecec44e6",
   "metadata": {},
   "outputs": [
    {
     "name": "stdout",
     "output_type": "stream",
     "text": [
      "Series: 0    1.0\n",
      "1    3.0\n",
      "2    5.0\n",
      "3    NaN\n",
      "4    6.0\n",
      "5    8.0\n",
      "dtype: float64\n"
     ]
    }
   ],
   "source": [
    "# Series\n",
    "s = pd.Series([1, 3, 5, np.nan, 6, 8])\n",
    "print(\"Series:\", s)"
   ]
  },
  {
   "cell_type": "code",
   "execution_count": 41,
   "id": "c6009fce",
   "metadata": {},
   "outputs": [
    {
     "data": {
      "text/plain": [
       "0    1.0\n",
       "1    3.0\n",
       "2    5.0\n",
       "3    NaN\n",
       "4    6.0\n",
       "5    8.0\n",
       "Name: numbers, dtype: float64"
      ]
     },
     "execution_count": 41,
     "metadata": {},
     "output_type": "execute_result"
    }
   ],
   "source": [
    "# Naming the series\n",
    "\n",
    "s.name = \"numbers\"\n",
    "s"
   ]
  },
  {
   "cell_type": "markdown",
   "id": "3386dba1",
   "metadata": {},
   "source": [
    "##### Numpy Arrary"
   ]
  },
  {
   "cell_type": "markdown",
   "id": "d7d0495f",
   "metadata": {},
   "source": [
    "- A NumPy array is the core data structure of the NumPy library in Python.\n",
    "- It's like a supercharged list, built for fast numerical computing."
   ]
  },
  {
   "cell_type": "code",
   "execution_count": 42,
   "id": "34325b54",
   "metadata": {},
   "outputs": [
    {
     "data": {
      "text/plain": [
       "array([ 1.,  3.,  5., nan,  6.,  8.])"
      ]
     },
     "execution_count": 42,
     "metadata": {},
     "output_type": "execute_result"
    }
   ],
   "source": [
    "s.to_numpy()"
   ]
  },
  {
   "cell_type": "markdown",
   "id": "212943b9",
   "metadata": {},
   "source": [
    "## DataFrame\n",
    "\n",
    "- A **DataFrame** is like a table in Python. It has rows and columns. In general the most commonly used pandas is an object. \n",
    "- DataFrame accepts many different kinds of input:\n",
    "\n",
    "    - Dict of 1D ndarrays, lists, dicts, or Series\n",
    "\n",
    "     - 2-D numpy.ndarray\n",
    "\n",
    "     - Structured or record ndarray\n",
    "\n",
    "     - A Series\n",
    "\n",
    "     - Another DataFrame\n"
   ]
  },
  {
   "cell_type": "code",
   "execution_count": 43,
   "id": "0213ffbb",
   "metadata": {},
   "outputs": [
    {
     "data": {
      "text/html": [
       "<div>\n",
       "<style scoped>\n",
       "    .dataframe tbody tr th:only-of-type {\n",
       "        vertical-align: middle;\n",
       "    }\n",
       "\n",
       "    .dataframe tbody tr th {\n",
       "        vertical-align: top;\n",
       "    }\n",
       "\n",
       "    .dataframe thead th {\n",
       "        text-align: right;\n",
       "    }\n",
       "</style>\n",
       "<table border=\"1\" class=\"dataframe\">\n",
       "  <thead>\n",
       "    <tr style=\"text-align: right;\">\n",
       "      <th></th>\n",
       "      <th>A</th>\n",
       "      <th>B</th>\n",
       "      <th>C</th>\n",
       "      <th>D</th>\n",
       "      <th>E</th>\n",
       "      <th>F</th>\n",
       "    </tr>\n",
       "  </thead>\n",
       "  <tbody>\n",
       "    <tr>\n",
       "      <th>0</th>\n",
       "      <td>1.0</td>\n",
       "      <td>2023-01-02</td>\n",
       "      <td>1.0</td>\n",
       "      <td>3</td>\n",
       "      <td>test</td>\n",
       "      <td>foo</td>\n",
       "    </tr>\n",
       "    <tr>\n",
       "      <th>1</th>\n",
       "      <td>1.0</td>\n",
       "      <td>2023-01-02</td>\n",
       "      <td>1.0</td>\n",
       "      <td>3</td>\n",
       "      <td>train</td>\n",
       "      <td>foo</td>\n",
       "    </tr>\n",
       "    <tr>\n",
       "      <th>2</th>\n",
       "      <td>1.0</td>\n",
       "      <td>2023-01-02</td>\n",
       "      <td>1.0</td>\n",
       "      <td>3</td>\n",
       "      <td>test</td>\n",
       "      <td>foo</td>\n",
       "    </tr>\n",
       "    <tr>\n",
       "      <th>3</th>\n",
       "      <td>1.0</td>\n",
       "      <td>2023-01-02</td>\n",
       "      <td>1.0</td>\n",
       "      <td>3</td>\n",
       "      <td>train</td>\n",
       "      <td>foo</td>\n",
       "    </tr>\n",
       "  </tbody>\n",
       "</table>\n",
       "</div>"
      ],
      "text/plain": [
       "     A          B    C  D      E    F\n",
       "0  1.0 2023-01-02  1.0  3   test  foo\n",
       "1  1.0 2023-01-02  1.0  3  train  foo\n",
       "2  1.0 2023-01-02  1.0  3   test  foo\n",
       "3  1.0 2023-01-02  1.0  3  train  foo"
      ]
     },
     "execution_count": 43,
     "metadata": {},
     "output_type": "execute_result"
    }
   ],
   "source": [
    "dataframe = pd.DataFrame({\n",
    "    \"A\": 1.0,\n",
    "    \"B\": pd.Timestamp(\"20230102\"),\n",
    "    \"C\": pd.Series(1, index=list(range(4)), dtype=\"float32\"),\n",
    "    \"D\": np.array([3] * 4, dtype=\"int32\"),\n",
    "    \"E\": pd.Categorical([\"test\", \"train\", \"test\", \"train\"]),\n",
    "    \"F\": \"foo\",\n",
    "})\n",
    "dataframe"
   ]
  },
  {
   "cell_type": "code",
   "execution_count": 44,
   "id": "de11d865",
   "metadata": {},
   "outputs": [
    {
     "name": "stdout",
     "output_type": "stream",
     "text": [
      "<class 'pandas.core.frame.DataFrame'>\n",
      "Index: 4 entries, 0 to 3\n",
      "Data columns (total 6 columns):\n",
      " #   Column  Non-Null Count  Dtype        \n",
      "---  ------  --------------  -----        \n",
      " 0   A       4 non-null      float64      \n",
      " 1   B       4 non-null      datetime64[s]\n",
      " 2   C       4 non-null      float32      \n",
      " 3   D       4 non-null      int32        \n",
      " 4   E       4 non-null      category     \n",
      " 5   F       4 non-null      object       \n",
      "dtypes: category(1), datetime64[s](1), float32(1), float64(1), int32(1), object(1)\n",
      "memory usage: 288.0+ bytes\n"
     ]
    }
   ],
   "source": [
    "dataframe.info()"
   ]
  },
  {
   "cell_type": "markdown",
   "id": "61191859",
   "metadata": {},
   "source": [
    "## Assign\n",
    "\n",
    "- It add new columns to a DataFrame. It returns a new DataFrame with the added columns, without modifying the original one."
   ]
  },
  {
   "cell_type": "code",
   "execution_count": 45,
   "id": "60a73b87",
   "metadata": {},
   "outputs": [
    {
     "data": {
      "text/html": [
       "<div>\n",
       "<style scoped>\n",
       "    .dataframe tbody tr th:only-of-type {\n",
       "        vertical-align: middle;\n",
       "    }\n",
       "\n",
       "    .dataframe tbody tr th {\n",
       "        vertical-align: top;\n",
       "    }\n",
       "\n",
       "    .dataframe thead th {\n",
       "        text-align: right;\n",
       "    }\n",
       "</style>\n",
       "<table border=\"1\" class=\"dataframe\">\n",
       "  <thead>\n",
       "    <tr style=\"text-align: right;\">\n",
       "      <th></th>\n",
       "      <th>A</th>\n",
       "      <th>B</th>\n",
       "      <th>C</th>\n",
       "      <th>D</th>\n",
       "      <th>E</th>\n",
       "      <th>F</th>\n",
       "      <th>D_multi</th>\n",
       "    </tr>\n",
       "  </thead>\n",
       "  <tbody>\n",
       "    <tr>\n",
       "      <th>0</th>\n",
       "      <td>1.0</td>\n",
       "      <td>2023-01-02</td>\n",
       "      <td>1.0</td>\n",
       "      <td>3</td>\n",
       "      <td>test</td>\n",
       "      <td>foo</td>\n",
       "      <td>4.0</td>\n",
       "    </tr>\n",
       "    <tr>\n",
       "      <th>1</th>\n",
       "      <td>1.0</td>\n",
       "      <td>2023-01-02</td>\n",
       "      <td>1.0</td>\n",
       "      <td>3</td>\n",
       "      <td>train</td>\n",
       "      <td>foo</td>\n",
       "      <td>4.0</td>\n",
       "    </tr>\n",
       "    <tr>\n",
       "      <th>2</th>\n",
       "      <td>1.0</td>\n",
       "      <td>2023-01-02</td>\n",
       "      <td>1.0</td>\n",
       "      <td>3</td>\n",
       "      <td>test</td>\n",
       "      <td>foo</td>\n",
       "      <td>4.0</td>\n",
       "    </tr>\n",
       "    <tr>\n",
       "      <th>3</th>\n",
       "      <td>1.0</td>\n",
       "      <td>2023-01-02</td>\n",
       "      <td>1.0</td>\n",
       "      <td>3</td>\n",
       "      <td>train</td>\n",
       "      <td>foo</td>\n",
       "      <td>4.0</td>\n",
       "    </tr>\n",
       "  </tbody>\n",
       "</table>\n",
       "</div>"
      ],
      "text/plain": [
       "     A          B    C  D      E    F  D_multi\n",
       "0  1.0 2023-01-02  1.0  3   test  foo      4.0\n",
       "1  1.0 2023-01-02  1.0  3  train  foo      4.0\n",
       "2  1.0 2023-01-02  1.0  3   test  foo      4.0\n",
       "3  1.0 2023-01-02  1.0  3  train  foo      4.0"
      ]
     },
     "execution_count": 45,
     "metadata": {},
     "output_type": "execute_result"
    }
   ],
   "source": [
    "dataframe.assign(D_multi=dataframe[\"D\"] + dataframe[\"A\"])"
   ]
  },
  {
   "cell_type": "markdown",
   "id": "0cb3d239",
   "metadata": {},
   "source": [
    "## Indexing and Selection"
   ]
  },
  {
   "cell_type": "markdown",
   "id": "9085034c",
   "metadata": {},
   "source": [
    "| Operation                        | Syntax           | Result     | \n",
    "|----------------------------------|------------------|------------|\n",
    "| Select column                    | `df[col]`        | Series     |\n",
    "| Select row by label             | `df.loc[label]`  | Series     |\n",
    "| Select row by integer location | `df.iloc[loc]`   | Series     |\n",
    "| Slice rows                       | `df[5:10]`       | DataFrame  |\n",
    "| Select rows by boolean vector   | `df[bool_vec]`   | DataFrame  |"
   ]
  },
  {
   "cell_type": "code",
   "execution_count": 46,
   "id": "3fbe39a9",
   "metadata": {},
   "outputs": [
    {
     "data": {
      "text/html": [
       "<div>\n",
       "<style scoped>\n",
       "    .dataframe tbody tr th:only-of-type {\n",
       "        vertical-align: middle;\n",
       "    }\n",
       "\n",
       "    .dataframe tbody tr th {\n",
       "        vertical-align: top;\n",
       "    }\n",
       "\n",
       "    .dataframe thead th {\n",
       "        text-align: right;\n",
       "    }\n",
       "</style>\n",
       "<table border=\"1\" class=\"dataframe\">\n",
       "  <thead>\n",
       "    <tr style=\"text-align: right;\">\n",
       "      <th></th>\n",
       "      <th>A</th>\n",
       "      <th>B</th>\n",
       "      <th>C</th>\n",
       "      <th>D</th>\n",
       "      <th>E</th>\n",
       "    </tr>\n",
       "  </thead>\n",
       "  <tbody>\n",
       "    <tr>\n",
       "      <th>0</th>\n",
       "      <td>0.631736</td>\n",
       "      <td>0.522780</td>\n",
       "      <td>0.135615</td>\n",
       "      <td>0.597465</td>\n",
       "      <td>0.596266</td>\n",
       "    </tr>\n",
       "    <tr>\n",
       "      <th>1</th>\n",
       "      <td>0.294680</td>\n",
       "      <td>0.642011</td>\n",
       "      <td>0.557176</td>\n",
       "      <td>0.459007</td>\n",
       "      <td>0.279157</td>\n",
       "    </tr>\n",
       "    <tr>\n",
       "      <th>2</th>\n",
       "      <td>0.885555</td>\n",
       "      <td>0.633774</td>\n",
       "      <td>0.394765</td>\n",
       "      <td>0.283454</td>\n",
       "      <td>0.464149</td>\n",
       "    </tr>\n",
       "    <tr>\n",
       "      <th>3</th>\n",
       "      <td>0.790824</td>\n",
       "      <td>0.820036</td>\n",
       "      <td>0.692907</td>\n",
       "      <td>0.419353</td>\n",
       "      <td>0.360774</td>\n",
       "    </tr>\n",
       "    <tr>\n",
       "      <th>4</th>\n",
       "      <td>0.182551</td>\n",
       "      <td>0.030312</td>\n",
       "      <td>0.632385</td>\n",
       "      <td>0.711548</td>\n",
       "      <td>0.761252</td>\n",
       "    </tr>\n",
       "    <tr>\n",
       "      <th>5</th>\n",
       "      <td>0.062738</td>\n",
       "      <td>0.735882</td>\n",
       "      <td>0.611262</td>\n",
       "      <td>0.155112</td>\n",
       "      <td>0.903812</td>\n",
       "    </tr>\n",
       "    <tr>\n",
       "      <th>6</th>\n",
       "      <td>0.548767</td>\n",
       "      <td>0.943096</td>\n",
       "      <td>0.842057</td>\n",
       "      <td>0.199563</td>\n",
       "      <td>0.530349</td>\n",
       "    </tr>\n",
       "  </tbody>\n",
       "</table>\n",
       "</div>"
      ],
      "text/plain": [
       "          A         B         C         D         E\n",
       "0  0.631736  0.522780  0.135615  0.597465  0.596266\n",
       "1  0.294680  0.642011  0.557176  0.459007  0.279157\n",
       "2  0.885555  0.633774  0.394765  0.283454  0.464149\n",
       "3  0.790824  0.820036  0.692907  0.419353  0.360774\n",
       "4  0.182551  0.030312  0.632385  0.711548  0.761252\n",
       "5  0.062738  0.735882  0.611262  0.155112  0.903812\n",
       "6  0.548767  0.943096  0.842057  0.199563  0.530349"
      ]
     },
     "execution_count": 46,
     "metadata": {},
     "output_type": "execute_result"
    }
   ],
   "source": [
    "df_index = pd.DataFrame({\n",
    "    \"A\" : np.random.random_sample(7),\n",
    "    \"B\" : np.random.random_sample(7),\n",
    "    \"C\" : np.random.random_sample(7),\n",
    "    \"D\" : np.random.random_sample(7),\n",
    "    \"E\" : np.random.random_sample(7),\n",
    "    })\n",
    "\n",
    "df_index"
   ]
  },
  {
   "cell_type": "code",
   "execution_count": 47,
   "id": "f8a0b68c",
   "metadata": {},
   "outputs": [
    {
     "data": {
      "text/plain": [
       "0    0.631736\n",
       "1    0.294680\n",
       "2    0.885555\n",
       "3    0.790824\n",
       "4    0.182551\n",
       "5    0.062738\n",
       "6    0.548767\n",
       "Name: A, dtype: float64"
      ]
     },
     "execution_count": 47,
     "metadata": {},
     "output_type": "execute_result"
    }
   ],
   "source": [
    "# Series (single column)\n",
    "df_index['A']"
   ]
  },
  {
   "cell_type": "code",
   "execution_count": 48,
   "id": "39032666",
   "metadata": {},
   "outputs": [
    {
     "data": {
      "text/plain": [
       "A    0.631736\n",
       "B    0.522780\n",
       "C    0.135615\n",
       "D    0.597465\n",
       "E    0.596266\n",
       "Name: 0, dtype: float64"
      ]
     },
     "execution_count": 48,
     "metadata": {},
     "output_type": "execute_result"
    }
   ],
   "source": [
    "# Series (single row)\n",
    "df_index.iloc[0]"
   ]
  },
  {
   "cell_type": "code",
   "execution_count": 49,
   "id": "9ff3baeb",
   "metadata": {},
   "outputs": [
    {
     "data": {
      "text/html": [
       "<div>\n",
       "<style scoped>\n",
       "    .dataframe tbody tr th:only-of-type {\n",
       "        vertical-align: middle;\n",
       "    }\n",
       "\n",
       "    .dataframe tbody tr th {\n",
       "        vertical-align: top;\n",
       "    }\n",
       "\n",
       "    .dataframe thead th {\n",
       "        text-align: right;\n",
       "    }\n",
       "</style>\n",
       "<table border=\"1\" class=\"dataframe\">\n",
       "  <thead>\n",
       "    <tr style=\"text-align: right;\">\n",
       "      <th></th>\n",
       "      <th>A</th>\n",
       "      <th>B</th>\n",
       "      <th>C</th>\n",
       "      <th>D</th>\n",
       "      <th>E</th>\n",
       "    </tr>\n",
       "  </thead>\n",
       "  <tbody>\n",
       "    <tr>\n",
       "      <th>0</th>\n",
       "      <td>0.631736</td>\n",
       "      <td>0.522780</td>\n",
       "      <td>0.135615</td>\n",
       "      <td>0.597465</td>\n",
       "      <td>0.596266</td>\n",
       "    </tr>\n",
       "    <tr>\n",
       "      <th>1</th>\n",
       "      <td>0.294680</td>\n",
       "      <td>0.642011</td>\n",
       "      <td>0.557176</td>\n",
       "      <td>0.459007</td>\n",
       "      <td>0.279157</td>\n",
       "    </tr>\n",
       "    <tr>\n",
       "      <th>2</th>\n",
       "      <td>0.885555</td>\n",
       "      <td>0.633774</td>\n",
       "      <td>0.394765</td>\n",
       "      <td>0.283454</td>\n",
       "      <td>0.464149</td>\n",
       "    </tr>\n",
       "  </tbody>\n",
       "</table>\n",
       "</div>"
      ],
      "text/plain": [
       "          A         B         C         D         E\n",
       "0  0.631736  0.522780  0.135615  0.597465  0.596266\n",
       "1  0.294680  0.642011  0.557176  0.459007  0.279157\n",
       "2  0.885555  0.633774  0.394765  0.283454  0.464149"
      ]
     },
     "execution_count": 49,
     "metadata": {},
     "output_type": "execute_result"
    }
   ],
   "source": [
    "# DataFrame (multiple rows)\n",
    "df_index.iloc[0:3]"
   ]
  },
  {
   "cell_type": "code",
   "execution_count": 50,
   "id": "67f092d6",
   "metadata": {},
   "outputs": [
    {
     "data": {
      "text/html": [
       "<div>\n",
       "<style scoped>\n",
       "    .dataframe tbody tr th:only-of-type {\n",
       "        vertical-align: middle;\n",
       "    }\n",
       "\n",
       "    .dataframe tbody tr th {\n",
       "        vertical-align: top;\n",
       "    }\n",
       "\n",
       "    .dataframe thead th {\n",
       "        text-align: right;\n",
       "    }\n",
       "</style>\n",
       "<table border=\"1\" class=\"dataframe\">\n",
       "  <thead>\n",
       "    <tr style=\"text-align: right;\">\n",
       "      <th></th>\n",
       "      <th>A</th>\n",
       "      <th>B</th>\n",
       "      <th>C</th>\n",
       "      <th>D</th>\n",
       "      <th>E</th>\n",
       "    </tr>\n",
       "  </thead>\n",
       "  <tbody>\n",
       "    <tr>\n",
       "      <th>0</th>\n",
       "      <td>0.631736</td>\n",
       "      <td>0.522780</td>\n",
       "      <td>0.135615</td>\n",
       "      <td>0.597465</td>\n",
       "      <td>0.596266</td>\n",
       "    </tr>\n",
       "    <tr>\n",
       "      <th>1</th>\n",
       "      <td>0.294680</td>\n",
       "      <td>0.642011</td>\n",
       "      <td>0.557176</td>\n",
       "      <td>0.459007</td>\n",
       "      <td>0.279157</td>\n",
       "    </tr>\n",
       "    <tr>\n",
       "      <th>2</th>\n",
       "      <td>0.885555</td>\n",
       "      <td>0.633774</td>\n",
       "      <td>0.394765</td>\n",
       "      <td>0.283454</td>\n",
       "      <td>0.464149</td>\n",
       "    </tr>\n",
       "  </tbody>\n",
       "</table>\n",
       "</div>"
      ],
      "text/plain": [
       "          A         B         C         D         E\n",
       "0  0.631736  0.522780  0.135615  0.597465  0.596266\n",
       "1  0.294680  0.642011  0.557176  0.459007  0.279157\n",
       "2  0.885555  0.633774  0.394765  0.283454  0.464149"
      ]
     },
     "execution_count": 50,
     "metadata": {},
     "output_type": "execute_result"
    }
   ],
   "source": [
    "df_index[0:3]"
   ]
  },
  {
   "cell_type": "code",
   "execution_count": 51,
   "id": "eca62a64",
   "metadata": {},
   "outputs": [
    {
     "data": {
      "text/html": [
       "<div>\n",
       "<style scoped>\n",
       "    .dataframe tbody tr th:only-of-type {\n",
       "        vertical-align: middle;\n",
       "    }\n",
       "\n",
       "    .dataframe tbody tr th {\n",
       "        vertical-align: top;\n",
       "    }\n",
       "\n",
       "    .dataframe thead th {\n",
       "        text-align: right;\n",
       "    }\n",
       "</style>\n",
       "<table border=\"1\" class=\"dataframe\">\n",
       "  <thead>\n",
       "    <tr style=\"text-align: right;\">\n",
       "      <th></th>\n",
       "      <th>A</th>\n",
       "      <th>B</th>\n",
       "      <th>C</th>\n",
       "      <th>D</th>\n",
       "      <th>E</th>\n",
       "    </tr>\n",
       "  </thead>\n",
       "  <tbody>\n",
       "  </tbody>\n",
       "</table>\n",
       "</div>"
      ],
      "text/plain": [
       "Empty DataFrame\n",
       "Columns: [A, B, C, D, E]\n",
       "Index: []"
      ]
     },
     "execution_count": 51,
     "metadata": {},
     "output_type": "execute_result"
    }
   ],
   "source": [
    "# DataFrame (filtered rows)\n",
    "df_index[df_index['A'] > 0.9]"
   ]
  },
  {
   "cell_type": "code",
   "execution_count": null,
   "id": "6e7b52eb",
   "metadata": {},
   "outputs": [
    {
     "data": {
      "text/html": [
       "<div>\n",
       "<style scoped>\n",
       "    .dataframe tbody tr th:only-of-type {\n",
       "        vertical-align: middle;\n",
       "    }\n",
       "\n",
       "    .dataframe tbody tr th {\n",
       "        vertical-align: top;\n",
       "    }\n",
       "\n",
       "    .dataframe thead th {\n",
       "        text-align: right;\n",
       "    }\n",
       "</style>\n",
       "<table border=\"1\" class=\"dataframe\">\n",
       "  <thead>\n",
       "    <tr style=\"text-align: right;\">\n",
       "      <th></th>\n",
       "      <th>A</th>\n",
       "      <th>B</th>\n",
       "      <th>C</th>\n",
       "      <th>D</th>\n",
       "      <th>E</th>\n",
       "    </tr>\n",
       "  </thead>\n",
       "  <tbody>\n",
       "    <tr>\n",
       "      <th>0</th>\n",
       "      <td>0.100000</td>\n",
       "      <td>0.100000</td>\n",
       "      <td>0.135615</td>\n",
       "      <td>0.597465</td>\n",
       "      <td>0.596266</td>\n",
       "    </tr>\n",
       "    <tr>\n",
       "      <th>1</th>\n",
       "      <td>0.294680</td>\n",
       "      <td>0.642011</td>\n",
       "      <td>0.557176</td>\n",
       "      <td>0.459007</td>\n",
       "      <td>0.279157</td>\n",
       "    </tr>\n",
       "    <tr>\n",
       "      <th>2</th>\n",
       "      <td>0.885555</td>\n",
       "      <td>0.633774</td>\n",
       "      <td>0.394765</td>\n",
       "      <td>0.283454</td>\n",
       "      <td>0.464149</td>\n",
       "    </tr>\n",
       "    <tr>\n",
       "      <th>3</th>\n",
       "      <td>0.790824</td>\n",
       "      <td>0.820036</td>\n",
       "      <td>0.692907</td>\n",
       "      <td>0.419353</td>\n",
       "      <td>0.360774</td>\n",
       "    </tr>\n",
       "    <tr>\n",
       "      <th>4</th>\n",
       "      <td>0.182551</td>\n",
       "      <td>0.030312</td>\n",
       "      <td>0.632385</td>\n",
       "      <td>0.711548</td>\n",
       "      <td>0.761252</td>\n",
       "    </tr>\n",
       "    <tr>\n",
       "      <th>5</th>\n",
       "      <td>0.062738</td>\n",
       "      <td>0.735882</td>\n",
       "      <td>0.611262</td>\n",
       "      <td>0.155112</td>\n",
       "      <td>0.903812</td>\n",
       "    </tr>\n",
       "    <tr>\n",
       "      <th>6</th>\n",
       "      <td>0.548767</td>\n",
       "      <td>0.943096</td>\n",
       "      <td>0.842057</td>\n",
       "      <td>0.199563</td>\n",
       "      <td>0.530349</td>\n",
       "    </tr>\n",
       "  </tbody>\n",
       "</table>\n",
       "</div>"
      ],
      "text/plain": [
       "          A         B         C         D         E\n",
       "0  0.100000  0.100000  0.135615  0.597465  0.596266\n",
       "1  0.294680  0.642011  0.557176  0.459007  0.279157\n",
       "2  0.885555  0.633774  0.394765  0.283454  0.464149\n",
       "3  0.790824  0.820036  0.692907  0.419353  0.360774\n",
       "4  0.182551  0.030312  0.632385  0.711548  0.761252\n",
       "5  0.062738  0.735882  0.611262  0.155112  0.903812\n",
       "6  0.548767  0.943096  0.842057  0.199563  0.530349"
      ]
     },
     "execution_count": 53,
     "metadata": {},
     "output_type": "execute_result"
    }
   ],
   "source": [
    "# Create a copy and add values\n",
    "df_index_copy = df_index.copy()\n",
    "df_index_copy.loc[:0, ['A', 'B']] = 0.1\n",
    "df_index_copy"
   ]
  }
 ],
 "metadata": {
  "kernelspec": {
   "display_name": "sklearn-env",
   "language": "python",
   "name": "python3"
  },
  "language_info": {
   "codemirror_mode": {
    "name": "ipython",
    "version": 3
   },
   "file_extension": ".py",
   "mimetype": "text/x-python",
   "name": "python",
   "nbconvert_exporter": "python",
   "pygments_lexer": "ipython3",
   "version": "3.10.18"
  }
 },
 "nbformat": 4,
 "nbformat_minor": 5
}

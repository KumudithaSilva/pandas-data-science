{
 "cells": [
  {
   "cell_type": "markdown",
   "id": "3b254945",
   "metadata": {},
   "source": [
    "## 📊 Data Structures\n",
    "\n",
    "> Pandas provides two primary data structures for handling data efficiently:\n",
    "\n",
    "- **Series** – A one-dimensional labeled array.\n",
    "- **DataFrame** – A two-dimensional labeled table (rows and columns).\n"
   ]
  },
  {
   "cell_type": "code",
   "execution_count": 1,
   "id": "b711851c",
   "metadata": {},
   "outputs": [],
   "source": [
    "import pandas as pd\n",
    "import numpy as np"
   ]
  },
  {
   "cell_type": "markdown",
   "id": "79eee0fe",
   "metadata": {},
   "source": [
    "### Series"
   ]
  },
  {
   "cell_type": "markdown",
   "id": "b02b96e4",
   "metadata": {},
   "source": [
    "- It is an one-dimensional labeled array \n",
    "- Each value has an index (label)"
   ]
  },
  {
   "cell_type": "code",
   "execution_count": 2,
   "id": "ecec44e6",
   "metadata": {},
   "outputs": [
    {
     "name": "stdout",
     "output_type": "stream",
     "text": [
      "Series: 0    1.0\n",
      "1    3.0\n",
      "2    5.0\n",
      "3    NaN\n",
      "4    6.0\n",
      "5    8.0\n",
      "dtype: float64\n"
     ]
    }
   ],
   "source": [
    "# Series\n",
    "s = pd.Series([1, 3, 5, np.nan, 6, 8])\n",
    "print(\"Series:\", s)"
   ]
  },
  {
   "cell_type": "code",
   "execution_count": 3,
   "id": "c6009fce",
   "metadata": {},
   "outputs": [
    {
     "data": {
      "text/plain": [
       "0    1.0\n",
       "1    3.0\n",
       "2    5.0\n",
       "3    NaN\n",
       "4    6.0\n",
       "5    8.0\n",
       "Name: numbers, dtype: float64"
      ]
     },
     "execution_count": 3,
     "metadata": {},
     "output_type": "execute_result"
    }
   ],
   "source": [
    "# Naming the series\n",
    "\n",
    "s.name = \"numbers\"\n",
    "s"
   ]
  },
  {
   "cell_type": "markdown",
   "id": "3386dba1",
   "metadata": {},
   "source": [
    "##### Numpy Arrary"
   ]
  },
  {
   "cell_type": "markdown",
   "id": "d7d0495f",
   "metadata": {},
   "source": [
    "- A NumPy array is the core data structure of the NumPy library in Python.\n",
    "- It's like a supercharged list, built for fast numerical computing."
   ]
  },
  {
   "cell_type": "code",
   "execution_count": 4,
   "id": "34325b54",
   "metadata": {},
   "outputs": [
    {
     "data": {
      "text/plain": [
       "array([ 1.,  3.,  5., nan,  6.,  8.])"
      ]
     },
     "execution_count": 4,
     "metadata": {},
     "output_type": "execute_result"
    }
   ],
   "source": [
    "s.to_numpy()"
   ]
  },
  {
   "cell_type": "markdown",
   "id": "212943b9",
   "metadata": {},
   "source": [
    "## DataFrame\n",
    "\n",
    "- A **DataFrame** is like a table in Python. It has rows and columns. In general the most commonly used pandas is an object. \n",
    "- DataFrame accepts many different kinds of input:\n",
    "\n",
    "    - Dict of 1D ndarrays, lists, dicts, or Series\n",
    "\n",
    "     - 2-D numpy.ndarray\n",
    "\n",
    "     - Structured or record ndarray\n",
    "\n",
    "     - A Series\n",
    "\n",
    "     - Another DataFrame\n"
   ]
  },
  {
   "cell_type": "code",
   "execution_count": 5,
   "id": "0213ffbb",
   "metadata": {},
   "outputs": [
    {
     "data": {
      "text/html": [
       "<div>\n",
       "<style scoped>\n",
       "    .dataframe tbody tr th:only-of-type {\n",
       "        vertical-align: middle;\n",
       "    }\n",
       "\n",
       "    .dataframe tbody tr th {\n",
       "        vertical-align: top;\n",
       "    }\n",
       "\n",
       "    .dataframe thead th {\n",
       "        text-align: right;\n",
       "    }\n",
       "</style>\n",
       "<table border=\"1\" class=\"dataframe\">\n",
       "  <thead>\n",
       "    <tr style=\"text-align: right;\">\n",
       "      <th></th>\n",
       "      <th>A</th>\n",
       "      <th>B</th>\n",
       "      <th>C</th>\n",
       "      <th>D</th>\n",
       "      <th>E</th>\n",
       "      <th>F</th>\n",
       "    </tr>\n",
       "  </thead>\n",
       "  <tbody>\n",
       "    <tr>\n",
       "      <th>0</th>\n",
       "      <td>1.0</td>\n",
       "      <td>2023-01-02</td>\n",
       "      <td>1.0</td>\n",
       "      <td>3</td>\n",
       "      <td>test</td>\n",
       "      <td>foo</td>\n",
       "    </tr>\n",
       "    <tr>\n",
       "      <th>1</th>\n",
       "      <td>1.0</td>\n",
       "      <td>2023-01-02</td>\n",
       "      <td>1.0</td>\n",
       "      <td>3</td>\n",
       "      <td>train</td>\n",
       "      <td>foo</td>\n",
       "    </tr>\n",
       "    <tr>\n",
       "      <th>2</th>\n",
       "      <td>1.0</td>\n",
       "      <td>2023-01-02</td>\n",
       "      <td>1.0</td>\n",
       "      <td>3</td>\n",
       "      <td>test</td>\n",
       "      <td>foo</td>\n",
       "    </tr>\n",
       "    <tr>\n",
       "      <th>3</th>\n",
       "      <td>1.0</td>\n",
       "      <td>2023-01-02</td>\n",
       "      <td>1.0</td>\n",
       "      <td>3</td>\n",
       "      <td>train</td>\n",
       "      <td>foo</td>\n",
       "    </tr>\n",
       "  </tbody>\n",
       "</table>\n",
       "</div>"
      ],
      "text/plain": [
       "     A          B    C  D      E    F\n",
       "0  1.0 2023-01-02  1.0  3   test  foo\n",
       "1  1.0 2023-01-02  1.0  3  train  foo\n",
       "2  1.0 2023-01-02  1.0  3   test  foo\n",
       "3  1.0 2023-01-02  1.0  3  train  foo"
      ]
     },
     "execution_count": 5,
     "metadata": {},
     "output_type": "execute_result"
    }
   ],
   "source": [
    "dataframe = pd.DataFrame({\n",
    "    \"A\": 1.0,\n",
    "    \"B\": pd.Timestamp(\"20230102\"),\n",
    "    \"C\": pd.Series(1, index=list(range(4)), dtype=\"float32\"),\n",
    "    \"D\": np.array([3] * 4, dtype=\"int32\"),\n",
    "    \"E\": pd.Categorical([\"test\", \"train\", \"test\", \"train\"]),\n",
    "    \"F\": \"foo\",\n",
    "})\n",
    "dataframe"
   ]
  },
  {
   "cell_type": "code",
   "execution_count": 6,
   "id": "de11d865",
   "metadata": {},
   "outputs": [
    {
     "name": "stdout",
     "output_type": "stream",
     "text": [
      "<class 'pandas.core.frame.DataFrame'>\n",
      "Index: 4 entries, 0 to 3\n",
      "Data columns (total 6 columns):\n",
      " #   Column  Non-Null Count  Dtype        \n",
      "---  ------  --------------  -----        \n",
      " 0   A       4 non-null      float64      \n",
      " 1   B       4 non-null      datetime64[s]\n",
      " 2   C       4 non-null      float32      \n",
      " 3   D       4 non-null      int32        \n",
      " 4   E       4 non-null      category     \n",
      " 5   F       4 non-null      object       \n",
      "dtypes: category(1), datetime64[s](1), float32(1), float64(1), int32(1), object(1)\n",
      "memory usage: 288.0+ bytes\n"
     ]
    }
   ],
   "source": [
    "dataframe.info()"
   ]
  },
  {
   "cell_type": "markdown",
   "id": "61191859",
   "metadata": {},
   "source": [
    "## Assign\n",
    "\n",
    "- It add new columns to a DataFrame. It returns a new DataFrame with the added columns, without modifying the original one."
   ]
  },
  {
   "cell_type": "code",
   "execution_count": 7,
   "id": "60a73b87",
   "metadata": {},
   "outputs": [
    {
     "data": {
      "text/html": [
       "<div>\n",
       "<style scoped>\n",
       "    .dataframe tbody tr th:only-of-type {\n",
       "        vertical-align: middle;\n",
       "    }\n",
       "\n",
       "    .dataframe tbody tr th {\n",
       "        vertical-align: top;\n",
       "    }\n",
       "\n",
       "    .dataframe thead th {\n",
       "        text-align: right;\n",
       "    }\n",
       "</style>\n",
       "<table border=\"1\" class=\"dataframe\">\n",
       "  <thead>\n",
       "    <tr style=\"text-align: right;\">\n",
       "      <th></th>\n",
       "      <th>A</th>\n",
       "      <th>B</th>\n",
       "      <th>C</th>\n",
       "      <th>D</th>\n",
       "      <th>E</th>\n",
       "      <th>F</th>\n",
       "      <th>D_multi</th>\n",
       "    </tr>\n",
       "  </thead>\n",
       "  <tbody>\n",
       "    <tr>\n",
       "      <th>0</th>\n",
       "      <td>1.0</td>\n",
       "      <td>2023-01-02</td>\n",
       "      <td>1.0</td>\n",
       "      <td>3</td>\n",
       "      <td>test</td>\n",
       "      <td>foo</td>\n",
       "      <td>4.0</td>\n",
       "    </tr>\n",
       "    <tr>\n",
       "      <th>1</th>\n",
       "      <td>1.0</td>\n",
       "      <td>2023-01-02</td>\n",
       "      <td>1.0</td>\n",
       "      <td>3</td>\n",
       "      <td>train</td>\n",
       "      <td>foo</td>\n",
       "      <td>4.0</td>\n",
       "    </tr>\n",
       "    <tr>\n",
       "      <th>2</th>\n",
       "      <td>1.0</td>\n",
       "      <td>2023-01-02</td>\n",
       "      <td>1.0</td>\n",
       "      <td>3</td>\n",
       "      <td>test</td>\n",
       "      <td>foo</td>\n",
       "      <td>4.0</td>\n",
       "    </tr>\n",
       "    <tr>\n",
       "      <th>3</th>\n",
       "      <td>1.0</td>\n",
       "      <td>2023-01-02</td>\n",
       "      <td>1.0</td>\n",
       "      <td>3</td>\n",
       "      <td>train</td>\n",
       "      <td>foo</td>\n",
       "      <td>4.0</td>\n",
       "    </tr>\n",
       "  </tbody>\n",
       "</table>\n",
       "</div>"
      ],
      "text/plain": [
       "     A          B    C  D      E    F  D_multi\n",
       "0  1.0 2023-01-02  1.0  3   test  foo      4.0\n",
       "1  1.0 2023-01-02  1.0  3  train  foo      4.0\n",
       "2  1.0 2023-01-02  1.0  3   test  foo      4.0\n",
       "3  1.0 2023-01-02  1.0  3  train  foo      4.0"
      ]
     },
     "execution_count": 7,
     "metadata": {},
     "output_type": "execute_result"
    }
   ],
   "source": [
    "dataframe.assign(D_multi=dataframe[\"D\"] + dataframe[\"A\"])"
   ]
  },
  {
   "cell_type": "markdown",
   "id": "0cb3d239",
   "metadata": {},
   "source": [
    "## Indexing and Selection"
   ]
  },
  {
   "cell_type": "markdown",
   "id": "9085034c",
   "metadata": {},
   "source": [
    "| Operation                        | Syntax           | Result     | \n",
    "|----------------------------------|------------------|------------|\n",
    "| Select column                    | `df[col]`        | Series     |\n",
    "| Select row by label             | `df.loc[label]`  | Series     |\n",
    "| Select row by integer location | `df.iloc[loc]`   | Series     |\n",
    "| Slice rows                       | `df[5:10]`       | DataFrame  |\n",
    "| Select rows by boolean vector   | `df[bool_vec]`   | DataFrame  |"
   ]
  },
  {
   "cell_type": "code",
   "execution_count": 8,
   "id": "3fbe39a9",
   "metadata": {},
   "outputs": [
    {
     "data": {
      "text/html": [
       "<div>\n",
       "<style scoped>\n",
       "    .dataframe tbody tr th:only-of-type {\n",
       "        vertical-align: middle;\n",
       "    }\n",
       "\n",
       "    .dataframe tbody tr th {\n",
       "        vertical-align: top;\n",
       "    }\n",
       "\n",
       "    .dataframe thead th {\n",
       "        text-align: right;\n",
       "    }\n",
       "</style>\n",
       "<table border=\"1\" class=\"dataframe\">\n",
       "  <thead>\n",
       "    <tr style=\"text-align: right;\">\n",
       "      <th></th>\n",
       "      <th>A</th>\n",
       "      <th>B</th>\n",
       "      <th>C</th>\n",
       "      <th>D</th>\n",
       "      <th>E</th>\n",
       "    </tr>\n",
       "  </thead>\n",
       "  <tbody>\n",
       "    <tr>\n",
       "      <th>0</th>\n",
       "      <td>0.916876</td>\n",
       "      <td>0.480658</td>\n",
       "      <td>0.800431</td>\n",
       "      <td>0.341440</td>\n",
       "      <td>0.750877</td>\n",
       "    </tr>\n",
       "    <tr>\n",
       "      <th>1</th>\n",
       "      <td>0.785624</td>\n",
       "      <td>0.379212</td>\n",
       "      <td>0.309245</td>\n",
       "      <td>0.134703</td>\n",
       "      <td>0.274035</td>\n",
       "    </tr>\n",
       "    <tr>\n",
       "      <th>2</th>\n",
       "      <td>0.123311</td>\n",
       "      <td>0.100469</td>\n",
       "      <td>0.800373</td>\n",
       "      <td>0.938661</td>\n",
       "      <td>0.879924</td>\n",
       "    </tr>\n",
       "    <tr>\n",
       "      <th>3</th>\n",
       "      <td>0.069857</td>\n",
       "      <td>0.586498</td>\n",
       "      <td>0.999678</td>\n",
       "      <td>0.375113</td>\n",
       "      <td>0.719195</td>\n",
       "    </tr>\n",
       "    <tr>\n",
       "      <th>4</th>\n",
       "      <td>0.515022</td>\n",
       "      <td>0.831374</td>\n",
       "      <td>0.118607</td>\n",
       "      <td>0.231559</td>\n",
       "      <td>0.046052</td>\n",
       "    </tr>\n",
       "    <tr>\n",
       "      <th>5</th>\n",
       "      <td>0.030939</td>\n",
       "      <td>0.577144</td>\n",
       "      <td>0.530527</td>\n",
       "      <td>0.748415</td>\n",
       "      <td>0.954475</td>\n",
       "    </tr>\n",
       "    <tr>\n",
       "      <th>6</th>\n",
       "      <td>0.870225</td>\n",
       "      <td>0.417478</td>\n",
       "      <td>0.126980</td>\n",
       "      <td>0.274361</td>\n",
       "      <td>0.359165</td>\n",
       "    </tr>\n",
       "  </tbody>\n",
       "</table>\n",
       "</div>"
      ],
      "text/plain": [
       "          A         B         C         D         E\n",
       "0  0.916876  0.480658  0.800431  0.341440  0.750877\n",
       "1  0.785624  0.379212  0.309245  0.134703  0.274035\n",
       "2  0.123311  0.100469  0.800373  0.938661  0.879924\n",
       "3  0.069857  0.586498  0.999678  0.375113  0.719195\n",
       "4  0.515022  0.831374  0.118607  0.231559  0.046052\n",
       "5  0.030939  0.577144  0.530527  0.748415  0.954475\n",
       "6  0.870225  0.417478  0.126980  0.274361  0.359165"
      ]
     },
     "execution_count": 8,
     "metadata": {},
     "output_type": "execute_result"
    }
   ],
   "source": [
    "df_index = pd.DataFrame({\n",
    "    \"A\" : np.random.random_sample(7),\n",
    "    \"B\" : np.random.random_sample(7),\n",
    "    \"C\" : np.random.random_sample(7),\n",
    "    \"D\" : np.random.random_sample(7),\n",
    "    \"E\" : np.random.random_sample(7),\n",
    "    })\n",
    "\n",
    "df_index"
   ]
  },
  {
   "cell_type": "code",
   "execution_count": 9,
   "id": "f8a0b68c",
   "metadata": {},
   "outputs": [
    {
     "data": {
      "text/plain": [
       "0    0.916876\n",
       "1    0.785624\n",
       "2    0.123311\n",
       "3    0.069857\n",
       "4    0.515022\n",
       "5    0.030939\n",
       "6    0.870225\n",
       "Name: A, dtype: float64"
      ]
     },
     "execution_count": 9,
     "metadata": {},
     "output_type": "execute_result"
    }
   ],
   "source": [
    "# Series (single column)\n",
    "df_index['A']"
   ]
  },
  {
   "cell_type": "code",
   "execution_count": 10,
   "id": "39032666",
   "metadata": {},
   "outputs": [
    {
     "data": {
      "text/plain": [
       "A    0.916876\n",
       "B    0.480658\n",
       "C    0.800431\n",
       "D    0.341440\n",
       "E    0.750877\n",
       "Name: 0, dtype: float64"
      ]
     },
     "execution_count": 10,
     "metadata": {},
     "output_type": "execute_result"
    }
   ],
   "source": [
    "# Series (single row)\n",
    "df_index.iloc[0]"
   ]
  },
  {
   "cell_type": "code",
   "execution_count": 11,
   "id": "9ff3baeb",
   "metadata": {},
   "outputs": [
    {
     "data": {
      "text/html": [
       "<div>\n",
       "<style scoped>\n",
       "    .dataframe tbody tr th:only-of-type {\n",
       "        vertical-align: middle;\n",
       "    }\n",
       "\n",
       "    .dataframe tbody tr th {\n",
       "        vertical-align: top;\n",
       "    }\n",
       "\n",
       "    .dataframe thead th {\n",
       "        text-align: right;\n",
       "    }\n",
       "</style>\n",
       "<table border=\"1\" class=\"dataframe\">\n",
       "  <thead>\n",
       "    <tr style=\"text-align: right;\">\n",
       "      <th></th>\n",
       "      <th>A</th>\n",
       "      <th>B</th>\n",
       "      <th>C</th>\n",
       "      <th>D</th>\n",
       "      <th>E</th>\n",
       "    </tr>\n",
       "  </thead>\n",
       "  <tbody>\n",
       "    <tr>\n",
       "      <th>0</th>\n",
       "      <td>0.916876</td>\n",
       "      <td>0.480658</td>\n",
       "      <td>0.800431</td>\n",
       "      <td>0.341440</td>\n",
       "      <td>0.750877</td>\n",
       "    </tr>\n",
       "    <tr>\n",
       "      <th>1</th>\n",
       "      <td>0.785624</td>\n",
       "      <td>0.379212</td>\n",
       "      <td>0.309245</td>\n",
       "      <td>0.134703</td>\n",
       "      <td>0.274035</td>\n",
       "    </tr>\n",
       "    <tr>\n",
       "      <th>2</th>\n",
       "      <td>0.123311</td>\n",
       "      <td>0.100469</td>\n",
       "      <td>0.800373</td>\n",
       "      <td>0.938661</td>\n",
       "      <td>0.879924</td>\n",
       "    </tr>\n",
       "  </tbody>\n",
       "</table>\n",
       "</div>"
      ],
      "text/plain": [
       "          A         B         C         D         E\n",
       "0  0.916876  0.480658  0.800431  0.341440  0.750877\n",
       "1  0.785624  0.379212  0.309245  0.134703  0.274035\n",
       "2  0.123311  0.100469  0.800373  0.938661  0.879924"
      ]
     },
     "execution_count": 11,
     "metadata": {},
     "output_type": "execute_result"
    }
   ],
   "source": [
    "# DataFrame (multiple rows)\n",
    "df_index.iloc[0:3]"
   ]
  },
  {
   "cell_type": "code",
   "execution_count": 12,
   "id": "67f092d6",
   "metadata": {},
   "outputs": [
    {
     "data": {
      "text/html": [
       "<div>\n",
       "<style scoped>\n",
       "    .dataframe tbody tr th:only-of-type {\n",
       "        vertical-align: middle;\n",
       "    }\n",
       "\n",
       "    .dataframe tbody tr th {\n",
       "        vertical-align: top;\n",
       "    }\n",
       "\n",
       "    .dataframe thead th {\n",
       "        text-align: right;\n",
       "    }\n",
       "</style>\n",
       "<table border=\"1\" class=\"dataframe\">\n",
       "  <thead>\n",
       "    <tr style=\"text-align: right;\">\n",
       "      <th></th>\n",
       "      <th>A</th>\n",
       "      <th>B</th>\n",
       "      <th>C</th>\n",
       "      <th>D</th>\n",
       "      <th>E</th>\n",
       "    </tr>\n",
       "  </thead>\n",
       "  <tbody>\n",
       "    <tr>\n",
       "      <th>0</th>\n",
       "      <td>0.916876</td>\n",
       "      <td>0.480658</td>\n",
       "      <td>0.800431</td>\n",
       "      <td>0.341440</td>\n",
       "      <td>0.750877</td>\n",
       "    </tr>\n",
       "    <tr>\n",
       "      <th>1</th>\n",
       "      <td>0.785624</td>\n",
       "      <td>0.379212</td>\n",
       "      <td>0.309245</td>\n",
       "      <td>0.134703</td>\n",
       "      <td>0.274035</td>\n",
       "    </tr>\n",
       "    <tr>\n",
       "      <th>2</th>\n",
       "      <td>0.123311</td>\n",
       "      <td>0.100469</td>\n",
       "      <td>0.800373</td>\n",
       "      <td>0.938661</td>\n",
       "      <td>0.879924</td>\n",
       "    </tr>\n",
       "  </tbody>\n",
       "</table>\n",
       "</div>"
      ],
      "text/plain": [
       "          A         B         C         D         E\n",
       "0  0.916876  0.480658  0.800431  0.341440  0.750877\n",
       "1  0.785624  0.379212  0.309245  0.134703  0.274035\n",
       "2  0.123311  0.100469  0.800373  0.938661  0.879924"
      ]
     },
     "execution_count": 12,
     "metadata": {},
     "output_type": "execute_result"
    }
   ],
   "source": [
    "df_index[0:3]"
   ]
  },
  {
   "cell_type": "code",
   "execution_count": 13,
   "id": "eca62a64",
   "metadata": {},
   "outputs": [
    {
     "data": {
      "text/html": [
       "<div>\n",
       "<style scoped>\n",
       "    .dataframe tbody tr th:only-of-type {\n",
       "        vertical-align: middle;\n",
       "    }\n",
       "\n",
       "    .dataframe tbody tr th {\n",
       "        vertical-align: top;\n",
       "    }\n",
       "\n",
       "    .dataframe thead th {\n",
       "        text-align: right;\n",
       "    }\n",
       "</style>\n",
       "<table border=\"1\" class=\"dataframe\">\n",
       "  <thead>\n",
       "    <tr style=\"text-align: right;\">\n",
       "      <th></th>\n",
       "      <th>A</th>\n",
       "      <th>B</th>\n",
       "      <th>C</th>\n",
       "      <th>D</th>\n",
       "      <th>E</th>\n",
       "    </tr>\n",
       "  </thead>\n",
       "  <tbody>\n",
       "    <tr>\n",
       "      <th>0</th>\n",
       "      <td>0.916876</td>\n",
       "      <td>0.480658</td>\n",
       "      <td>0.800431</td>\n",
       "      <td>0.34144</td>\n",
       "      <td>0.750877</td>\n",
       "    </tr>\n",
       "  </tbody>\n",
       "</table>\n",
       "</div>"
      ],
      "text/plain": [
       "          A         B         C        D         E\n",
       "0  0.916876  0.480658  0.800431  0.34144  0.750877"
      ]
     },
     "execution_count": 13,
     "metadata": {},
     "output_type": "execute_result"
    }
   ],
   "source": [
    "# DataFrame (filtered rows)\n",
    "df_index[df_index['A'] > 0.9]"
   ]
  }
 ],
 "metadata": {
  "kernelspec": {
   "display_name": "sklearn-env",
   "language": "python",
   "name": "python3"
  },
  "language_info": {
   "codemirror_mode": {
    "name": "ipython",
    "version": 3
   },
   "file_extension": ".py",
   "mimetype": "text/x-python",
   "name": "python",
   "nbconvert_exporter": "python",
   "pygments_lexer": "ipython3",
   "version": "3.10.18"
  }
 },
 "nbformat": 4,
 "nbformat_minor": 5
}
